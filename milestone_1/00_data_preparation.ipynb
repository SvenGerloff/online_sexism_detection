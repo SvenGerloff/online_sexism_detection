{
  "cells": [
    {
      "cell_type": "code",
      "id": "initial_id",
      "metadata": {
        "collapsed": true,
        "ExecuteTime": {
          "end_time": "2024-10-21T16:10:18.414642Z",
          "start_time": "2024-10-21T16:10:18.411725Z"
        },
        "id": "initial_id"
      },
      "source": [
        "import pandas as pd\n",
        "import json\n",
        "import re\n",
        "from collections import Counter\n",
        "import nltk\n",
        "from nltk.tokenize import word_tokenize, sent_tokenize\n",
        "import stanza"
      ],
      "outputs": [],
      "execution_count": 3
    },
    {
      "cell_type": "code",
      "source": [
        "from google.colab import drive\n",
        "drive.mount('/content/drive')"
      ],
      "metadata": {
        "id": "P0nCZdes4zXf",
        "outputId": "2b31d76d-c10b-4c93-9cff-64e1b468a9f8",
        "colab": {
          "base_uri": "https://localhost:8080/"
        }
      },
      "id": "P0nCZdes4zXf",
      "execution_count": 5,
      "outputs": [
        {
          "output_type": "stream",
          "name": "stdout",
          "text": [
            "Mounted at /content/drive\n"
          ]
        }
      ]
    },
    {
      "metadata": {
        "ExecuteTime": {
          "end_time": "2024-10-21T16:05:46.613674Z",
          "start_time": "2024-10-21T16:05:46.451650Z"
        },
        "id": "459b5fd911e63b",
        "outputId": "07ed64e4-fdc7-4c80-e7f6-b0d7d6c893d2"
      },
      "cell_type": "code",
      "source": [
        "file_path = '/content/drive/MyDrive/online_sexism_detection/01_data/edos_labelled_individual_annotations.csv'\n",
        "df = pd.read_csv(file_path)\n",
        "df"
      ],
      "id": "459b5fd911e63b",
      "outputs": [
        {
          "data": {
            "text/plain": [
              "                     rewire_id  \\\n",
              "0         sexism2022_english-0   \n",
              "1         sexism2022_english-0   \n",
              "2         sexism2022_english-0   \n",
              "3         sexism2022_english-1   \n",
              "4         sexism2022_english-1   \n",
              "...                        ...   \n",
              "59995  sexism2022_english-9998   \n",
              "59996  sexism2022_english-9998   \n",
              "59997  sexism2022_english-9999   \n",
              "59998  sexism2022_english-9999   \n",
              "59999  sexism2022_english-9999   \n",
              "\n",
              "                                                    text  annotator  \\\n",
              "0      [USER] I wonder what keeps that witch looking ...         17   \n",
              "1      [USER] I wonder what keeps that witch looking ...          2   \n",
              "2      [USER] I wonder what keeps that witch looking ...          6   \n",
              "3      What do you guys think about female \"incels\"? ...         17   \n",
              "4      What do you guys think about female \"incels\"? ...         15   \n",
              "...                                                  ...        ...   \n",
              "59995  Since 1973, America has sanctioned the murder ...          2   \n",
              "59996  Since 1973, America has sanctioned the murder ...         16   \n",
              "59997  Laura Bates Lol she looks like she'd suck the ...          2   \n",
              "59998  Laura Bates Lol she looks like she'd suck the ...         16   \n",
              "59999  Laura Bates Lol she looks like she'd suck the ...         17   \n",
              "\n",
              "      label_sexist             label_category  \\\n",
              "0           sexist              2. derogation   \n",
              "1           sexist              2. derogation   \n",
              "2       not sexist                       none   \n",
              "3       not sexist                       none   \n",
              "4       not sexist                       none   \n",
              "...            ...                        ...   \n",
              "59995       sexist  4. prejudiced discussions   \n",
              "59996   not sexist                       none   \n",
              "59997       sexist              2. derogation   \n",
              "59998   not sexist                       none   \n",
              "59999       sexist              2. derogation   \n",
              "\n",
              "                                            label_vector  split  \n",
              "0                     2.2 aggressive and emotive attacks  train  \n",
              "1                     2.2 aggressive and emotive attacks  train  \n",
              "2                                                   none  train  \n",
              "3                                                   none  train  \n",
              "4                                                   none  train  \n",
              "...                                                  ...    ...  \n",
              "59995  4.2 supporting systemic discrimination against...   test  \n",
              "59996                                               none   test  \n",
              "59997                 2.2 aggressive and emotive attacks  train  \n",
              "59998                                               none  train  \n",
              "59999                 2.2 aggressive and emotive attacks  train  \n",
              "\n",
              "[60000 rows x 7 columns]"
            ],
            "text/html": [
              "<div>\n",
              "<style scoped>\n",
              "    .dataframe tbody tr th:only-of-type {\n",
              "        vertical-align: middle;\n",
              "    }\n",
              "\n",
              "    .dataframe tbody tr th {\n",
              "        vertical-align: top;\n",
              "    }\n",
              "\n",
              "    .dataframe thead th {\n",
              "        text-align: right;\n",
              "    }\n",
              "</style>\n",
              "<table border=\"1\" class=\"dataframe\">\n",
              "  <thead>\n",
              "    <tr style=\"text-align: right;\">\n",
              "      <th></th>\n",
              "      <th>rewire_id</th>\n",
              "      <th>text</th>\n",
              "      <th>annotator</th>\n",
              "      <th>label_sexist</th>\n",
              "      <th>label_category</th>\n",
              "      <th>label_vector</th>\n",
              "      <th>split</th>\n",
              "    </tr>\n",
              "  </thead>\n",
              "  <tbody>\n",
              "    <tr>\n",
              "      <th>0</th>\n",
              "      <td>sexism2022_english-0</td>\n",
              "      <td>[USER] I wonder what keeps that witch looking ...</td>\n",
              "      <td>17</td>\n",
              "      <td>sexist</td>\n",
              "      <td>2. derogation</td>\n",
              "      <td>2.2 aggressive and emotive attacks</td>\n",
              "      <td>train</td>\n",
              "    </tr>\n",
              "    <tr>\n",
              "      <th>1</th>\n",
              "      <td>sexism2022_english-0</td>\n",
              "      <td>[USER] I wonder what keeps that witch looking ...</td>\n",
              "      <td>2</td>\n",
              "      <td>sexist</td>\n",
              "      <td>2. derogation</td>\n",
              "      <td>2.2 aggressive and emotive attacks</td>\n",
              "      <td>train</td>\n",
              "    </tr>\n",
              "    <tr>\n",
              "      <th>2</th>\n",
              "      <td>sexism2022_english-0</td>\n",
              "      <td>[USER] I wonder what keeps that witch looking ...</td>\n",
              "      <td>6</td>\n",
              "      <td>not sexist</td>\n",
              "      <td>none</td>\n",
              "      <td>none</td>\n",
              "      <td>train</td>\n",
              "    </tr>\n",
              "    <tr>\n",
              "      <th>3</th>\n",
              "      <td>sexism2022_english-1</td>\n",
              "      <td>What do you guys think about female \"incels\"? ...</td>\n",
              "      <td>17</td>\n",
              "      <td>not sexist</td>\n",
              "      <td>none</td>\n",
              "      <td>none</td>\n",
              "      <td>train</td>\n",
              "    </tr>\n",
              "    <tr>\n",
              "      <th>4</th>\n",
              "      <td>sexism2022_english-1</td>\n",
              "      <td>What do you guys think about female \"incels\"? ...</td>\n",
              "      <td>15</td>\n",
              "      <td>not sexist</td>\n",
              "      <td>none</td>\n",
              "      <td>none</td>\n",
              "      <td>train</td>\n",
              "    </tr>\n",
              "    <tr>\n",
              "      <th>...</th>\n",
              "      <td>...</td>\n",
              "      <td>...</td>\n",
              "      <td>...</td>\n",
              "      <td>...</td>\n",
              "      <td>...</td>\n",
              "      <td>...</td>\n",
              "      <td>...</td>\n",
              "    </tr>\n",
              "    <tr>\n",
              "      <th>59995</th>\n",
              "      <td>sexism2022_english-9998</td>\n",
              "      <td>Since 1973, America has sanctioned the murder ...</td>\n",
              "      <td>2</td>\n",
              "      <td>sexist</td>\n",
              "      <td>4. prejudiced discussions</td>\n",
              "      <td>4.2 supporting systemic discrimination against...</td>\n",
              "      <td>test</td>\n",
              "    </tr>\n",
              "    <tr>\n",
              "      <th>59996</th>\n",
              "      <td>sexism2022_english-9998</td>\n",
              "      <td>Since 1973, America has sanctioned the murder ...</td>\n",
              "      <td>16</td>\n",
              "      <td>not sexist</td>\n",
              "      <td>none</td>\n",
              "      <td>none</td>\n",
              "      <td>test</td>\n",
              "    </tr>\n",
              "    <tr>\n",
              "      <th>59997</th>\n",
              "      <td>sexism2022_english-9999</td>\n",
              "      <td>Laura Bates Lol she looks like she'd suck the ...</td>\n",
              "      <td>2</td>\n",
              "      <td>sexist</td>\n",
              "      <td>2. derogation</td>\n",
              "      <td>2.2 aggressive and emotive attacks</td>\n",
              "      <td>train</td>\n",
              "    </tr>\n",
              "    <tr>\n",
              "      <th>59998</th>\n",
              "      <td>sexism2022_english-9999</td>\n",
              "      <td>Laura Bates Lol she looks like she'd suck the ...</td>\n",
              "      <td>16</td>\n",
              "      <td>not sexist</td>\n",
              "      <td>none</td>\n",
              "      <td>none</td>\n",
              "      <td>train</td>\n",
              "    </tr>\n",
              "    <tr>\n",
              "      <th>59999</th>\n",
              "      <td>sexism2022_english-9999</td>\n",
              "      <td>Laura Bates Lol she looks like she'd suck the ...</td>\n",
              "      <td>17</td>\n",
              "      <td>sexist</td>\n",
              "      <td>2. derogation</td>\n",
              "      <td>2.2 aggressive and emotive attacks</td>\n",
              "      <td>train</td>\n",
              "    </tr>\n",
              "  </tbody>\n",
              "</table>\n",
              "<p>60000 rows × 7 columns</p>\n",
              "</div>"
            ]
          },
          "execution_count": 2,
          "metadata": {},
          "output_type": "execute_result"
        }
      ],
      "execution_count": null
    },
    {
      "metadata": {
        "ExecuteTime": {
          "end_time": "2024-10-21T16:05:52.701976Z",
          "start_time": "2024-10-21T16:05:52.694306Z"
        },
        "id": "c1cf8c1e3b1cd6e8"
      },
      "cell_type": "code",
      "source": [
        "df.rename(columns={'label_sexist': 'label'}, inplace=True)\n",
        "df['label'] = df['label'].map({'sexist': 1, 'not sexist': 0})"
      ],
      "id": "c1cf8c1e3b1cd6e8",
      "outputs": [],
      "execution_count": null
    },
    {
      "metadata": {
        "ExecuteTime": {
          "end_time": "2024-10-21T16:09:09.561144Z",
          "start_time": "2024-10-21T16:09:09.526835Z"
        },
        "id": "f14f1638657013c5",
        "outputId": "1e4a57f7-fecc-4e71-a8a5-02778ffcb3cb"
      },
      "cell_type": "code",
      "source": [
        "nltk.download('punkt')\n",
        "nltk.download('stopwords')"
      ],
      "id": "f14f1638657013c5",
      "outputs": [
        {
          "name": "stderr",
          "output_type": "stream",
          "text": [
            "[nltk_data] Error loading punkt: <urlopen error [SSL:\n",
            "[nltk_data]     CERTIFICATE_VERIFY_FAILED] certificate verify failed:\n",
            "[nltk_data]     unable to get local issuer certificate (_ssl.c:1020)>\n",
            "[nltk_data] Error loading stopwords: <urlopen error [SSL:\n",
            "[nltk_data]     CERTIFICATE_VERIFY_FAILED] certificate verify failed:\n",
            "[nltk_data]     unable to get local issuer certificate (_ssl.c:1020)>\n"
          ]
        },
        {
          "data": {
            "text/plain": [
              "False"
            ]
          },
          "execution_count": 16,
          "metadata": {},
          "output_type": "execute_result"
        }
      ],
      "execution_count": null
    },
    {
      "metadata": {
        "ExecuteTime": {
          "end_time": "2024-10-21T16:11:40.607229Z",
          "start_time": "2024-10-21T16:11:40.593130Z"
        },
        "id": "32d47f9cdc158f4d",
        "outputId": "68c4d6a2-44e5-47db-fb8a-da6db787f15a"
      },
      "cell_type": "code",
      "source": [
        "nlp = stanza.Pipeline('en', processors='tokenize,lemma,pos')"
      ],
      "id": "32d47f9cdc158f4d",
      "outputs": [
        {
          "ename": "AttributeError",
          "evalue": "module 'stanza' has no attribute 'Pipeline'",
          "output_type": "error",
          "traceback": [
            "\u001b[0;31m---------------------------------------------------------------------------\u001b[0m",
            "\u001b[0;31mAttributeError\u001b[0m                            Traceback (most recent call last)",
            "Cell \u001b[0;32mIn[19], line 1\u001b[0m\n\u001b[0;32m----> 1\u001b[0m nlp \u001b[38;5;241m=\u001b[39m \u001b[43mstanza\u001b[49m\u001b[38;5;241;43m.\u001b[39;49m\u001b[43mPipeline\u001b[49m(\u001b[38;5;124m'\u001b[39m\u001b[38;5;124men\u001b[39m\u001b[38;5;124m'\u001b[39m, processors\u001b[38;5;241m=\u001b[39m\u001b[38;5;124m'\u001b[39m\u001b[38;5;124mtokenize,lemma,pos\u001b[39m\u001b[38;5;124m'\u001b[39m)\n",
            "\u001b[0;31mAttributeError\u001b[0m: module 'stanza' has no attribute 'Pipeline'"
          ]
        }
      ],
      "execution_count": null
    },
    {
      "metadata": {
        "id": "5a4170d6c7ec135e"
      },
      "cell_type": "code",
      "outputs": [],
      "execution_count": null,
      "source": [],
      "id": "5a4170d6c7ec135e"
    }
  ],
  "metadata": {
    "kernelspec": {
      "display_name": "Python 3",
      "language": "python",
      "name": "python3"
    },
    "language_info": {
      "codemirror_mode": {
        "name": "ipython",
        "version": 2
      },
      "file_extension": ".py",
      "mimetype": "text/x-python",
      "name": "python",
      "nbconvert_exporter": "python",
      "pygments_lexer": "ipython2",
      "version": "2.7.6"
    },
    "colab": {
      "provenance": []
    }
  },
  "nbformat": 4,
  "nbformat_minor": 5
}