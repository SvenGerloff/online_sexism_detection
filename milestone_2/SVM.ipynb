{
 "cells": [
  {
   "cell_type": "markdown",
   "metadata": {},
   "source": [
    "#SVM"
   ]
  },
  {
   "cell_type": "code",
   "execution_count": 1,
   "metadata": {},
   "outputs": [
    {
     "name": "stderr",
     "output_type": "stream",
     "text": [
      "/Users/mac/Downloads/online_sexism_detection/.venv/lib/python3.9/site-packages/urllib3/__init__.py:35: NotOpenSSLWarning: urllib3 v2 only supports OpenSSL 1.1.1+, currently the 'ssl' module is compiled with 'LibreSSL 2.8.3'. See: https://github.com/urllib3/urllib3/issues/3020\n",
      "  warnings.warn(\n"
     ]
    }
   ],
   "source": [
    "import pandas as pd\n",
    "import os\n",
    "from sklearn.model_selection import train_test_split\n",
    "from sklearn.linear_model import LogisticRegression\n",
    "from sklearn.svm import SVC\n",
    "from sklearn.metrics import classification_report, confusion_matrix\n",
    "from sklearn.metrics import f1_score, balanced_accuracy_score, accuracy_score, classification_report, confusion_matrix\n",
    "from imblearn.over_sampling import SMOTE\n",
    "from gensim.models import Word2Vec\n",
    "import numpy as npb \n",
    "import seaborn as sns\n",
    "from sklearn.feature_extraction.text import TfidfVectorizer\n",
    "import yaml\n",
    "import wandb\n"
   ]
  },
  {
   "cell_type": "markdown",
   "metadata": {},
   "source": [
    "import sys\n",
    "# Import functions from preprocessing module\n",
    "sys.path.append('..')\n",
    "from utils.load_data import load_processed_data"
   ]
  },
  {
   "cell_type": "code",
   "execution_count": 2,
   "metadata": {},
   "outputs": [
    {
     "name": "stdout",
     "output_type": "stream",
     "text": [
      "Import successful!\n",
      "Data loaded\n"
     ]
    }
   ],
   "source": [
    "import sys\n",
    "import os\n",
    "\n",
    "# Add the absolute path to the utils directory\n",
    "sys.path.append('/Users/mac/Downloads/online_sexism_detection/utils')\n",
    "\n",
    "# Now try importing the function\n",
    "try:\n",
    "    from load_data import load_processed_data\n",
    "    print(\"Import successful!\")\n",
    "except ModuleNotFoundError as e:\n",
    "    print(\"Error importing module:\", e)\n",
    "\n",
    "# Define the paths to your parquet files\n",
    "train_parquet = '/Users/mac/Downloads/online_sexism_detection/data/train.parquet'\n",
    "dev_parquet = '/Users/mac/Downloads/online_sexism_detection/data/dev.parquet'\n",
    "test_parquet = '/Users/mac/Downloads/online_sexism_detection/data/test.parquet'\n",
    "\n",
    "# Use globals() to make these variables accessible in load_data.py\n",
    "globals()['train_parquet'] = train_parquet\n",
    "globals()['dev_parquet'] = dev_parquet\n",
    "globals()['test_parquet'] = test_parquet\n",
    "\n",
    "# Now call the function\n",
    "data = load_processed_data()"
   ]
  },
  {
   "cell_type": "markdown",
   "metadata": {},
   "source": [
    "## Load data"
   ]
  },
  {
   "cell_type": "code",
   "execution_count": 3,
   "metadata": {},
   "outputs": [
    {
     "name": "stdout",
     "output_type": "stream",
     "text": [
      "Data loaded\n"
     ]
    }
   ],
   "source": [
    "df = load_processed_data()\n",
    "train_data = df[\"train\"]\n",
    "test_data = df[\"test\"]\n",
    "dev_data = df[\"dev\"]\n",
    "\n",
    "X_train, y_train = train_data[\"lemma\"], train_data[\"label\"]\n",
    "X_test, y_test = test_data[\"lemma\"], test_data[\"label\"]\n",
    "X_dev, y_dev = dev_data[\"lemma\"], dev_data[\"label\"]"
   ]
  },
  {
   "cell_type": "markdown",
   "metadata": {},
   "source": [
    "##TF-IDF"
   ]
  },
  {
   "cell_type": "code",
   "execution_count": 4,
   "metadata": {},
   "outputs": [],
   "source": [
    "tfidf_params_list = [\n",
    "    {'max_features': 3000, 'ngram_range': (1, 1), 'min_df': 5},\n",
    "    {'max_features': 3000, 'ngram_range': (1, 2), 'min_df': 5},\n",
    "    {'max_features': 5000, 'ngram_range': (1, 1), 'min_df': 5},\n",
    "    {'max_features': 5000, 'ngram_range': (1, 2), 'min_df': 5},\n",
    "    {'max_features': 10000, 'ngram_range': (1, 1), 'min_df': 5},\n",
    "    {'max_features': 10000, 'ngram_range': (1, 2), 'min_df': 5}\n",
    "]"
   ]
  },
  {
   "cell_type": "code",
   "execution_count": 5,
   "metadata": {},
   "outputs": [
    {
     "name": "stderr",
     "output_type": "stream",
     "text": [
      "\u001b[34m\u001b[1mwandb\u001b[0m: Using wandb-core as the SDK backend.  Please refer to https://wandb.me/wandb-core for more information.\n",
      "\u001b[34m\u001b[1mwandb\u001b[0m: Currently logged in as: \u001b[33me12409115\u001b[0m (\u001b[33monline_sexism_detection\u001b[0m). Use \u001b[1m`wandb login --relogin`\u001b[0m to force relogin\n"
     ]
    },
    {
     "data": {
      "text/html": [
       "Tracking run with wandb version 0.19.0"
      ],
      "text/plain": [
       "<IPython.core.display.HTML object>"
      ]
     },
     "metadata": {},
     "output_type": "display_data"
    },
    {
     "data": {
      "text/html": [
       "Run data is saved locally in <code>/Users/mac/Downloads/online_sexism_detection/milestone_2/wandb/run-20241211_103726-6vj4hekx</code>"
      ],
      "text/plain": [
       "<IPython.core.display.HTML object>"
      ]
     },
     "metadata": {},
     "output_type": "display_data"
    },
    {
     "data": {
      "text/html": [
       "Syncing run <strong><a href='https://wandb.ai/online_sexism_detection/online_sexism_detection/runs/6vj4hekx' target=\"_blank\">tfidf_svm</a></strong> to <a href='https://wandb.ai/online_sexism_detection/online_sexism_detection' target=\"_blank\">Weights & Biases</a> (<a href='https://wandb.me/developer-guide' target=\"_blank\">docs</a>)<br/>"
      ],
      "text/plain": [
       "<IPython.core.display.HTML object>"
      ]
     },
     "metadata": {},
     "output_type": "display_data"
    },
    {
     "data": {
      "text/html": [
       " View project at <a href='https://wandb.ai/online_sexism_detection/online_sexism_detection' target=\"_blank\">https://wandb.ai/online_sexism_detection/online_sexism_detection</a>"
      ],
      "text/plain": [
       "<IPython.core.display.HTML object>"
      ]
     },
     "metadata": {},
     "output_type": "display_data"
    },
    {
     "data": {
      "text/html": [
       " View run at <a href='https://wandb.ai/online_sexism_detection/online_sexism_detection/runs/6vj4hekx' target=\"_blank\">https://wandb.ai/online_sexism_detection/online_sexism_detection/runs/6vj4hekx</a>"
      ],
      "text/plain": [
       "<IPython.core.display.HTML object>"
      ]
     },
     "metadata": {},
     "output_type": "display_data"
    },
    {
     "name": "stderr",
     "output_type": "stream",
     "text": [
      "/Users/mac/Downloads/online_sexism_detection/.venv/lib/python3.9/site-packages/sklearn/base.py:474: FutureWarning: `BaseEstimator._validate_data` is deprecated in 1.6 and will be removed in 1.7. Use `sklearn.utils.validation.validate_data` instead. This function becomes public and is part of the scikit-learn developer API.\n",
      "  warnings.warn(\n",
      "/Users/mac/Downloads/online_sexism_detection/.venv/lib/python3.9/site-packages/sklearn/utils/_tags.py:354: FutureWarning: The SMOTE or classes from which it inherits use `_get_tags` and `_more_tags`. Please define the `__sklearn_tags__` method, or inherit from `sklearn.base.BaseEstimator` and/or other appropriate mixins such as `sklearn.base.TransformerMixin`, `sklearn.base.ClassifierMixin`, `sklearn.base.RegressorMixin`, and `sklearn.base.OutlierMixin`. From scikit-learn 1.7, not defining `__sklearn_tags__` will raise an error.\n",
      "  warnings.warn(\n"
     ]
    },
    {
     "name": "stdout",
     "output_type": "stream",
     "text": [
      "SVM Results:\n",
      "[[2965   65]\n",
      " [ 600  370]]\n",
      "              precision    recall  f1-score   support\n",
      "\n",
      "           0       0.83      0.98      0.90      3030\n",
      "           1       0.85      0.38      0.53       970\n",
      "\n",
      "    accuracy                           0.83      4000\n",
      "   macro avg       0.84      0.68      0.71      4000\n",
      "weighted avg       0.84      0.83      0.81      4000\n",
      "\n"
     ]
    },
    {
     "name": "stderr",
     "output_type": "stream",
     "text": [
      "/Users/mac/Downloads/online_sexism_detection/.venv/lib/python3.9/site-packages/sklearn/base.py:474: FutureWarning: `BaseEstimator._validate_data` is deprecated in 1.6 and will be removed in 1.7. Use `sklearn.utils.validation.validate_data` instead. This function becomes public and is part of the scikit-learn developer API.\n",
      "  warnings.warn(\n",
      "/Users/mac/Downloads/online_sexism_detection/.venv/lib/python3.9/site-packages/sklearn/utils/_tags.py:354: FutureWarning: The SMOTE or classes from which it inherits use `_get_tags` and `_more_tags`. Please define the `__sklearn_tags__` method, or inherit from `sklearn.base.BaseEstimator` and/or other appropriate mixins such as `sklearn.base.TransformerMixin`, `sklearn.base.ClassifierMixin`, `sklearn.base.RegressorMixin`, and `sklearn.base.OutlierMixin`. From scikit-learn 1.7, not defining `__sklearn_tags__` will raise an error.\n",
      "  warnings.warn(\n"
     ]
    },
    {
     "name": "stdout",
     "output_type": "stream",
     "text": [
      "SVM Results:\n",
      "[[2948   82]\n",
      " [ 574  396]]\n",
      "              precision    recall  f1-score   support\n",
      "\n",
      "           0       0.84      0.97      0.90      3030\n",
      "           1       0.83      0.41      0.55       970\n",
      "\n",
      "    accuracy                           0.84      4000\n",
      "   macro avg       0.83      0.69      0.72      4000\n",
      "weighted avg       0.83      0.84      0.81      4000\n",
      "\n"
     ]
    },
    {
     "name": "stderr",
     "output_type": "stream",
     "text": [
      "/Users/mac/Downloads/online_sexism_detection/.venv/lib/python3.9/site-packages/sklearn/base.py:474: FutureWarning: `BaseEstimator._validate_data` is deprecated in 1.6 and will be removed in 1.7. Use `sklearn.utils.validation.validate_data` instead. This function becomes public and is part of the scikit-learn developer API.\n",
      "  warnings.warn(\n",
      "/Users/mac/Downloads/online_sexism_detection/.venv/lib/python3.9/site-packages/sklearn/utils/_tags.py:354: FutureWarning: The SMOTE or classes from which it inherits use `_get_tags` and `_more_tags`. Please define the `__sklearn_tags__` method, or inherit from `sklearn.base.BaseEstimator` and/or other appropriate mixins such as `sklearn.base.TransformerMixin`, `sklearn.base.ClassifierMixin`, `sklearn.base.RegressorMixin`, and `sklearn.base.OutlierMixin`. From scikit-learn 1.7, not defining `__sklearn_tags__` will raise an error.\n",
      "  warnings.warn(\n"
     ]
    },
    {
     "name": "stdout",
     "output_type": "stream",
     "text": [
      "SVM Results:\n",
      "[[2965   65]\n",
      " [ 607  363]]\n",
      "              precision    recall  f1-score   support\n",
      "\n",
      "           0       0.83      0.98      0.90      3030\n",
      "           1       0.85      0.37      0.52       970\n",
      "\n",
      "    accuracy                           0.83      4000\n",
      "   macro avg       0.84      0.68      0.71      4000\n",
      "weighted avg       0.83      0.83      0.81      4000\n",
      "\n"
     ]
    },
    {
     "name": "stderr",
     "output_type": "stream",
     "text": [
      "/Users/mac/Downloads/online_sexism_detection/.venv/lib/python3.9/site-packages/sklearn/base.py:474: FutureWarning: `BaseEstimator._validate_data` is deprecated in 1.6 and will be removed in 1.7. Use `sklearn.utils.validation.validate_data` instead. This function becomes public and is part of the scikit-learn developer API.\n",
      "  warnings.warn(\n",
      "/Users/mac/Downloads/online_sexism_detection/.venv/lib/python3.9/site-packages/sklearn/utils/_tags.py:354: FutureWarning: The SMOTE or classes from which it inherits use `_get_tags` and `_more_tags`. Please define the `__sklearn_tags__` method, or inherit from `sklearn.base.BaseEstimator` and/or other appropriate mixins such as `sklearn.base.TransformerMixin`, `sklearn.base.ClassifierMixin`, `sklearn.base.RegressorMixin`, and `sklearn.base.OutlierMixin`. From scikit-learn 1.7, not defining `__sklearn_tags__` will raise an error.\n",
      "  warnings.warn(\n"
     ]
    },
    {
     "name": "stdout",
     "output_type": "stream",
     "text": [
      "SVM Results:\n",
      "[[2963   67]\n",
      " [ 588  382]]\n",
      "              precision    recall  f1-score   support\n",
      "\n",
      "           0       0.83      0.98      0.90      3030\n",
      "           1       0.85      0.39      0.54       970\n",
      "\n",
      "    accuracy                           0.84      4000\n",
      "   macro avg       0.84      0.69      0.72      4000\n",
      "weighted avg       0.84      0.84      0.81      4000\n",
      "\n"
     ]
    },
    {
     "name": "stderr",
     "output_type": "stream",
     "text": [
      "/Users/mac/Downloads/online_sexism_detection/.venv/lib/python3.9/site-packages/sklearn/base.py:474: FutureWarning: `BaseEstimator._validate_data` is deprecated in 1.6 and will be removed in 1.7. Use `sklearn.utils.validation.validate_data` instead. This function becomes public and is part of the scikit-learn developer API.\n",
      "  warnings.warn(\n",
      "/Users/mac/Downloads/online_sexism_detection/.venv/lib/python3.9/site-packages/sklearn/utils/_tags.py:354: FutureWarning: The SMOTE or classes from which it inherits use `_get_tags` and `_more_tags`. Please define the `__sklearn_tags__` method, or inherit from `sklearn.base.BaseEstimator` and/or other appropriate mixins such as `sklearn.base.TransformerMixin`, `sklearn.base.ClassifierMixin`, `sklearn.base.RegressorMixin`, and `sklearn.base.OutlierMixin`. From scikit-learn 1.7, not defining `__sklearn_tags__` will raise an error.\n",
      "  warnings.warn(\n"
     ]
    },
    {
     "name": "stdout",
     "output_type": "stream",
     "text": [
      "SVM Results:\n",
      "[[2965   65]\n",
      " [ 607  363]]\n",
      "              precision    recall  f1-score   support\n",
      "\n",
      "           0       0.83      0.98      0.90      3030\n",
      "           1       0.85      0.37      0.52       970\n",
      "\n",
      "    accuracy                           0.83      4000\n",
      "   macro avg       0.84      0.68      0.71      4000\n",
      "weighted avg       0.83      0.83      0.81      4000\n",
      "\n"
     ]
    },
    {
     "name": "stderr",
     "output_type": "stream",
     "text": [
      "/Users/mac/Downloads/online_sexism_detection/.venv/lib/python3.9/site-packages/sklearn/base.py:474: FutureWarning: `BaseEstimator._validate_data` is deprecated in 1.6 and will be removed in 1.7. Use `sklearn.utils.validation.validate_data` instead. This function becomes public and is part of the scikit-learn developer API.\n",
      "  warnings.warn(\n",
      "/Users/mac/Downloads/online_sexism_detection/.venv/lib/python3.9/site-packages/sklearn/utils/_tags.py:354: FutureWarning: The SMOTE or classes from which it inherits use `_get_tags` and `_more_tags`. Please define the `__sklearn_tags__` method, or inherit from `sklearn.base.BaseEstimator` and/or other appropriate mixins such as `sklearn.base.TransformerMixin`, `sklearn.base.ClassifierMixin`, `sklearn.base.RegressorMixin`, and `sklearn.base.OutlierMixin`. From scikit-learn 1.7, not defining `__sklearn_tags__` will raise an error.\n",
      "  warnings.warn(\n"
     ]
    },
    {
     "name": "stdout",
     "output_type": "stream",
     "text": [
      "SVM Results:\n",
      "[[2963   67]\n",
      " [ 598  372]]\n",
      "              precision    recall  f1-score   support\n",
      "\n",
      "           0       0.83      0.98      0.90      3030\n",
      "           1       0.85      0.38      0.53       970\n",
      "\n",
      "    accuracy                           0.83      4000\n",
      "   macro avg       0.84      0.68      0.71      4000\n",
      "weighted avg       0.84      0.83      0.81      4000\n",
      "\n"
     ]
    },
    {
     "data": {
      "text/html": [
       "\n",
       "    <style>\n",
       "        .wandb-row {\n",
       "            display: flex;\n",
       "            flex-direction: row;\n",
       "            flex-wrap: wrap;\n",
       "            justify-content: flex-start;\n",
       "            width: 100%;\n",
       "        }\n",
       "        .wandb-col {\n",
       "            display: flex;\n",
       "            flex-direction: column;\n",
       "            flex-basis: 100%;\n",
       "            flex: 1;\n",
       "            padding: 10px;\n",
       "        }\n",
       "    </style>\n",
       "<div class=\"wandb-row\"><div class=\"wandb-col\"><h3>Run history:</h3><br/><table class=\"wandb\"><tr><td>accuracy</td><td>▄█▁█▁▄</td></tr><tr><td>balanced_accuracy</td><td>▃█▁▆▁▃</td></tr><tr><td>f1</td><td>▃█▁▆▁▃</td></tr></table><br/></div><div class=\"wandb-col\"><h3>Run summary:</h3><br/><table class=\"wandb\"><tr><td>accuracy</td><td>0.83375</td></tr><tr><td>balanced_accuracy</td><td>0.6807</td></tr><tr><td>f1</td><td>0.52803</td></tr></table><br/></div></div>"
      ],
      "text/plain": [
       "<IPython.core.display.HTML object>"
      ]
     },
     "metadata": {},
     "output_type": "display_data"
    },
    {
     "data": {
      "text/html": [
       " View run <strong style=\"color:#cdcd00\">tfidf_svm</strong> at: <a href='https://wandb.ai/online_sexism_detection/online_sexism_detection/runs/6vj4hekx' target=\"_blank\">https://wandb.ai/online_sexism_detection/online_sexism_detection/runs/6vj4hekx</a><br/> View project at: <a href='https://wandb.ai/online_sexism_detection/online_sexism_detection' target=\"_blank\">https://wandb.ai/online_sexism_detection/online_sexism_detection</a><br/>Synced 5 W&B file(s), 0 media file(s), 0 artifact file(s) and 0 other file(s)"
      ],
      "text/plain": [
       "<IPython.core.display.HTML object>"
      ]
     },
     "metadata": {},
     "output_type": "display_data"
    },
    {
     "data": {
      "text/html": [
       "Find logs at: <code>./wandb/run-20241211_103726-6vj4hekx/logs</code>"
      ],
      "text/plain": [
       "<IPython.core.display.HTML object>"
      ]
     },
     "metadata": {},
     "output_type": "display_data"
    }
   ],
   "source": [
    "wandb.init(project=\"online_sexism_detection\", name=\"tfidf_svm\")\n",
    "for tfidf_params in tfidf_params_list:\n",
    "    vectorizer = TfidfVectorizer(**tfidf_params)\n",
    "    X_train_tfidf = vectorizer.fit_transform(X_train)\n",
    "    X_test_tfidf = vectorizer.transform(X_test)\n",
    "\n",
    "    # Apply SMOTE to handle class imbalance\n",
    "    smote = SMOTE(random_state=42)\n",
    "    X_resampled, y_resampled = smote.fit_resample(X_train_tfidf, y_train)\n",
    "\n",
    "    # Train the SVM model\n",
    "    svm_model = SVC(random_state=42, class_weight='balanced', probability=True)\n",
    "    svm_model.fit(X_resampled, y_resampled)\n",
    "\n",
    "    # Make predictions with SVM\n",
    "    y_pred_svm = svm_model.predict(X_test_tfidf)\n",
    "\n",
    "    # Evaluate the SVM model\n",
    "    print(\"SVM Results:\")\n",
    "    print(confusion_matrix(y_test, y_pred_svm))\n",
    "    print(classification_report(y_test, y_pred_svm))\n",
    "\n",
    "    # Log results\n",
    "    wandb.log({\n",
    "        'tfidf_params': tfidf_params,\n",
    "        \"f1\": f1_score(y_test, y_pred_svm),\n",
    "        \"balanced_accuracy\": balanced_accuracy_score(y_test, y_pred_svm),\n",
    "        \"accuracy\": accuracy_score(y_test, y_pred_svm),\n",
    "    })\n",
    "\n",
    "wandb.finish()\n"
   ]
  },
  {
   "cell_type": "markdown",
   "metadata": {},
   "source": [
    "## Word2vec"
   ]
  },
  {
   "cell_type": "code",
   "execution_count": 6,
   "metadata": {},
   "outputs": [],
   "source": [
    "word2vec_params_list = [\n",
    "    {'vector_size': 50, 'window': 5, 'min_count': 1},\n",
    "    {'vector_size': 100, 'window': 5, 'min_count': 1},\n",
    "    {'vector_size': 200, 'window': 5, 'min_count': 1},\n",
    "    {'vector_size': 300, 'window': 5, 'min_count': 1},\n",
    "    {'vector_size': 300, 'window': 10, 'min_count': 1},\n",
    "    {'vector_size': 300, 'window': 20, 'min_count': 1}\n",
    "]"
   ]
  },
  {
   "cell_type": "code",
   "execution_count": 7,
   "metadata": {},
   "outputs": [
    {
     "data": {
      "text/html": [
       "Tracking run with wandb version 0.19.0"
      ],
      "text/plain": [
       "<IPython.core.display.HTML object>"
      ]
     },
     "metadata": {},
     "output_type": "display_data"
    },
    {
     "data": {
      "text/html": [
       "Run data is saved locally in <code>/Users/mac/Downloads/online_sexism_detection/milestone_2/wandb/run-20241211_141339-p0y66yzf</code>"
      ],
      "text/plain": [
       "<IPython.core.display.HTML object>"
      ]
     },
     "metadata": {},
     "output_type": "display_data"
    },
    {
     "data": {
      "text/html": [
       "Syncing run <strong><a href='https://wandb.ai/online_sexism_detection/online_sexism_detection/runs/p0y66yzf' target=\"_blank\"> word2vec_svm</a></strong> to <a href='https://wandb.ai/online_sexism_detection/online_sexism_detection' target=\"_blank\">Weights & Biases</a> (<a href='https://wandb.me/developer-guide' target=\"_blank\">docs</a>)<br/>"
      ],
      "text/plain": [
       "<IPython.core.display.HTML object>"
      ]
     },
     "metadata": {},
     "output_type": "display_data"
    },
    {
     "data": {
      "text/html": [
       " View project at <a href='https://wandb.ai/online_sexism_detection/online_sexism_detection' target=\"_blank\">https://wandb.ai/online_sexism_detection/online_sexism_detection</a>"
      ],
      "text/plain": [
       "<IPython.core.display.HTML object>"
      ]
     },
     "metadata": {},
     "output_type": "display_data"
    },
    {
     "data": {
      "text/html": [
       " View run at <a href='https://wandb.ai/online_sexism_detection/online_sexism_detection/runs/p0y66yzf' target=\"_blank\">https://wandb.ai/online_sexism_detection/online_sexism_detection/runs/p0y66yzf</a>"
      ],
      "text/plain": [
       "<IPython.core.display.HTML object>"
      ]
     },
     "metadata": {},
     "output_type": "display_data"
    },
    {
     "name": "stderr",
     "output_type": "stream",
     "text": [
      "/Users/mac/Downloads/online_sexism_detection/.venv/lib/python3.9/site-packages/sklearn/base.py:474: FutureWarning: `BaseEstimator._validate_data` is deprecated in 1.6 and will be removed in 1.7. Use `sklearn.utils.validation.validate_data` instead. This function becomes public and is part of the scikit-learn developer API.\n",
      "  warnings.warn(\n",
      "/Users/mac/Downloads/online_sexism_detection/.venv/lib/python3.9/site-packages/sklearn/utils/_tags.py:354: FutureWarning: The SMOTE or classes from which it inherits use `_get_tags` and `_more_tags`. Please define the `__sklearn_tags__` method, or inherit from `sklearn.base.BaseEstimator` and/or other appropriate mixins such as `sklearn.base.TransformerMixin`, `sklearn.base.ClassifierMixin`, `sklearn.base.RegressorMixin`, and `sklearn.base.OutlierMixin`. From scikit-learn 1.7, not defining `__sklearn_tags__` will raise an error.\n",
      "  warnings.warn(\n"
     ]
    },
    {
     "name": "stdout",
     "output_type": "stream",
     "text": [
      "Word2Vec Params: {'vector_size': 50, 'window': 5, 'min_count': 1}\n",
      "Accuracy: 0.24275\n",
      "              precision    recall  f1-score   support\n",
      "\n",
      "           0       1.00      0.00      0.00      3030\n",
      "           1       0.24      1.00      0.39       970\n",
      "\n",
      "    accuracy                           0.24      4000\n",
      "   macro avg       0.62      0.50      0.20      4000\n",
      "weighted avg       0.82      0.24      0.10      4000\n",
      "\n"
     ]
    },
    {
     "name": "stderr",
     "output_type": "stream",
     "text": [
      "/Users/mac/Downloads/online_sexism_detection/.venv/lib/python3.9/site-packages/sklearn/base.py:474: FutureWarning: `BaseEstimator._validate_data` is deprecated in 1.6 and will be removed in 1.7. Use `sklearn.utils.validation.validate_data` instead. This function becomes public and is part of the scikit-learn developer API.\n",
      "  warnings.warn(\n",
      "/Users/mac/Downloads/online_sexism_detection/.venv/lib/python3.9/site-packages/sklearn/utils/_tags.py:354: FutureWarning: The SMOTE or classes from which it inherits use `_get_tags` and `_more_tags`. Please define the `__sklearn_tags__` method, or inherit from `sklearn.base.BaseEstimator` and/or other appropriate mixins such as `sklearn.base.TransformerMixin`, `sklearn.base.ClassifierMixin`, `sklearn.base.RegressorMixin`, and `sklearn.base.OutlierMixin`. From scikit-learn 1.7, not defining `__sklearn_tags__` will raise an error.\n",
      "  warnings.warn(\n"
     ]
    },
    {
     "name": "stdout",
     "output_type": "stream",
     "text": [
      "Word2Vec Params: {'vector_size': 100, 'window': 5, 'min_count': 1}\n",
      "Accuracy: 0.24275\n",
      "              precision    recall  f1-score   support\n",
      "\n",
      "           0       1.00      0.00      0.00      3030\n",
      "           1       0.24      1.00      0.39       970\n",
      "\n",
      "    accuracy                           0.24      4000\n",
      "   macro avg       0.62      0.50      0.20      4000\n",
      "weighted avg       0.82      0.24      0.10      4000\n",
      "\n"
     ]
    },
    {
     "name": "stderr",
     "output_type": "stream",
     "text": [
      "/Users/mac/Downloads/online_sexism_detection/.venv/lib/python3.9/site-packages/sklearn/base.py:474: FutureWarning: `BaseEstimator._validate_data` is deprecated in 1.6 and will be removed in 1.7. Use `sklearn.utils.validation.validate_data` instead. This function becomes public and is part of the scikit-learn developer API.\n",
      "  warnings.warn(\n",
      "/Users/mac/Downloads/online_sexism_detection/.venv/lib/python3.9/site-packages/sklearn/utils/_tags.py:354: FutureWarning: The SMOTE or classes from which it inherits use `_get_tags` and `_more_tags`. Please define the `__sklearn_tags__` method, or inherit from `sklearn.base.BaseEstimator` and/or other appropriate mixins such as `sklearn.base.TransformerMixin`, `sklearn.base.ClassifierMixin`, `sklearn.base.RegressorMixin`, and `sklearn.base.OutlierMixin`. From scikit-learn 1.7, not defining `__sklearn_tags__` will raise an error.\n",
      "  warnings.warn(\n"
     ]
    },
    {
     "name": "stdout",
     "output_type": "stream",
     "text": [
      "Word2Vec Params: {'vector_size': 200, 'window': 5, 'min_count': 1}\n",
      "Accuracy: 0.24275\n",
      "              precision    recall  f1-score   support\n",
      "\n",
      "           0       1.00      0.00      0.00      3030\n",
      "           1       0.24      1.00      0.39       970\n",
      "\n",
      "    accuracy                           0.24      4000\n",
      "   macro avg       0.62      0.50      0.20      4000\n",
      "weighted avg       0.82      0.24      0.10      4000\n",
      "\n"
     ]
    },
    {
     "name": "stderr",
     "output_type": "stream",
     "text": [
      "/Users/mac/Downloads/online_sexism_detection/.venv/lib/python3.9/site-packages/sklearn/base.py:474: FutureWarning: `BaseEstimator._validate_data` is deprecated in 1.6 and will be removed in 1.7. Use `sklearn.utils.validation.validate_data` instead. This function becomes public and is part of the scikit-learn developer API.\n",
      "  warnings.warn(\n",
      "/Users/mac/Downloads/online_sexism_detection/.venv/lib/python3.9/site-packages/sklearn/utils/_tags.py:354: FutureWarning: The SMOTE or classes from which it inherits use `_get_tags` and `_more_tags`. Please define the `__sklearn_tags__` method, or inherit from `sklearn.base.BaseEstimator` and/or other appropriate mixins such as `sklearn.base.TransformerMixin`, `sklearn.base.ClassifierMixin`, `sklearn.base.RegressorMixin`, and `sklearn.base.OutlierMixin`. From scikit-learn 1.7, not defining `__sklearn_tags__` will raise an error.\n",
      "  warnings.warn(\n"
     ]
    },
    {
     "name": "stdout",
     "output_type": "stream",
     "text": [
      "Word2Vec Params: {'vector_size': 300, 'window': 5, 'min_count': 1}\n",
      "Accuracy: 0.24275\n",
      "              precision    recall  f1-score   support\n",
      "\n",
      "           0       1.00      0.00      0.00      3030\n",
      "           1       0.24      1.00      0.39       970\n",
      "\n",
      "    accuracy                           0.24      4000\n",
      "   macro avg       0.62      0.50      0.20      4000\n",
      "weighted avg       0.82      0.24      0.10      4000\n",
      "\n"
     ]
    },
    {
     "name": "stderr",
     "output_type": "stream",
     "text": [
      "/Users/mac/Downloads/online_sexism_detection/.venv/lib/python3.9/site-packages/sklearn/base.py:474: FutureWarning: `BaseEstimator._validate_data` is deprecated in 1.6 and will be removed in 1.7. Use `sklearn.utils.validation.validate_data` instead. This function becomes public and is part of the scikit-learn developer API.\n",
      "  warnings.warn(\n",
      "/Users/mac/Downloads/online_sexism_detection/.venv/lib/python3.9/site-packages/sklearn/utils/_tags.py:354: FutureWarning: The SMOTE or classes from which it inherits use `_get_tags` and `_more_tags`. Please define the `__sklearn_tags__` method, or inherit from `sklearn.base.BaseEstimator` and/or other appropriate mixins such as `sklearn.base.TransformerMixin`, `sklearn.base.ClassifierMixin`, `sklearn.base.RegressorMixin`, and `sklearn.base.OutlierMixin`. From scikit-learn 1.7, not defining `__sklearn_tags__` will raise an error.\n",
      "  warnings.warn(\n"
     ]
    },
    {
     "name": "stdout",
     "output_type": "stream",
     "text": [
      "Word2Vec Params: {'vector_size': 300, 'window': 10, 'min_count': 1}\n",
      "Accuracy: 0.24275\n",
      "              precision    recall  f1-score   support\n",
      "\n",
      "           0       1.00      0.00      0.00      3030\n",
      "           1       0.24      1.00      0.39       970\n",
      "\n",
      "    accuracy                           0.24      4000\n",
      "   macro avg       0.62      0.50      0.20      4000\n",
      "weighted avg       0.82      0.24      0.10      4000\n",
      "\n"
     ]
    },
    {
     "name": "stderr",
     "output_type": "stream",
     "text": [
      "/Users/mac/Downloads/online_sexism_detection/.venv/lib/python3.9/site-packages/sklearn/base.py:474: FutureWarning: `BaseEstimator._validate_data` is deprecated in 1.6 and will be removed in 1.7. Use `sklearn.utils.validation.validate_data` instead. This function becomes public and is part of the scikit-learn developer API.\n",
      "  warnings.warn(\n",
      "/Users/mac/Downloads/online_sexism_detection/.venv/lib/python3.9/site-packages/sklearn/utils/_tags.py:354: FutureWarning: The SMOTE or classes from which it inherits use `_get_tags` and `_more_tags`. Please define the `__sklearn_tags__` method, or inherit from `sklearn.base.BaseEstimator` and/or other appropriate mixins such as `sklearn.base.TransformerMixin`, `sklearn.base.ClassifierMixin`, `sklearn.base.RegressorMixin`, and `sklearn.base.OutlierMixin`. From scikit-learn 1.7, not defining `__sklearn_tags__` will raise an error.\n",
      "  warnings.warn(\n"
     ]
    },
    {
     "name": "stdout",
     "output_type": "stream",
     "text": [
      "Word2Vec Params: {'vector_size': 300, 'window': 20, 'min_count': 1}\n",
      "Accuracy: 0.24275\n",
      "              precision    recall  f1-score   support\n",
      "\n",
      "           0       1.00      0.00      0.00      3030\n",
      "           1       0.24      1.00      0.39       970\n",
      "\n",
      "    accuracy                           0.24      4000\n",
      "   macro avg       0.62      0.50      0.20      4000\n",
      "weighted avg       0.82      0.24      0.10      4000\n",
      "\n"
     ]
    },
    {
     "data": {
      "text/html": [
       "\n",
       "    <style>\n",
       "        .wandb-row {\n",
       "            display: flex;\n",
       "            flex-direction: row;\n",
       "            flex-wrap: wrap;\n",
       "            justify-content: flex-start;\n",
       "            width: 100%;\n",
       "        }\n",
       "        .wandb-col {\n",
       "            display: flex;\n",
       "            flex-direction: column;\n",
       "            flex-basis: 100%;\n",
       "            flex: 1;\n",
       "            padding: 10px;\n",
       "        }\n",
       "    </style>\n",
       "<div class=\"wandb-row\"><div class=\"wandb-col\"><h3>Run history:</h3><br/><table class=\"wandb\"><tr><td>accuracy</td><td>▁▁▁▁▁▁</td></tr><tr><td>balanced_accuracy</td><td>▁▁▁▁▁▁</td></tr><tr><td>f1</td><td>▁▁▁▁▁▁</td></tr></table><br/></div><div class=\"wandb-col\"><h3>Run summary:</h3><br/><table class=\"wandb\"><tr><td>accuracy</td><td>0.24275</td></tr><tr><td>balanced_accuracy</td><td>0.50017</td></tr><tr><td>f1</td><td>0.39042</td></tr></table><br/></div></div>"
      ],
      "text/plain": [
       "<IPython.core.display.HTML object>"
      ]
     },
     "metadata": {},
     "output_type": "display_data"
    },
    {
     "data": {
      "text/html": [
       " View run <strong style=\"color:#cdcd00\"> word2vec_svm</strong> at: <a href='https://wandb.ai/online_sexism_detection/online_sexism_detection/runs/p0y66yzf' target=\"_blank\">https://wandb.ai/online_sexism_detection/online_sexism_detection/runs/p0y66yzf</a><br/> View project at: <a href='https://wandb.ai/online_sexism_detection/online_sexism_detection' target=\"_blank\">https://wandb.ai/online_sexism_detection/online_sexism_detection</a><br/>Synced 5 W&B file(s), 0 media file(s), 0 artifact file(s) and 0 other file(s)"
      ],
      "text/plain": [
       "<IPython.core.display.HTML object>"
      ]
     },
     "metadata": {},
     "output_type": "display_data"
    },
    {
     "data": {
      "text/html": [
       "Find logs at: <code>./wandb/run-20241211_141339-p0y66yzf/logs</code>"
      ],
      "text/plain": [
       "<IPython.core.display.HTML object>"
      ]
     },
     "metadata": {},
     "output_type": "display_data"
    }
   ],
   "source": [
    "wandb.init(project=\"online_sexism_detection\", name=\" word2vec_svm\")\n",
    "\n",
    "for word2vec_params in word2vec_params_list:\n",
    "    X_processed_train = X_train.apply(lambda x: x.split()).tolist()\n",
    "    X_processed_test = X_test.apply(lambda x: x.split()).tolist()\n",
    "\n",
    "    word2vec_model = Word2Vec(sentences=X_processed_train, **word2vec_params)\n",
    "\n",
    "    def vectorize_sentences(sentences, model):\n",
    "        vectors = []\n",
    "        for sentence in sentences:\n",
    "            word_vectors = [model.wv[word] for word in sentence if word in model.wv]\n",
    "            if word_vectors:\n",
    "                vectors.append(np.mean(word_vectors, axis=0))\n",
    "            else:\n",
    "                vectors.append(np.zeros(model.vector_size))\n",
    "        return np.array(vectors)\n",
    "\n",
    "    X_train_vectors = vectorize_sentences(X_processed_train, word2vec_model)\n",
    "    X_test_vectors = vectorize_sentences(X_processed_test, word2vec_model)\n",
    "\n",
    "    smote = SMOTE(random_state=42)\n",
    "    X_resampled_w2v, y_resampled_w2v = smote.fit_resample(X_train_vectors, y_train)\n",
    "\n",
    "    # Train the SVM model with Word2Vec\n",
    "    svm_model_w2v = SVC(random_state=42, class_weight='balanced', probability=True)\n",
    "    svm_model_w2v.fit(X_resampled_w2v, y_resampled_w2v)\n",
    "\n",
    "    # Make predictions with SVM (Word2Vec)\n",
    "    y_pred_svm_w2v = svm_model_w2v.predict(X_test_vectors)\n",
    "    \n",
    "    # Evaluate\n",
    "    print(f\"Word2Vec Params: {word2vec_params}\")\n",
    "    print(\"Accuracy:\", accuracy_score(y_test, y_pred_svm_w2v))\n",
    "    print(classification_report(y_test, y_pred_svm_w2v))\n",
    "\n",
    "    # Log results to Weights & Biases\n",
    "    wandb.log({\n",
    "        'word2vec_params': word2vec_params,\n",
    "        \"f1\": f1_score(y_test, y_pred_svm_w2v),\n",
    "        \"balanced_accuracy\": balanced_accuracy_score(y_test, y_pred_svm_w2v),\n",
    "        \"accuracy\": accuracy_score(y_test, y_pred_svm_w2v),\n",
    "    })\n",
    "\n",
    "wandb.finish()"
   ]
  }
 ],
 "metadata": {
  "kernelspec": {
   "display_name": ".venv",
   "language": "python",
   "name": "python3"
  },
  "language_info": {
   "codemirror_mode": {
    "name": "ipython",
    "version": 3
   },
   "file_extension": ".py",
   "mimetype": "text/x-python",
   "name": "python",
   "nbconvert_exporter": "python",
   "pygments_lexer": "ipython3",
   "version": "3.9.6"
  }
 },
 "nbformat": 4,
 "nbformat_minor": 2
}
