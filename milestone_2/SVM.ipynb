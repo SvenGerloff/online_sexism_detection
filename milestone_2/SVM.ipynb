{
 "cells": [
  {
   "cell_type": "markdown",
   "metadata": {},
   "source": [
    "#SVM"
   ]
  },
  {
   "cell_type": "code",
   "execution_count": 20,
   "metadata": {},
   "outputs": [],
   "source": [
    "import numpy as np\n",
    "import pandas as pd\n",
    "import os\n",
    "\n",
    "import seaborn as sns\n",
    "import yaml\n",
    "import wandb\n",
    "\n",
    "from sklearn.linear_model import LogisticRegression\n",
    "from sklearn.svm import SVC\n",
    "from sklearn.metrics import classification_report, confusion_matrix, f1_score, balanced_accuracy_score, accuracy_score\n",
    "from sklearn.feature_extraction.text import TfidfVectorizer\n",
    "from imblearn.over_sampling import SMOTE\n",
    "from gensim.models import Word2Vec"
   ]
  },
  {
   "cell_type": "code",
   "execution_count": 21,
   "metadata": {},
   "outputs": [],
   "source": [
    "import sys\n",
    "# Import functions from preprocessing module\n",
    "sys.path.append('..')\n",
    "from utils.load_data import load_processed_data"
   ]
  },
  {
   "cell_type": "markdown",
   "metadata": {},
   "source": [
    "## Load data"
   ]
  },
  {
   "cell_type": "code",
   "execution_count": 22,
   "metadata": {},
   "outputs": [
    {
     "name": "stdout",
     "output_type": "stream",
     "text": [
      "Data loaded\n"
     ]
    }
   ],
   "source": [
    "df = load_processed_data()\n",
    "train_data = df[\"train\"]\n",
    "test_data = df[\"test\"]\n",
    "dev_data = df[\"dev\"]\n",
    "\n",
    "X_train, y_train = train_data[\"lemma\"], train_data[\"label\"]\n",
    "X_test, y_test = test_data[\"lemma\"], test_data[\"label\"]\n",
    "X_dev, y_dev = dev_data[\"lemma\"], dev_data[\"label\"]"
   ]
  },
  {
   "cell_type": "markdown",
   "metadata": {},
   "source": [
    "##TF-IDF"
   ]
  },
  {
   "cell_type": "code",
   "execution_count": 23,
   "metadata": {},
   "outputs": [],
   "source": [
    "tfidf_params_list = [\n",
    "    {'max_features': 3000, 'ngram_range': (1, 1), 'min_df': 5},\n",
    "    {'max_features': 3000, 'ngram_range': (1, 2), 'min_df': 5},\n",
    "    {'max_features': 5000, 'ngram_range': (1, 1), 'min_df': 5},\n",
    "    {'max_features': 5000, 'ngram_range': (1, 2), 'min_df': 5},\n",
    "    {'max_features': 10000, 'ngram_range': (1, 1), 'min_df': 5},\n",
    "    {'max_features': 10000, 'ngram_range': (1, 2), 'min_df': 5}\n",
    "]"
   ]
  },
  {
   "cell_type": "code",
   "execution_count": 30,
   "metadata": {},
   "outputs": [
    {
     "ename": "AttributeError",
     "evalue": "module 'wandb' has no attribute 'init'",
     "output_type": "error",
     "traceback": [
      "\u001b[0;31m---------------------------------------------------------------------------\u001b[0m",
      "\u001b[0;31mAttributeError\u001b[0m                            Traceback (most recent call last)",
      "Cell \u001b[0;32mIn[30], line 1\u001b[0m\n\u001b[0;32m----> 1\u001b[0m \u001b[43mwandb\u001b[49m\u001b[38;5;241;43m.\u001b[39;49m\u001b[43minit\u001b[49m(project\u001b[38;5;241m=\u001b[39m\u001b[38;5;124m\"\u001b[39m\u001b[38;5;124monline_sexism_detection\u001b[39m\u001b[38;5;124m\"\u001b[39m, name\u001b[38;5;241m=\u001b[39m\u001b[38;5;124m\"\u001b[39m\u001b[38;5;124mtfidf_svm\u001b[39m\u001b[38;5;124m\"\u001b[39m)\n\u001b[1;32m      2\u001b[0m \u001b[38;5;28;01mfor\u001b[39;00m tfidf_params \u001b[38;5;129;01min\u001b[39;00m tfidf_params_list:\n\u001b[1;32m      3\u001b[0m     vectorizer \u001b[38;5;241m=\u001b[39m TfidfVectorizer(\u001b[38;5;241m*\u001b[39m\u001b[38;5;241m*\u001b[39mtfidf_params)\n",
      "\u001b[0;31mAttributeError\u001b[0m: module 'wandb' has no attribute 'init'"
     ]
    }
   ],
   "source": [
    "wandb.init(project=\"online_sexism_detection\", name=\"tfidf_svm\")\n",
    "for tfidf_params in tfidf_params_list:\n",
    "    vectorizer = TfidfVectorizer(**tfidf_params)\n",
    "    X_train_tfidf = vectorizer.fit_transform(X_train)\n",
    "    X_test_tfidf = vectorizer.transform(X_test)\n",
    "\n",
    "    # Apply SMOTE to handle class imbalance\n",
    "    smote = SMOTE(random_state=42)\n",
    "    X_resampled, y_resampled = smote.fit_resample(X_train_tfidf, y_train)\n",
    "\n",
    "    # Train the SVM model\n",
    "    svm_model = SVC(random_state=42, class_weight='balanced', probability=True)\n",
    "    svm_model.fit(X_resampled, y_resampled)\n",
    "\n",
    "    # Make predictions with SVM\n",
    "    y_pred_svm = svm_model.predict(X_test_tfidf)\n",
    "\n",
    "    # Evaluate the SVM model\n",
    "    print(\"SVM Results:\")\n",
    "    print(confusion_matrix(y_test, y_pred_svm))\n",
    "    print(classification_report(y_test, y_pred_svm))\n",
    "\n",
    "    # Log results\n",
    "    wandb.log({\n",
    "        'tfidf_params': tfidf_params,\n",
    "        \"f1\": f1_score(y_test, y_pred_svm),\n",
    "        \"balanced_accuracy\": balanced_accuracy_score(y_test, y_pred_svm),\n",
    "        \"accuracy\": accuracy_score(y_test, y_pred_svm),\n",
    "    })\n",
    "\n",
    "wandb.finish()\n"
   ]
  }
 ],
 "metadata": {
  "kernelspec": {
   "display_name": "sexism_detection",
   "language": "python",
   "name": "python3"
  },
  "language_info": {
   "codemirror_mode": {
    "name": "ipython",
    "version": 3
   },
   "file_extension": ".py",
   "mimetype": "text/x-python",
   "name": "python",
   "nbconvert_exporter": "python",
   "pygments_lexer": "ipython3",
   "version": "3.9.21"
  }
 },
 "nbformat": 4,
 "nbformat_minor": 2
}
