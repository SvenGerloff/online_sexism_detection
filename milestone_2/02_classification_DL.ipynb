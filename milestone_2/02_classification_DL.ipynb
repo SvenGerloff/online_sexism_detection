{
 "cells": [
  {
   "cell_type": "markdown",
   "source": [
    "# Milestone 2 - Deep Learning model for sexism detection"
   ],
   "metadata": {
    "collapsed": false
   },
   "id": "c6b5c4b4d812aa92"
  },
  {
   "cell_type": "code",
   "execution_count": 1,
   "id": "ae34bda7a58233b7",
   "metadata": {
    "collapsed": false,
    "ExecuteTime": {
     "end_time": "2024-12-09T14:29:52.363913300Z",
     "start_time": "2024-12-09T14:29:49.173166400Z"
    }
   },
   "outputs": [],
   "source": [
    "import sys\n",
    "import wandb\n",
    "import os\n",
    "import pandas as pd\n",
    "import numpy as np"
   ]
  },
  {
   "cell_type": "code",
   "outputs": [],
   "source": [
    "train_parquet = \"../data_submission/train_dataset.parquet\"\n",
    "dev_parquet = \"../data_submission/dev_dataset.parquet\"\n",
    "test_parquet = \"../data_submission/test_dataset.parquet\""
   ],
   "metadata": {
    "collapsed": false,
    "ExecuteTime": {
     "end_time": "2024-12-09T14:29:52.375916900Z",
     "start_time": "2024-12-09T14:29:52.359916600Z"
    }
   },
   "id": "c0997425f1f99ce0",
   "execution_count": 2
  },
  {
   "cell_type": "code",
   "outputs": [],
   "source": [
    "def load_processed_data(split=None):\n",
    "    # Load the full dataset if no specific split is requested\n",
    "    if split is None:\n",
    "        split = [\"train\", \"dev\", \"test\"]\n",
    "\n",
    "    # Load specified split datasets\n",
    "    split_dataframes = {}\n",
    "    paths = {\n",
    "        \"train\": train_parquet,\n",
    "        \"dev\": dev_parquet,\n",
    "        \"test\": test_parquet,\n",
    "    }\n",
    "    # Load each specified split from paths dictionary\n",
    "    for split_type in split:\n",
    "        split_dataset_path = paths.get(split_type)\n",
    "        if split_dataset_path and os.path.exists(split_dataset_path):\n",
    "            split_dataframes[split_type] = pd.read_parquet(split_dataset_path)\n",
    "            print(f\"df: {split_type.capitalize()} split loaded.\")\n",
    "        else:\n",
    "            print(f\"Warning: {split_type} split file not found.\")\n",
    "\n",
    "    return split_dataframes"
   ],
   "metadata": {
    "collapsed": true,
    "ExecuteTime": {
     "end_time": "2024-12-09T14:29:52.398917100Z",
     "start_time": "2024-12-09T14:29:52.375916900Z"
    }
   },
   "id": "initial_id",
   "execution_count": 3
  },
  {
   "cell_type": "code",
   "outputs": [
    {
     "name": "stdout",
     "output_type": "stream",
     "text": [
      "torch.cuda.is_available() = True\n",
      "torch.version.cuda = '11.8'\n"
     ]
    }
   ],
   "source": [
    "import torch\n",
    "SEED = 8172003\n",
    "\n",
    "torch.manual_seed(SEED)\n",
    "torch.backends.cudnn.deterministic = True\n",
    "\n",
    "print(f\"{torch.cuda.is_available() = }\")\n",
    "print(f\"{torch.version.cuda = }\")"
   ],
   "metadata": {
    "collapsed": false,
    "ExecuteTime": {
     "end_time": "2024-12-09T14:29:56.025524200Z",
     "start_time": "2024-12-09T14:29:52.390914900Z"
    }
   },
   "id": "d4e096e2d258022a",
   "execution_count": 4
  },
  {
   "cell_type": "code",
   "outputs": [
    {
     "name": "stderr",
     "output_type": "stream",
     "text": [
      "wandb: Using wandb-core as the SDK backend.  Please refer to https://wandb.me/wandb-core for more information.\n",
      "wandb: Currently logged in as: thomask1086 (online_sexism_detection). Use `wandb login --relogin` to force relogin\n"
     ]
    },
    {
     "data": {
      "text/plain": "True"
     },
     "execution_count": 5,
     "metadata": {},
     "output_type": "execute_result"
    }
   ],
   "source": [
    "wandb.login()"
   ],
   "metadata": {
    "collapsed": false,
    "ExecuteTime": {
     "end_time": "2024-12-09T14:29:57.219463200Z",
     "start_time": "2024-12-09T14:29:56.019513200Z"
    }
   },
   "id": "b4202a7f733b3c0d",
   "execution_count": 5
  },
  {
   "cell_type": "markdown",
   "source": [
    "## Data loading and formatting"
   ],
   "metadata": {
    "collapsed": false
   },
   "id": "ae47cec5625de555"
  },
  {
   "cell_type": "code",
   "outputs": [
    {
     "name": "stdout",
     "output_type": "stream",
     "text": [
      "df: Train split loaded.\n",
      "df: Test split loaded.\n",
      "df: Dev split loaded.\n"
     ]
    },
    {
     "data": {
      "text/plain": "                                                    text  label  split  \\\n13596  You need to talk to your own lawyer. Debt and ...      0  train   \n12948  \"Brown skin\" male sexually assaulted THREE tee...      0  train   \n4004   Just think of this typical scenario Man: \"When...      0  train   \n8003   I was raped as a sophomore in HS. I was also a...      0  train   \n6949   cant wait til third world takes over the USA a...      1  train   \n\n                                                   lemma  \\\n13596  [\"you\",\"need\",\"talk\",\"your\",\"own\",\"lawyer\",\"de...   \n12948  [\"Brown\",\"skin\",\"male\",\"sexually\",\"assault\",\"t...   \n4004   [\"think\",\"typical\",\"scenario\",\"man\",\"I\",\"be\",\"...   \n8003   [\"I\",\"be\",\"rape\",\"sophomore\",\"HS\",\"I\",\"be\",\"al...   \n6949   [\"cant\",\"wait\",\"till\",\"third\",\"world\",\"take\",\"...   \n\n                                                     pos  user_count  \\\n13596  [\"PRON\",\"VERB\",\"VERB\",\"PRON\",\"ADJ\",\"NOUN\",\"NOU...           0   \n12948  [\"PROPN\",\"NOUN\",\"NOUN\",\"ADV\",\"VERB\",\"NUM\",\"ADJ...           0   \n4004   [\"VERB\",\"ADJ\",\"NOUN\",\"NOUN\",\"PRON\",\"AUX\",\"ADJ\"...           0   \n8003   [\"PRON\",\"AUX\",\"VERB\",\"NOUN\",\"PROPN\",\"PRON\",\"AU...           0   \n6949   [\"AUX\",\"VERB\",\"ADP\",\"ADJ\",\"NOUN\",\"VERB\",\"ADP\",...           0   \n\n       url_count  \n13596          0  \n12948          1  \n4004           0  \n8003           0  \n6949           0  ",
      "text/html": "<div>\n<style scoped>\n    .dataframe tbody tr th:only-of-type {\n        vertical-align: middle;\n    }\n\n    .dataframe tbody tr th {\n        vertical-align: top;\n    }\n\n    .dataframe thead th {\n        text-align: right;\n    }\n</style>\n<table border=\"1\" class=\"dataframe\">\n  <thead>\n    <tr style=\"text-align: right;\">\n      <th></th>\n      <th>text</th>\n      <th>label</th>\n      <th>split</th>\n      <th>lemma</th>\n      <th>pos</th>\n      <th>user_count</th>\n      <th>url_count</th>\n    </tr>\n  </thead>\n  <tbody>\n    <tr>\n      <th>13596</th>\n      <td>You need to talk to your own lawyer. Debt and ...</td>\n      <td>0</td>\n      <td>train</td>\n      <td>[\"you\",\"need\",\"talk\",\"your\",\"own\",\"lawyer\",\"de...</td>\n      <td>[\"PRON\",\"VERB\",\"VERB\",\"PRON\",\"ADJ\",\"NOUN\",\"NOU...</td>\n      <td>0</td>\n      <td>0</td>\n    </tr>\n    <tr>\n      <th>12948</th>\n      <td>\"Brown skin\" male sexually assaulted THREE tee...</td>\n      <td>0</td>\n      <td>train</td>\n      <td>[\"Brown\",\"skin\",\"male\",\"sexually\",\"assault\",\"t...</td>\n      <td>[\"PROPN\",\"NOUN\",\"NOUN\",\"ADV\",\"VERB\",\"NUM\",\"ADJ...</td>\n      <td>0</td>\n      <td>1</td>\n    </tr>\n    <tr>\n      <th>4004</th>\n      <td>Just think of this typical scenario Man: \"When...</td>\n      <td>0</td>\n      <td>train</td>\n      <td>[\"think\",\"typical\",\"scenario\",\"man\",\"I\",\"be\",\"...</td>\n      <td>[\"VERB\",\"ADJ\",\"NOUN\",\"NOUN\",\"PRON\",\"AUX\",\"ADJ\"...</td>\n      <td>0</td>\n      <td>0</td>\n    </tr>\n    <tr>\n      <th>8003</th>\n      <td>I was raped as a sophomore in HS. I was also a...</td>\n      <td>0</td>\n      <td>train</td>\n      <td>[\"I\",\"be\",\"rape\",\"sophomore\",\"HS\",\"I\",\"be\",\"al...</td>\n      <td>[\"PRON\",\"AUX\",\"VERB\",\"NOUN\",\"PROPN\",\"PRON\",\"AU...</td>\n      <td>0</td>\n      <td>0</td>\n    </tr>\n    <tr>\n      <th>6949</th>\n      <td>cant wait til third world takes over the USA a...</td>\n      <td>1</td>\n      <td>train</td>\n      <td>[\"cant\",\"wait\",\"till\",\"third\",\"world\",\"take\",\"...</td>\n      <td>[\"AUX\",\"VERB\",\"ADP\",\"ADJ\",\"NOUN\",\"VERB\",\"ADP\",...</td>\n      <td>0</td>\n      <td>0</td>\n    </tr>\n  </tbody>\n</table>\n</div>"
     },
     "execution_count": 6,
     "metadata": {},
     "output_type": "execute_result"
    }
   ],
   "source": [
    "TRAIN_RATIO = 1\n",
    "BATCH_SIZE = 32\n",
    "EPOCHS = 10\n",
    "\n",
    "df_all = load_processed_data(['train', 'test', 'dev'])\n",
    "df_train = df_all['train'].sample(frac=TRAIN_RATIO, random_state=SEED)\n",
    "df_test = df_all['test']\n",
    "df_valid = df_all['dev']\n",
    "\n",
    "df_train.head()"
   ],
   "metadata": {
    "collapsed": false,
    "ExecuteTime": {
     "end_time": "2024-12-09T14:29:57.351937500Z",
     "start_time": "2024-12-09T14:29:57.217462900Z"
    }
   },
   "id": "405c0e5a60287681",
   "execution_count": 6
  },
  {
   "cell_type": "code",
   "outputs": [],
   "source": [
    "label2id = {\"Sexist\" : 1, \"Not Sexist\" : 0}\n",
    "id2label = {0: \"Not Sexist\", 1: \"Sexist\"}"
   ],
   "metadata": {
    "collapsed": false,
    "ExecuteTime": {
     "end_time": "2024-12-09T14:29:57.376934300Z",
     "start_time": "2024-12-09T14:29:57.352932700Z"
    }
   },
   "id": "46708c9f59d532c5",
   "execution_count": 7
  },
  {
   "cell_type": "code",
   "outputs": [],
   "source": [
    "from transformers import AutoModelForSequenceClassification, AutoTokenizer, BertTokenizer, BertForSequenceClassification\n",
    "from datasets import Dataset\n",
    "from transformers import TrainingArguments, Trainer\n",
    "\n",
    "model_path = \"martin-ha/toxic-comment-model\"\n",
    "tokenizer = AutoTokenizer.from_pretrained(model_path)\n",
    "model = AutoModelForSequenceClassification.from_pretrained(model_path)"
   ],
   "metadata": {
    "collapsed": false,
    "ExecuteTime": {
     "end_time": "2024-12-09T14:30:04.138408100Z",
     "start_time": "2024-12-09T14:29:57.367951900Z"
    }
   },
   "id": "913d43293c247c88",
   "execution_count": 8
  },
  {
   "cell_type": "code",
   "outputs": [
    {
     "data": {
      "text/plain": "Dataset({\n    features: ['label', 'text', '__index_level_0__'],\n    num_rows: 14000\n})"
     },
     "execution_count": 9,
     "metadata": {},
     "output_type": "execute_result"
    }
   ],
   "source": [
    "ds_train = Dataset.from_pandas(df_train.loc[:, ['label', 'text']], split='train')\n",
    "ds_train"
   ],
   "metadata": {
    "collapsed": false,
    "ExecuteTime": {
     "end_time": "2024-12-09T14:30:04.184405600Z",
     "start_time": "2024-12-09T14:30:04.132406400Z"
    }
   },
   "id": "10b9a84f096fde81",
   "execution_count": 9
  },
  {
   "cell_type": "code",
   "outputs": [
    {
     "data": {
      "text/plain": "{'label': 0,\n 'text': 'You need to talk to your own lawyer. Debt and property from before the marriage should remain with original owner. Any assets or debt acquired after marriage is split 50/50. That includes things she will try to say are hers, like jewelry.',\n '__index_level_0__': 13596}"
     },
     "execution_count": 10,
     "metadata": {},
     "output_type": "execute_result"
    }
   ],
   "source": [
    "ds_train[0]"
   ],
   "metadata": {
    "collapsed": false,
    "ExecuteTime": {
     "end_time": "2024-12-09T14:30:04.206411Z",
     "start_time": "2024-12-09T14:30:04.178414400Z"
    }
   },
   "id": "1f2bb7660242210a",
   "execution_count": 10
  },
  {
   "cell_type": "code",
   "outputs": [],
   "source": [
    "def convert_and_tokenize(examples):\n",
    "    text = examples[\"text\"]\n",
    "    encoding = tokenizer(text, padding=True, truncation=True, max_length=128)\n",
    "    encoding[\"labels\"] = examples['label']\n",
    "\n",
    "    return encoding"
   ],
   "metadata": {
    "collapsed": false,
    "ExecuteTime": {
     "end_time": "2024-12-09T14:30:04.292665400Z",
     "start_time": "2024-12-09T14:30:04.189406300Z"
    }
   },
   "id": "73ca0eff19bf0963",
   "execution_count": 11
  },
  {
   "cell_type": "code",
   "outputs": [
    {
     "data": {
      "text/plain": "Map:   0%|          | 0/14000 [00:00<?, ? examples/s]",
      "application/vnd.jupyter.widget-view+json": {
       "version_major": 2,
       "version_minor": 0,
       "model_id": "9f422845a19540488d94823391de8f9a"
      }
     },
     "metadata": {},
     "output_type": "display_data"
    }
   ],
   "source": [
    "ds_train = ds_train.map(convert_and_tokenize, batched=True, batch_size=64, remove_columns=ds_train.column_names)"
   ],
   "metadata": {
    "collapsed": false,
    "ExecuteTime": {
     "end_time": "2024-12-09T14:30:06.577610900Z",
     "start_time": "2024-12-09T14:30:04.206411Z"
    }
   },
   "id": "66390fc934c33010",
   "execution_count": 12
  },
  {
   "cell_type": "code",
   "outputs": [
    {
     "data": {
      "text/plain": "Dataset({\n    features: ['input_ids', 'attention_mask', 'labels'],\n    num_rows: 14000\n})"
     },
     "execution_count": 13,
     "metadata": {},
     "output_type": "execute_result"
    }
   ],
   "source": [
    "ds_train"
   ],
   "metadata": {
    "collapsed": false,
    "ExecuteTime": {
     "end_time": "2024-12-09T14:30:06.592617400Z",
     "start_time": "2024-12-09T14:30:06.578610900Z"
    }
   },
   "id": "331253587cef9944",
   "execution_count": 13
  },
  {
   "cell_type": "code",
   "outputs": [
    {
     "data": {
      "text/plain": "'[CLS] men want to be needed [SEP] [PAD] [PAD] [PAD] [PAD] [PAD] [PAD] [PAD] [PAD] [PAD] [PAD] [PAD] [PAD] [PAD] [PAD] [PAD] [PAD] [PAD] [PAD] [PAD] [PAD] [PAD] [PAD] [PAD] [PAD] [PAD] [PAD] [PAD] [PAD] [PAD] [PAD] [PAD] [PAD] [PAD] [PAD] [PAD] [PAD] [PAD] [PAD] [PAD] [PAD] [PAD] [PAD] [PAD] [PAD] [PAD] [PAD] [PAD] [PAD] [PAD] [PAD] [PAD] [PAD] [PAD] [PAD] [PAD]'"
     },
     "execution_count": 14,
     "metadata": {},
     "output_type": "execute_result"
    }
   ],
   "source": [
    "tokenizer.decode(ds_train[32]['input_ids'])"
   ],
   "metadata": {
    "collapsed": false,
    "ExecuteTime": {
     "end_time": "2024-12-09T14:30:06.628880400Z",
     "start_time": "2024-12-09T14:30:06.596615700Z"
    }
   },
   "id": "f7648d08f0bccd67",
   "execution_count": 14
  },
  {
   "cell_type": "code",
   "outputs": [],
   "source": [
    "ds_train.set_format(\"torch\")"
   ],
   "metadata": {
    "collapsed": false,
    "ExecuteTime": {
     "end_time": "2024-12-09T14:30:06.631872600Z",
     "start_time": "2024-12-09T14:30:06.610906200Z"
    }
   },
   "id": "4a67f6c09df63b3e",
   "execution_count": 15
  },
  {
   "cell_type": "code",
   "outputs": [
    {
     "data": {
      "text/plain": "Map:   0%|          | 0/4000 [00:00<?, ? examples/s]",
      "application/vnd.jupyter.widget-view+json": {
       "version_major": 2,
       "version_minor": 0,
       "model_id": "4e1f434a744148df9f64921291d566d4"
      }
     },
     "metadata": {},
     "output_type": "display_data"
    },
    {
     "data": {
      "text/plain": "Map:   0%|          | 0/2000 [00:00<?, ? examples/s]",
      "application/vnd.jupyter.widget-view+json": {
       "version_major": 2,
       "version_minor": 0,
       "model_id": "1b1ebc4d8ea54741880df2c085a1e8d7"
      }
     },
     "metadata": {},
     "output_type": "display_data"
    }
   ],
   "source": [
    "ds_test = Dataset.from_pandas(df_test.loc[:, ['label', 'text']])\n",
    "ds_test = ds_test.map(convert_and_tokenize, batched=True, batch_size=BATCH_SIZE, remove_columns=ds_test.column_names)\n",
    "ds_test.set_format(\"torch\")\n",
    "\n",
    "ds_valid = Dataset.from_pandas(df_valid.loc[:, ['label', 'text']])\n",
    "ds_valid = ds_valid.map(convert_and_tokenize, batched=True, batch_size=BATCH_SIZE, remove_columns=ds_valid.column_names)\n",
    "ds_valid.set_format(\"torch\")"
   ],
   "metadata": {
    "collapsed": false,
    "ExecuteTime": {
     "end_time": "2024-12-09T14:30:07.481252200Z",
     "start_time": "2024-12-09T14:30:06.627874500Z"
    }
   },
   "id": "44fe9800f1c6489d",
   "execution_count": 16
  },
  {
   "cell_type": "markdown",
   "source": [
    "## Model loading and finetuning"
   ],
   "metadata": {
    "collapsed": false
   },
   "id": "c97dbf031defe106"
  },
  {
   "cell_type": "code",
   "outputs": [],
   "source": [
    "model_path = \"martin-ha/toxic-comment-model\"\n",
    "tokenizer = AutoTokenizer.from_pretrained(model_path,\n",
    "                                          problem_type=\"single_label_classification\",\n",
    "                                          num_labels=2,\n",
    "                                          id2label=id2label,\n",
    "                                          label2id=label2id)\n",
    "model = AutoModelForSequenceClassification.from_pretrained(model_path,\n",
    "                                                           num_labels=2,\n",
    "                                                           id2label=id2label,\n",
    "                                                           label2id=label2id)"
   ],
   "metadata": {
    "collapsed": false,
    "ExecuteTime": {
     "end_time": "2024-12-09T14:30:08.109364500Z",
     "start_time": "2024-12-09T14:30:07.486265400Z"
    }
   },
   "id": "83be2c98a96dd5",
   "execution_count": 17
  },
  {
   "cell_type": "code",
   "outputs": [],
   "source": [
    "from transformers import EvalPrediction\n",
    "from sklearn.metrics import f1_score, balanced_accuracy_score, accuracy_score\n",
    "\n",
    "def binary_metrics(predictions, labels):\n",
    "    y_pred = np.argmax(predictions, axis=-1)\n",
    "    y_true = labels\n",
    "    f1 = f1_score(y_true=y_true, y_pred=y_pred)\n",
    "    bal_acc = balanced_accuracy_score(y_true=y_true, y_pred=y_pred)\n",
    "    accuracy = accuracy_score(y_true, y_pred)\n",
    "    sven_metric = 1\n",
    "    metrics = {'f1': f1,\n",
    "               'balanced_accuracy': bal_acc,\n",
    "               'accuracy': accuracy\n",
    "               }\n",
    "    return metrics\n",
    "\n",
    "def compute_metrics(p: EvalPrediction):\n",
    "    preds = p.predictions[0] if isinstance(p.predictions,\n",
    "                                           tuple) else p.predictions\n",
    "    result = binary_metrics(\n",
    "        predictions=preds,\n",
    "        labels=p.label_ids)\n",
    "    return result"
   ],
   "metadata": {
    "collapsed": false,
    "ExecuteTime": {
     "end_time": "2024-12-09T14:30:08.126363600Z",
     "start_time": "2024-12-09T14:30:08.106360600Z"
    }
   },
   "id": "692a5ee7a160c267",
   "execution_count": 18
  },
  {
   "cell_type": "code",
   "outputs": [],
   "source": [
    "METRIC = \"balanced_accuracy\"\n",
    "from datetime import datetime\n",
    "current_date = datetime.now().strftime(\"%Y%m%d\")\n",
    "\n",
    "from transformers import TrainingArguments, Trainer, EarlyStoppingCallback\n",
    "\n",
    "args = TrainingArguments(\n",
    "    f\"./model-finetuned_sexism-detection\",\n",
    "    run_name=f\"model-finetuned-sd-{current_date}\",\n",
    "    overwrite_output_dir=True,\n",
    "    report_to=\"wandb\",\n",
    "    eval_strategy = \"epoch\",\n",
    "    save_strategy = \"epoch\",\n",
    "    save_steps=3,\n",
    "    save_total_limit=1,\n",
    "    logging_dir=f\"./logs_sexism-detection_{current_date}\",\n",
    "    logging_steps=10,\n",
    "    seed=SEED,\n",
    "    per_device_train_batch_size=BATCH_SIZE,\n",
    "    per_device_eval_batch_size=BATCH_SIZE,\n",
    "    num_train_epochs=EPOCHS,\n",
    "    learning_rate=5E-5,\n",
    "    weight_decay=0.01,\n",
    "    load_best_model_at_end=True,\n",
    "    metric_for_best_model=METRIC,\n",
    "    greater_is_better=True,\n",
    ")"
   ],
   "metadata": {
    "collapsed": false,
    "ExecuteTime": {
     "end_time": "2024-12-09T14:30:08.205329700Z",
     "start_time": "2024-12-09T14:30:08.122361400Z"
    }
   },
   "id": "f3edb89dfeda6994",
   "execution_count": 19
  },
  {
   "cell_type": "code",
   "outputs": [],
   "source": [
    "trainer_toxic = Trainer(\n",
    "    model,\n",
    "    args,\n",
    "    train_dataset=ds_train,\n",
    "    eval_dataset=ds_valid,\n",
    "    processing_class=tokenizer,\n",
    "    compute_metrics=compute_metrics,\n",
    "    callbacks=[EarlyStoppingCallback(early_stopping_patience=7)]\n",
    ")"
   ],
   "metadata": {
    "collapsed": false,
    "ExecuteTime": {
     "end_time": "2024-12-09T14:30:08.804524700Z",
     "start_time": "2024-12-09T14:30:08.208329400Z"
    }
   },
   "id": "6afcd38cea0e292a",
   "execution_count": 20
  },
  {
   "cell_type": "code",
   "outputs": [
    {
     "name": "stderr",
     "output_type": "stream",
     "text": [
      "wandb: WARNING The `run_name` is currently set to the same value as `TrainingArguments.output_dir`. If this was not intended, please specify a different run name by setting the `TrainingArguments.run_name` parameter.\n"
     ]
    },
    {
     "data": {
      "text/plain": "<IPython.core.display.HTML object>",
      "text/html": "Tracking run with wandb version 0.19.0"
     },
     "metadata": {},
     "output_type": "display_data"
    },
    {
     "data": {
      "text/plain": "<IPython.core.display.HTML object>",
      "text/html": "Run data is saved locally in <code>C:\\Users\\thoma\\Documents\\1-Uni\\NLP\\online_sexism_detection\\milestone_2\\wandb\\run-20241209_153009-kfhlp9ov</code>"
     },
     "metadata": {},
     "output_type": "display_data"
    },
    {
     "data": {
      "text/plain": "<IPython.core.display.HTML object>",
      "text/html": "Syncing run <strong><a href='https://wandb.ai/online_sexism_detection/huggingface/runs/kfhlp9ov' target=\"_blank\">./model-finetuned_sexism-detection</a></strong> to <a href='https://wandb.ai/online_sexism_detection/huggingface' target=\"_blank\">Weights & Biases</a> (<a href='https://wandb.me/developer-guide' target=\"_blank\">docs</a>)<br/>"
     },
     "metadata": {},
     "output_type": "display_data"
    },
    {
     "data": {
      "text/plain": "<IPython.core.display.HTML object>",
      "text/html": " View project at <a href='https://wandb.ai/online_sexism_detection/huggingface' target=\"_blank\">https://wandb.ai/online_sexism_detection/huggingface</a>"
     },
     "metadata": {},
     "output_type": "display_data"
    },
    {
     "data": {
      "text/plain": "<IPython.core.display.HTML object>",
      "text/html": " View run at <a href='https://wandb.ai/online_sexism_detection/huggingface/runs/kfhlp9ov' target=\"_blank\">https://wandb.ai/online_sexism_detection/huggingface/runs/kfhlp9ov</a>"
     },
     "metadata": {},
     "output_type": "display_data"
    },
    {
     "data": {
      "text/plain": "<IPython.core.display.HTML object>",
      "text/html": "\n    <div>\n      \n      <progress value='2' max='4380' style='width:300px; height:20px; vertical-align: middle;'></progress>\n      [   2/4380 : < :, Epoch 0.00/10]\n    </div>\n    <table border=\"1\" class=\"dataframe\">\n  <thead>\n <tr style=\"text-align: left;\">\n      <th>Epoch</th>\n      <th>Training Loss</th>\n      <th>Validation Loss</th>\n    </tr>\n  </thead>\n  <tbody>\n  </tbody>\n</table><p>"
     },
     "metadata": {},
     "output_type": "display_data"
    },
    {
     "data": {
      "text/plain": "TrainOutput(global_step=4380, training_loss=0.1759481992011201, metrics={'train_runtime': 1457.8078, 'train_samples_per_second': 96.035, 'train_steps_per_second': 3.005, 'total_flos': 3138628728874560.0, 'train_loss': 0.1759481992011201, 'epoch': 10.0})"
     },
     "execution_count": 21,
     "metadata": {},
     "output_type": "execute_result"
    }
   ],
   "source": [
    "trainer_toxic.train()"
   ],
   "metadata": {
    "collapsed": false,
    "ExecuteTime": {
     "end_time": "2024-12-09T14:54:26.886134500Z",
     "start_time": "2024-12-09T14:30:08.975235Z"
    }
   },
   "id": "1a03c3b5e1dee826",
   "execution_count": 21
  },
  {
   "cell_type": "code",
   "outputs": [],
   "source": [
    "wandb.finish()"
   ],
   "metadata": {
    "collapsed": false,
    "ExecuteTime": {
     "end_time": "2024-12-09T17:07:12.218912900Z",
     "start_time": "2024-12-09T17:07:12.146917600Z"
    }
   },
   "id": "7ad4b93ac5cc9777",
   "execution_count": 29
  },
  {
   "cell_type": "code",
   "outputs": [
    {
     "data": {
      "text/plain": "<IPython.core.display.HTML object>",
      "text/html": "Tracking run with wandb version 0.19.0"
     },
     "metadata": {},
     "output_type": "display_data"
    },
    {
     "data": {
      "text/plain": "<IPython.core.display.HTML object>",
      "text/html": "Run data is saved locally in <code>C:\\Users\\thoma\\Documents\\1-Uni\\NLP\\online_sexism_detection\\milestone_2\\wandb\\run-20241209_180729-65zg6pua</code>"
     },
     "metadata": {},
     "output_type": "display_data"
    },
    {
     "data": {
      "text/plain": "<IPython.core.display.HTML object>",
      "text/html": "Syncing run <strong><a href='https://wandb.ai/online_sexism_detection/online_sexism_detection-milestone_2_milestone_2/runs/65zg6pua' target=\"_blank\">graceful-shape-1</a></strong> to <a href='https://wandb.ai/online_sexism_detection/online_sexism_detection-milestone_2_milestone_2' target=\"_blank\">Weights & Biases</a> (<a href='https://wandb.me/developer-guide' target=\"_blank\">docs</a>)<br/>"
     },
     "metadata": {},
     "output_type": "display_data"
    },
    {
     "data": {
      "text/plain": "<IPython.core.display.HTML object>",
      "text/html": " View project at <a href='https://wandb.ai/online_sexism_detection/online_sexism_detection-milestone_2_milestone_2' target=\"_blank\">https://wandb.ai/online_sexism_detection/online_sexism_detection-milestone_2_milestone_2</a>"
     },
     "metadata": {},
     "output_type": "display_data"
    },
    {
     "data": {
      "text/plain": "<IPython.core.display.HTML object>",
      "text/html": " View run at <a href='https://wandb.ai/online_sexism_detection/online_sexism_detection-milestone_2_milestone_2/runs/65zg6pua' target=\"_blank\">https://wandb.ai/online_sexism_detection/online_sexism_detection-milestone_2_milestone_2/runs/65zg6pua</a>"
     },
     "metadata": {},
     "output_type": "display_data"
    },
    {
     "data": {
      "text/html": "<button onClick=\"this.nextSibling.style.display='block';this.style.display='none';\">Display W&B run</button><iframe src='https://wandb.ai/online_sexism_detection/online_sexism_detection-milestone_2_milestone_2/runs/65zg6pua?jupyter=true' style='border:none;width:100%;height:420px;display:none;'></iframe>",
      "text/plain": "<wandb.sdk.wandb_run.Run at 0x27f4a1c1360>"
     },
     "execution_count": 31,
     "metadata": {},
     "output_type": "execute_result"
    }
   ],
   "source": [
    "wandb.init()"
   ],
   "metadata": {
    "collapsed": false,
    "ExecuteTime": {
     "end_time": "2024-12-09T17:07:30.798788900Z",
     "start_time": "2024-12-09T17:07:28.890406500Z"
    }
   },
   "id": "9faecfae4326b9d",
   "execution_count": 31
  },
  {
   "cell_type": "code",
   "outputs": [
    {
     "data": {
      "text/plain": "{'eval_loss': 0.6664354205131531,\n 'eval_f1': 0.638477801268499,\n 'eval_balanced_accuracy': 0.7585199319383966,\n 'eval_accuracy': 0.829,\n 'eval_runtime': 3.9518,\n 'eval_samples_per_second': 506.101,\n 'eval_steps_per_second': 15.942,\n 'epoch': 10.0}"
     },
     "execution_count": 32,
     "metadata": {},
     "output_type": "execute_result"
    }
   ],
   "source": [
    "trainer_toxic.evaluate()"
   ],
   "metadata": {
    "collapsed": false,
    "ExecuteTime": {
     "end_time": "2024-12-09T17:07:34.773062500Z",
     "start_time": "2024-12-09T17:07:30.794770700Z"
    }
   },
   "id": "ae62c59f43412c4",
   "execution_count": 32
  },
  {
   "cell_type": "code",
   "outputs": [],
   "source": [
    "test_pred = trainer_toxic.predict(test_dataset=ds_test)"
   ],
   "metadata": {
    "collapsed": false,
    "ExecuteTime": {
     "end_time": "2024-12-09T17:07:43.563079400Z",
     "start_time": "2024-12-09T17:07:35.726103700Z"
    }
   },
   "id": "4aea4bb9f240fb09",
   "execution_count": 33
  },
  {
   "cell_type": "code",
   "outputs": [],
   "source": [
    "logits = test_pred.predictions"
   ],
   "metadata": {
    "collapsed": false,
    "ExecuteTime": {
     "end_time": "2024-12-09T17:07:43.579718600Z",
     "start_time": "2024-12-09T17:07:43.565133200Z"
    }
   },
   "id": "5b76f7fb2cc887f2",
   "execution_count": 34
  },
  {
   "cell_type": "code",
   "outputs": [],
   "source": [
    "logits_exp = np.exp(logits)\n",
    "# Divide by the sum of exponents along the specified axis\n",
    "softmax_probs = logits_exp / np.sum(logits_exp, axis=-1, keepdims=True)"
   ],
   "metadata": {
    "collapsed": false,
    "ExecuteTime": {
     "end_time": "2024-12-09T17:07:43.603234900Z",
     "start_time": "2024-12-09T17:07:43.580240800Z"
    }
   },
   "id": "b314e2ff6da1091e",
   "execution_count": 35
  },
  {
   "cell_type": "code",
   "outputs": [
    {
     "data": {
      "text/plain": "(4000, 2)"
     },
     "execution_count": 36,
     "metadata": {},
     "output_type": "execute_result"
    }
   ],
   "source": [
    "softmax_probs.shape"
   ],
   "metadata": {
    "collapsed": false,
    "ExecuteTime": {
     "end_time": "2024-12-09T17:07:45.218833100Z",
     "start_time": "2024-12-09T17:07:45.196435800Z"
    }
   },
   "id": "d7c02655effd2f8d",
   "execution_count": 36
  },
  {
   "cell_type": "code",
   "outputs": [
    {
     "data": {
      "text/plain": "(4000, 2)"
     },
     "execution_count": 37,
     "metadata": {},
     "output_type": "execute_result"
    }
   ],
   "source": [
    "logits.shape"
   ],
   "metadata": {
    "collapsed": false,
    "ExecuteTime": {
     "end_time": "2024-12-09T17:07:45.842058900Z",
     "start_time": "2024-12-09T17:07:45.806258600Z"
    }
   },
   "id": "af2e0ae6326741d0",
   "execution_count": 37
  },
  {
   "cell_type": "code",
   "outputs": [
    {
     "data": {
      "text/plain": "(4000, 1)"
     },
     "execution_count": 38,
     "metadata": {},
     "output_type": "execute_result"
    }
   ],
   "source": [
    "np.argmax(softmax_probs, axis=-1, keepdims=True).shape"
   ],
   "metadata": {
    "collapsed": false,
    "ExecuteTime": {
     "end_time": "2024-12-09T17:07:46.590891900Z",
     "start_time": "2024-12-09T17:07:46.519769300Z"
    }
   },
   "id": "e77a54d513106dee",
   "execution_count": 38
  },
  {
   "cell_type": "code",
   "outputs": [],
   "source": [
    "C = np.hstack([np.argmax(logits, axis=-1, keepdims=True), softmax_probs, logits])"
   ],
   "metadata": {
    "collapsed": false,
    "ExecuteTime": {
     "end_time": "2024-12-09T17:07:47.746277100Z",
     "start_time": "2024-12-09T17:07:47.725645500Z"
    }
   },
   "id": "b244274e31959c22",
   "execution_count": 39
  },
  {
   "cell_type": "code",
   "outputs": [],
   "source": [
    "df_output = pd.DataFrame(C, columns=[\"y_pred\", \"prob_0\", \"prob_1\", \"logit_0\", \"logit_1\"])"
   ],
   "metadata": {
    "collapsed": false,
    "ExecuteTime": {
     "end_time": "2024-12-09T17:07:48.285686200Z",
     "start_time": "2024-12-09T17:07:48.262527300Z"
    }
   },
   "id": "e19b05ae0f4e67f5",
   "execution_count": 40
  },
  {
   "cell_type": "code",
   "outputs": [
    {
     "data": {
      "text/plain": "      y_true  y_pred    prob_0    prob_1   logit_0   logit_1\n0          0       0  0.996087  0.003913  2.540978 -2.998505\n1          1       1  0.030102  0.969898 -1.877300  1.595283\n2          0       0  0.996104  0.003896  2.543153 -3.000632\n3          1       1  0.017916  0.982084 -2.182345  1.821633\n4          1       1  0.017843  0.982157 -2.184655  1.823493\n...      ...     ...       ...       ...       ...       ...\n3995       0       1  0.192201  0.807799 -0.761816  0.673956\n3996       1       1  0.023464  0.976536 -2.008916  1.719607\n3997       0       1  0.017974  0.982026 -2.177738  1.822964\n3998       0       0  0.996103  0.003898  2.543027 -3.000481\n3999       1       0  0.985029  0.014971  1.865459 -2.321107\n\n[4000 rows x 6 columns]",
      "text/html": "<div>\n<style scoped>\n    .dataframe tbody tr th:only-of-type {\n        vertical-align: middle;\n    }\n\n    .dataframe tbody tr th {\n        vertical-align: top;\n    }\n\n    .dataframe thead th {\n        text-align: right;\n    }\n</style>\n<table border=\"1\" class=\"dataframe\">\n  <thead>\n    <tr style=\"text-align: right;\">\n      <th></th>\n      <th>y_true</th>\n      <th>y_pred</th>\n      <th>prob_0</th>\n      <th>prob_1</th>\n      <th>logit_0</th>\n      <th>logit_1</th>\n    </tr>\n  </thead>\n  <tbody>\n    <tr>\n      <th>0</th>\n      <td>0</td>\n      <td>0</td>\n      <td>0.996087</td>\n      <td>0.003913</td>\n      <td>2.540978</td>\n      <td>-2.998505</td>\n    </tr>\n    <tr>\n      <th>1</th>\n      <td>1</td>\n      <td>1</td>\n      <td>0.030102</td>\n      <td>0.969898</td>\n      <td>-1.877300</td>\n      <td>1.595283</td>\n    </tr>\n    <tr>\n      <th>2</th>\n      <td>0</td>\n      <td>0</td>\n      <td>0.996104</td>\n      <td>0.003896</td>\n      <td>2.543153</td>\n      <td>-3.000632</td>\n    </tr>\n    <tr>\n      <th>3</th>\n      <td>1</td>\n      <td>1</td>\n      <td>0.017916</td>\n      <td>0.982084</td>\n      <td>-2.182345</td>\n      <td>1.821633</td>\n    </tr>\n    <tr>\n      <th>4</th>\n      <td>1</td>\n      <td>1</td>\n      <td>0.017843</td>\n      <td>0.982157</td>\n      <td>-2.184655</td>\n      <td>1.823493</td>\n    </tr>\n    <tr>\n      <th>...</th>\n      <td>...</td>\n      <td>...</td>\n      <td>...</td>\n      <td>...</td>\n      <td>...</td>\n      <td>...</td>\n    </tr>\n    <tr>\n      <th>3995</th>\n      <td>0</td>\n      <td>1</td>\n      <td>0.192201</td>\n      <td>0.807799</td>\n      <td>-0.761816</td>\n      <td>0.673956</td>\n    </tr>\n    <tr>\n      <th>3996</th>\n      <td>1</td>\n      <td>1</td>\n      <td>0.023464</td>\n      <td>0.976536</td>\n      <td>-2.008916</td>\n      <td>1.719607</td>\n    </tr>\n    <tr>\n      <th>3997</th>\n      <td>0</td>\n      <td>1</td>\n      <td>0.017974</td>\n      <td>0.982026</td>\n      <td>-2.177738</td>\n      <td>1.822964</td>\n    </tr>\n    <tr>\n      <th>3998</th>\n      <td>0</td>\n      <td>0</td>\n      <td>0.996103</td>\n      <td>0.003898</td>\n      <td>2.543027</td>\n      <td>-3.000481</td>\n    </tr>\n    <tr>\n      <th>3999</th>\n      <td>1</td>\n      <td>0</td>\n      <td>0.985029</td>\n      <td>0.014971</td>\n      <td>1.865459</td>\n      <td>-2.321107</td>\n    </tr>\n  </tbody>\n</table>\n<p>4000 rows × 6 columns</p>\n</div>"
     },
     "execution_count": 41,
     "metadata": {},
     "output_type": "execute_result"
    }
   ],
   "source": [
    "df_output = pd.concat([df_test['label'], df_output], axis=1)\n",
    "df_output['y_pred'] = df_output['y_pred'].astype(int)\n",
    "df_output.rename(columns={'label' : 'y_true'})"
   ],
   "metadata": {
    "collapsed": false,
    "ExecuteTime": {
     "end_time": "2024-12-09T17:07:51.547273100Z",
     "start_time": "2024-12-09T17:07:51.500388900Z"
    }
   },
   "id": "52e69e16641d177f",
   "execution_count": 41
  },
  {
   "cell_type": "code",
   "outputs": [
    {
     "data": {
      "text/plain": "label        int64\ny_pred       int32\nprob_0     float64\nprob_1     float64\nlogit_0    float64\nlogit_1    float64\ndtype: object"
     },
     "execution_count": 42,
     "metadata": {},
     "output_type": "execute_result"
    }
   ],
   "source": [
    "df_output.dtypes"
   ],
   "metadata": {
    "collapsed": false,
    "ExecuteTime": {
     "end_time": "2024-12-09T17:07:57.623652800Z",
     "start_time": "2024-12-09T17:07:57.597433400Z"
    }
   },
   "id": "7feb74d7b5f6b456",
   "execution_count": 42
  },
  {
   "cell_type": "code",
   "outputs": [],
   "source": [
    "df_output.to_parquet(\"dl_predictions.parquet\", index=True)"
   ],
   "metadata": {
    "collapsed": false,
    "ExecuteTime": {
     "end_time": "2024-12-09T17:07:58.760567300Z",
     "start_time": "2024-12-09T17:07:58.695372800Z"
    }
   },
   "id": "702e9c32cd872104",
   "execution_count": 43
  },
  {
   "cell_type": "code",
   "outputs": [],
   "source": [
    "df_output.to_csv(\"dl_predictions.csv\", index=True)"
   ],
   "metadata": {
    "collapsed": false,
    "ExecuteTime": {
     "end_time": "2024-12-09T17:08:38.108122Z",
     "start_time": "2024-12-09T17:08:38.052083500Z"
    }
   },
   "id": "e6ec854c400cea50",
   "execution_count": 46
  },
  {
   "cell_type": "code",
   "outputs": [],
   "source": [
    "df_try = pd.read_parquet(\"dl_predictions.parquet\")"
   ],
   "metadata": {
    "collapsed": false,
    "ExecuteTime": {
     "end_time": "2024-12-09T17:07:59.758693100Z",
     "start_time": "2024-12-09T17:07:59.707918800Z"
    }
   },
   "id": "1b8434d433145fa5",
   "execution_count": 44
  },
  {
   "cell_type": "code",
   "outputs": [
    {
     "data": {
      "text/plain": "      label  y_pred    prob_0    prob_1   logit_0   logit_1\n0         0       0  0.996087  0.003913  2.540978 -2.998505\n1         1       1  0.030102  0.969898 -1.877300  1.595283\n2         0       0  0.996104  0.003896  2.543153 -3.000632\n3         1       1  0.017916  0.982084 -2.182345  1.821633\n4         1       1  0.017843  0.982157 -2.184655  1.823493\n...     ...     ...       ...       ...       ...       ...\n3995      0       1  0.192201  0.807799 -0.761816  0.673956\n3996      1       1  0.023464  0.976536 -2.008916  1.719607\n3997      0       1  0.017974  0.982026 -2.177738  1.822964\n3998      0       0  0.996103  0.003898  2.543027 -3.000481\n3999      1       0  0.985029  0.014971  1.865459 -2.321107\n\n[4000 rows x 6 columns]",
      "text/html": "<div>\n<style scoped>\n    .dataframe tbody tr th:only-of-type {\n        vertical-align: middle;\n    }\n\n    .dataframe tbody tr th {\n        vertical-align: top;\n    }\n\n    .dataframe thead th {\n        text-align: right;\n    }\n</style>\n<table border=\"1\" class=\"dataframe\">\n  <thead>\n    <tr style=\"text-align: right;\">\n      <th></th>\n      <th>label</th>\n      <th>y_pred</th>\n      <th>prob_0</th>\n      <th>prob_1</th>\n      <th>logit_0</th>\n      <th>logit_1</th>\n    </tr>\n  </thead>\n  <tbody>\n    <tr>\n      <th>0</th>\n      <td>0</td>\n      <td>0</td>\n      <td>0.996087</td>\n      <td>0.003913</td>\n      <td>2.540978</td>\n      <td>-2.998505</td>\n    </tr>\n    <tr>\n      <th>1</th>\n      <td>1</td>\n      <td>1</td>\n      <td>0.030102</td>\n      <td>0.969898</td>\n      <td>-1.877300</td>\n      <td>1.595283</td>\n    </tr>\n    <tr>\n      <th>2</th>\n      <td>0</td>\n      <td>0</td>\n      <td>0.996104</td>\n      <td>0.003896</td>\n      <td>2.543153</td>\n      <td>-3.000632</td>\n    </tr>\n    <tr>\n      <th>3</th>\n      <td>1</td>\n      <td>1</td>\n      <td>0.017916</td>\n      <td>0.982084</td>\n      <td>-2.182345</td>\n      <td>1.821633</td>\n    </tr>\n    <tr>\n      <th>4</th>\n      <td>1</td>\n      <td>1</td>\n      <td>0.017843</td>\n      <td>0.982157</td>\n      <td>-2.184655</td>\n      <td>1.823493</td>\n    </tr>\n    <tr>\n      <th>...</th>\n      <td>...</td>\n      <td>...</td>\n      <td>...</td>\n      <td>...</td>\n      <td>...</td>\n      <td>...</td>\n    </tr>\n    <tr>\n      <th>3995</th>\n      <td>0</td>\n      <td>1</td>\n      <td>0.192201</td>\n      <td>0.807799</td>\n      <td>-0.761816</td>\n      <td>0.673956</td>\n    </tr>\n    <tr>\n      <th>3996</th>\n      <td>1</td>\n      <td>1</td>\n      <td>0.023464</td>\n      <td>0.976536</td>\n      <td>-2.008916</td>\n      <td>1.719607</td>\n    </tr>\n    <tr>\n      <th>3997</th>\n      <td>0</td>\n      <td>1</td>\n      <td>0.017974</td>\n      <td>0.982026</td>\n      <td>-2.177738</td>\n      <td>1.822964</td>\n    </tr>\n    <tr>\n      <th>3998</th>\n      <td>0</td>\n      <td>0</td>\n      <td>0.996103</td>\n      <td>0.003898</td>\n      <td>2.543027</td>\n      <td>-3.000481</td>\n    </tr>\n    <tr>\n      <th>3999</th>\n      <td>1</td>\n      <td>0</td>\n      <td>0.985029</td>\n      <td>0.014971</td>\n      <td>1.865459</td>\n      <td>-2.321107</td>\n    </tr>\n  </tbody>\n</table>\n<p>4000 rows × 6 columns</p>\n</div>"
     },
     "execution_count": 45,
     "metadata": {},
     "output_type": "execute_result"
    }
   ],
   "source": [
    "df_try"
   ],
   "metadata": {
    "collapsed": false,
    "ExecuteTime": {
     "end_time": "2024-12-09T17:08:01.241665100Z",
     "start_time": "2024-12-09T17:08:01.209351800Z"
    }
   },
   "id": "646533cfc95c7328",
   "execution_count": 45
  },
  {
   "cell_type": "markdown",
   "source": [
    "# Metrics"
   ],
   "metadata": {
    "collapsed": false
   },
   "id": "ace9a5d6282c8083"
  },
  {
   "cell_type": "code",
   "outputs": [],
   "source": [
    "from utils.metrics import plot_confusion_matrix, plot_calibration_curve, plot_probability_distribution, plot_boxplot_predicted_probabilities, plot_balanced_accuracy_vs_cutoff, plot_roc_curve_with_optimal_point, print_classification_report"
   ],
   "metadata": {
    "collapsed": false,
    "ExecuteTime": {
     "end_time": "2024-12-09T17:09:05.590780200Z",
     "start_time": "2024-12-09T17:09:05.566922500Z"
    }
   },
   "id": "2b87ff85e499ba6e",
   "execution_count": 49
  },
  {
   "cell_type": "code",
   "outputs": [
    {
     "data": {
      "text/plain": "   label  y_pred    prob_0    prob_1   logit_0   logit_1\n0      0       0  0.996087  0.003913  2.540978 -2.998505\n1      1       1  0.030102  0.969898 -1.877300  1.595283",
      "text/html": "<div>\n<style scoped>\n    .dataframe tbody tr th:only-of-type {\n        vertical-align: middle;\n    }\n\n    .dataframe tbody tr th {\n        vertical-align: top;\n    }\n\n    .dataframe thead th {\n        text-align: right;\n    }\n</style>\n<table border=\"1\" class=\"dataframe\">\n  <thead>\n    <tr style=\"text-align: right;\">\n      <th></th>\n      <th>label</th>\n      <th>y_pred</th>\n      <th>prob_0</th>\n      <th>prob_1</th>\n      <th>logit_0</th>\n      <th>logit_1</th>\n    </tr>\n  </thead>\n  <tbody>\n    <tr>\n      <th>0</th>\n      <td>0</td>\n      <td>0</td>\n      <td>0.996087</td>\n      <td>0.003913</td>\n      <td>2.540978</td>\n      <td>-2.998505</td>\n    </tr>\n    <tr>\n      <th>1</th>\n      <td>1</td>\n      <td>1</td>\n      <td>0.030102</td>\n      <td>0.969898</td>\n      <td>-1.877300</td>\n      <td>1.595283</td>\n    </tr>\n  </tbody>\n</table>\n</div>"
     },
     "execution_count": 50,
     "metadata": {},
     "output_type": "execute_result"
    }
   ],
   "source": [
    "df_output = pd.read_csv(\"../data_submission/dl_predictions.csv\", index_col=0)\n",
    "df_output.head(2)"
   ],
   "metadata": {
    "collapsed": false,
    "ExecuteTime": {
     "end_time": "2024-12-09T17:09:29.743472900Z",
     "start_time": "2024-12-09T17:09:29.691797Z"
    }
   },
   "id": "50d899745cd5f551",
   "execution_count": 50
  },
  {
   "cell_type": "code",
   "outputs": [
    {
     "data": {
      "text/plain": "<Figure size 800x600 with 1 Axes>",
      "image/png": "[encoded data removed]"
     },
     "metadata": {},
     "output_type": "display_data"
    }
   ],
   "source": [
    "plot_confusion_matrix(df_output)"
   ],
   "metadata": {
    "collapsed": false,
    "ExecuteTime": {
     "end_time": "2024-12-09T17:09:30.655018700Z",
     "start_time": "2024-12-09T17:09:30.439403100Z"
    }
   },
   "id": "3fa090a60caced36",
   "execution_count": 51
  },
  {
   "cell_type": "code",
   "outputs": [
    {
     "name": "stdout",
     "output_type": "stream",
     "text": [
      "Classification Report:\n",
      "              precision    recall  f1-score   support\n",
      "\n",
      "           0       0.89      0.89      0.89      3030\n",
      "           1       0.65      0.66      0.65       970\n",
      "\n",
      "    accuracy                           0.83      4000\n",
      "   macro avg       0.77      0.77      0.77      4000\n",
      "weighted avg       0.83      0.83      0.83      4000\n"
     ]
    }
   ],
   "source": [
    "print_classification_report(df_output)"
   ],
   "metadata": {
    "collapsed": false,
    "ExecuteTime": {
     "end_time": "2024-12-09T17:09:32.504015300Z",
     "start_time": "2024-12-09T17:09:32.441324900Z"
    }
   },
   "id": "306bbd5bed306a89",
   "execution_count": 52
  },
  {
   "cell_type": "code",
   "outputs": [],
   "source": [
    "df_output['y_pred'] = (df_output['prob_1'] > 0.25)"
   ],
   "metadata": {
    "collapsed": false,
    "ExecuteTime": {
     "end_time": "2024-12-09T17:09:34.469893100Z",
     "start_time": "2024-12-09T17:09:34.452948200Z"
    }
   },
   "id": "fb2418e6ae259ff",
   "execution_count": 53
  },
  {
   "cell_type": "code",
   "outputs": [
    {
     "name": "stdout",
     "output_type": "stream",
     "text": [
      "Classification Report:\n",
      "              precision    recall  f1-score   support\n",
      "\n",
      "           0       0.89      0.88      0.89      3030\n",
      "           1       0.64      0.66      0.65       970\n",
      "\n",
      "    accuracy                           0.83      4000\n",
      "   macro avg       0.77      0.77      0.77      4000\n",
      "weighted avg       0.83      0.83      0.83      4000\n"
     ]
    }
   ],
   "source": [
    "print_classification_report(df_output)"
   ],
   "metadata": {
    "collapsed": false,
    "ExecuteTime": {
     "end_time": "2024-12-09T17:09:35.581318700Z",
     "start_time": "2024-12-09T17:09:35.528491300Z"
    }
   },
   "id": "2e4b07db103f4eb0",
   "execution_count": 54
  },
  {
   "cell_type": "code",
   "outputs": [
    {
     "data": {
      "text/plain": "<Figure size 800x600 with 1 Axes>",
      "image/png": "[encoded data removed]"
     },
     "metadata": {},
     "output_type": "display_data"
    }
   ],
   "source": [
    "plot_confusion_matrix(df_output)"
   ],
   "metadata": {
    "collapsed": false,
    "ExecuteTime": {
     "end_time": "2024-12-09T17:09:36.460976100Z",
     "start_time": "2024-12-09T17:09:36.358851300Z"
    }
   },
   "id": "b56954e1609fb777",
   "execution_count": 55
  },
  {
   "cell_type": "code",
   "outputs": [
    {
     "data": {
      "text/plain": "<Figure size 800x600 with 1 Axes>",
      "image/png": "[encoded data removed]"
     },
     "metadata": {},
     "output_type": "display_data"
    }
   ],
   "source": [
    "plot_probability_distribution(df_output)"
   ],
   "metadata": {
    "collapsed": false,
    "ExecuteTime": {
     "end_time": "2024-12-09T17:09:37.890279100Z",
     "start_time": "2024-12-09T17:09:36.852878600Z"
    }
   },
   "id": "73faa1a61bbd4ae5",
   "execution_count": 56
  },
  {
   "cell_type": "code",
   "outputs": [
    {
     "data": {
      "text/plain": "<Figure size 800x600 with 1 Axes>",
      "image/png": "[encoded data removed]"
     },
     "metadata": {},
     "output_type": "display_data"
    }
   ],
   "source": [
    "plot_boxplot_predicted_probabilities(df_output)"
   ],
   "metadata": {
    "collapsed": false,
    "ExecuteTime": {
     "end_time": "2024-12-09T17:09:38.053050700Z",
     "start_time": "2024-12-09T17:09:37.886252300Z"
    }
   },
   "id": "520f63dd058af867",
   "execution_count": 57
  },
  {
   "cell_type": "code",
   "outputs": [],
   "source": [],
   "metadata": {
    "collapsed": false,
    "ExecuteTime": {
     "end_time": "2024-12-09T17:09:38.070048100Z",
     "start_time": "2024-12-09T17:09:38.052034300Z"
    }
   },
   "id": "69a0b6f4ac9c6c52",
   "execution_count": 57
  },
  {
   "cell_type": "code",
   "outputs": [],
   "source": [],
   "metadata": {
    "collapsed": false
   },
   "id": "78cbfa2a12db43a2"
  }
 ],
 "metadata": {
  "kernelspec": {
   "display_name": "Python 3",
   "language": "python",
   "name": "python3"
  },
  "language_info": {
   "codemirror_mode": {
    "name": "ipython",
    "version": 2
   },
   "file_extension": ".py",
   "mimetype": "text/x-python",
   "name": "python",
   "nbconvert_exporter": "python",
   "pygments_lexer": "ipython2",
   "version": "2.7.6"
  }
 },
 "nbformat": 4,
 "nbformat_minor": 5
}
