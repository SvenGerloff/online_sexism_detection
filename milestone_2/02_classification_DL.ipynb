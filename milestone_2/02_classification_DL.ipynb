{
 "cells": [
  {
   "cell_type": "markdown",
   "source": [
    "# Milestone 2 - Deep Learning model for sexism detection"
   ],
   "metadata": {
    "collapsed": false
   },
   "id": "c6b5c4b4d812aa92"
  },
  {
   "cell_type": "code",
   "execution_count": 1,
   "id": "ae34bda7a58233b7",
   "metadata": {
    "collapsed": false,
    "ExecuteTime": {
     "end_time": "2024-11-25T14:18:33.157273300Z",
     "start_time": "2024-11-25T14:18:32.166250700Z"
    }
   },
   "outputs": [],
   "source": [
    "import sys\n",
    "import os\n",
    "import pandas as pd\n",
    "import numpy as np"
   ]
  },
  {
   "cell_type": "code",
   "outputs": [],
   "source": [
    "train_parquet = \"../data_submission/train_dataset.parquet\"\n",
    "dev_parquet = \"../data_submission/dev_dataset.parquet\"\n",
    "test_parquet = \"../data_submission/test_dataset.parquet\""
   ],
   "metadata": {
    "collapsed": false,
    "ExecuteTime": {
     "end_time": "2024-11-25T14:18:33.978281200Z",
     "start_time": "2024-11-25T14:18:33.942263900Z"
    }
   },
   "id": "c0997425f1f99ce0",
   "execution_count": 2
  },
  {
   "cell_type": "code",
   "outputs": [],
   "source": [
    "def load_processed_data(split=None):\n",
    "    # Load the full dataset if no specific split is requested\n",
    "    if split is None:\n",
    "        split = [\"train\", \"dev\", \"test\"]\n",
    "\n",
    "    # Load specified split datasets\n",
    "    split_dataframes = {}\n",
    "    paths = {\n",
    "        \"train\": train_parquet,\n",
    "        \"dev\": dev_parquet,\n",
    "        \"test\": test_parquet,\n",
    "    }\n",
    "    # Load each specified split from paths dictionary\n",
    "    for split_type in split:\n",
    "        split_dataset_path = paths.get(split_type)\n",
    "        if split_dataset_path and os.path.exists(split_dataset_path):\n",
    "            split_dataframes[split_type] = pd.read_parquet(split_dataset_path)\n",
    "            print(f\"df: {split_type.capitalize()} split loaded.\")\n",
    "        else:\n",
    "            print(f\"Warning: {split_type} split file not found.\")\n",
    "\n",
    "    return split_dataframes"
   ],
   "metadata": {
    "collapsed": true,
    "ExecuteTime": {
     "end_time": "2024-11-25T14:18:34.603258600Z",
     "start_time": "2024-11-25T14:18:34.569252700Z"
    }
   },
   "id": "initial_id",
   "execution_count": 3
  },
  {
   "cell_type": "code",
   "outputs": [
    {
     "name": "stdout",
     "output_type": "stream",
     "text": [
      "torch.cuda.is_available() = True\n",
      "torch.version.cuda = '11.8'\n"
     ]
    }
   ],
   "source": [
    "import torch\n",
    "SEED = 8172003\n",
    "\n",
    "torch.manual_seed(SEED)\n",
    "torch.backends.cudnn.deterministic = True\n",
    "\n",
    "print(f\"{torch.cuda.is_available() = }\")\n",
    "print(f\"{torch.version.cuda = }\")"
   ],
   "metadata": {
    "collapsed": false,
    "ExecuteTime": {
     "end_time": "2024-11-25T14:18:39.161261900Z",
     "start_time": "2024-11-25T14:18:35.677331600Z"
    }
   },
   "id": "d4e096e2d258022a",
   "execution_count": 4
  },
  {
   "cell_type": "markdown",
   "source": [
    "## Data loading and formatting"
   ],
   "metadata": {
    "collapsed": false
   },
   "id": "ae47cec5625de555"
  },
  {
   "cell_type": "code",
   "outputs": [
    {
     "name": "stdout",
     "output_type": "stream",
     "text": [
      "df: Train split loaded.\n",
      "df: Test split loaded.\n",
      "df: Dev split loaded.\n"
     ]
    },
    {
     "data": {
      "text/plain": "                                                    text  label  split  \\\n13596  You need to talk to your own lawyer. Debt and ...      0  train   \n12948  \"Brown skin\" male sexually assaulted THREE tee...      0  train   \n4004   Just think of this typical scenario Man: \"When...      0  train   \n8003   I was raped as a sophomore in HS. I was also a...      0  train   \n6949   cant wait til third world takes over the USA a...      1  train   \n\n                                                   lemma  \\\n13596  [\"you\",\"need\",\"talk\",\"your\",\"own\",\"lawyer\",\"de...   \n12948  [\"Brown\",\"skin\",\"male\",\"sexually\",\"assault\",\"t...   \n4004   [\"think\",\"typical\",\"scenario\",\"man\",\"I\",\"be\",\"...   \n8003   [\"I\",\"be\",\"rape\",\"sophomore\",\"HS\",\"I\",\"be\",\"al...   \n6949   [\"cant\",\"wait\",\"till\",\"third\",\"world\",\"take\",\"...   \n\n                                                     pos  user_count  \\\n13596  [\"PRON\",\"VERB\",\"VERB\",\"PRON\",\"ADJ\",\"NOUN\",\"NOU...           0   \n12948  [\"PROPN\",\"NOUN\",\"NOUN\",\"ADV\",\"VERB\",\"NUM\",\"ADJ...           0   \n4004   [\"VERB\",\"ADJ\",\"NOUN\",\"NOUN\",\"PRON\",\"AUX\",\"ADJ\"...           0   \n8003   [\"PRON\",\"AUX\",\"VERB\",\"NOUN\",\"PROPN\",\"PRON\",\"AU...           0   \n6949   [\"AUX\",\"VERB\",\"ADP\",\"ADJ\",\"NOUN\",\"VERB\",\"ADP\",...           0   \n\n       url_count  \n13596          0  \n12948          1  \n4004           0  \n8003           0  \n6949           0  ",
      "text/html": "<div>\n<style scoped>\n    .dataframe tbody tr th:only-of-type {\n        vertical-align: middle;\n    }\n\n    .dataframe tbody tr th {\n        vertical-align: top;\n    }\n\n    .dataframe thead th {\n        text-align: right;\n    }\n</style>\n<table border=\"1\" class=\"dataframe\">\n  <thead>\n    <tr style=\"text-align: right;\">\n      <th></th>\n      <th>text</th>\n      <th>label</th>\n      <th>split</th>\n      <th>lemma</th>\n      <th>pos</th>\n      <th>user_count</th>\n      <th>url_count</th>\n    </tr>\n  </thead>\n  <tbody>\n    <tr>\n      <th>13596</th>\n      <td>You need to talk to your own lawyer. Debt and ...</td>\n      <td>0</td>\n      <td>train</td>\n      <td>[\"you\",\"need\",\"talk\",\"your\",\"own\",\"lawyer\",\"de...</td>\n      <td>[\"PRON\",\"VERB\",\"VERB\",\"PRON\",\"ADJ\",\"NOUN\",\"NOU...</td>\n      <td>0</td>\n      <td>0</td>\n    </tr>\n    <tr>\n      <th>12948</th>\n      <td>\"Brown skin\" male sexually assaulted THREE tee...</td>\n      <td>0</td>\n      <td>train</td>\n      <td>[\"Brown\",\"skin\",\"male\",\"sexually\",\"assault\",\"t...</td>\n      <td>[\"PROPN\",\"NOUN\",\"NOUN\",\"ADV\",\"VERB\",\"NUM\",\"ADJ...</td>\n      <td>0</td>\n      <td>1</td>\n    </tr>\n    <tr>\n      <th>4004</th>\n      <td>Just think of this typical scenario Man: \"When...</td>\n      <td>0</td>\n      <td>train</td>\n      <td>[\"think\",\"typical\",\"scenario\",\"man\",\"I\",\"be\",\"...</td>\n      <td>[\"VERB\",\"ADJ\",\"NOUN\",\"NOUN\",\"PRON\",\"AUX\",\"ADJ\"...</td>\n      <td>0</td>\n      <td>0</td>\n    </tr>\n    <tr>\n      <th>8003</th>\n      <td>I was raped as a sophomore in HS. I was also a...</td>\n      <td>0</td>\n      <td>train</td>\n      <td>[\"I\",\"be\",\"rape\",\"sophomore\",\"HS\",\"I\",\"be\",\"al...</td>\n      <td>[\"PRON\",\"AUX\",\"VERB\",\"NOUN\",\"PROPN\",\"PRON\",\"AU...</td>\n      <td>0</td>\n      <td>0</td>\n    </tr>\n    <tr>\n      <th>6949</th>\n      <td>cant wait til third world takes over the USA a...</td>\n      <td>1</td>\n      <td>train</td>\n      <td>[\"cant\",\"wait\",\"till\",\"third\",\"world\",\"take\",\"...</td>\n      <td>[\"AUX\",\"VERB\",\"ADP\",\"ADJ\",\"NOUN\",\"VERB\",\"ADP\",...</td>\n      <td>0</td>\n      <td>0</td>\n    </tr>\n  </tbody>\n</table>\n</div>"
     },
     "execution_count": 5,
     "metadata": {},
     "output_type": "execute_result"
    }
   ],
   "source": [
    "TRAIN_RATIO = 0.01\n",
    "BATCH_SIZE = 32\n",
    "EPOCHS = 10\n",
    "\n",
    "df_all = load_processed_data(['train', 'test', 'dev'])\n",
    "df_train = df_all['train'].sample(frac=TRAIN_RATIO, random_state=SEED)\n",
    "df_test = df_all['test']\n",
    "df_valid = df_all['dev']\n",
    "\n",
    "df_train.head()"
   ],
   "metadata": {
    "collapsed": false,
    "ExecuteTime": {
     "end_time": "2024-11-25T14:18:41.681281800Z",
     "start_time": "2024-11-25T14:18:41.440258300Z"
    }
   },
   "id": "405c0e5a60287681",
   "execution_count": 5
  },
  {
   "cell_type": "code",
   "outputs": [],
   "source": [
    "label2id = {\"Sexist\" : 1, \"Not Sexist\" : 0}\n",
    "id2label = {0: \"Not Sexist\", 1: \"Sexist\"}"
   ],
   "metadata": {
    "collapsed": false,
    "ExecuteTime": {
     "end_time": "2024-11-25T14:18:43.338268400Z",
     "start_time": "2024-11-25T14:18:43.291257800Z"
    }
   },
   "id": "46708c9f59d532c5",
   "execution_count": 6
  },
  {
   "cell_type": "code",
   "outputs": [],
   "source": [
    "from transformers import AutoModelForSequenceClassification, AutoTokenizer, BertTokenizer, BertForSequenceClassification\n",
    "from datasets import Dataset\n",
    "from transformers import TrainingArguments, Trainer\n",
    "\n",
    "model_path = \"martin-ha/toxic-comment-model\"\n",
    "tokenizer = AutoTokenizer.from_pretrained(model_path)\n",
    "model = AutoModelForSequenceClassification.from_pretrained(model_path)"
   ],
   "metadata": {
    "collapsed": false,
    "ExecuteTime": {
     "end_time": "2024-11-25T14:18:51.861252600Z",
     "start_time": "2024-11-25T14:18:44.262271Z"
    }
   },
   "id": "913d43293c247c88",
   "execution_count": 7
  },
  {
   "cell_type": "code",
   "outputs": [
    {
     "data": {
      "text/plain": "Dataset({\n    features: ['label', 'text', '__index_level_0__'],\n    num_rows: 140\n})"
     },
     "execution_count": 8,
     "metadata": {},
     "output_type": "execute_result"
    }
   ],
   "source": [
    "ds_train = Dataset.from_pandas(df_train.loc[:, ['label', 'text']], split='train')\n",
    "ds_train"
   ],
   "metadata": {
    "collapsed": false,
    "ExecuteTime": {
     "end_time": "2024-11-25T14:18:52.517268800Z",
     "start_time": "2024-11-25T14:18:52.496258900Z"
    }
   },
   "id": "10b9a84f096fde81",
   "execution_count": 8
  },
  {
   "cell_type": "code",
   "outputs": [
    {
     "data": {
      "text/plain": "{'label': 0,\n 'text': 'You need to talk to your own lawyer. Debt and property from before the marriage should remain with original owner. Any assets or debt acquired after marriage is split 50/50. That includes things she will try to say are hers, like jewelry.',\n '__index_level_0__': 13596}"
     },
     "execution_count": 9,
     "metadata": {},
     "output_type": "execute_result"
    }
   ],
   "source": [
    "ds_train[0]"
   ],
   "metadata": {
    "collapsed": false,
    "ExecuteTime": {
     "end_time": "2024-11-25T14:18:53.668279900Z",
     "start_time": "2024-11-25T14:18:53.647258Z"
    }
   },
   "id": "1f2bb7660242210a",
   "execution_count": 9
  },
  {
   "cell_type": "code",
   "outputs": [],
   "source": [
    "def convert_and_tokenize(examples):\n",
    "    text = examples[\"text\"]\n",
    "    encoding = tokenizer(text, padding=True, truncation=True, max_length=128)\n",
    "    encoding[\"labels\"] = examples['label']\n",
    "\n",
    "    return encoding"
   ],
   "metadata": {
    "collapsed": false,
    "ExecuteTime": {
     "end_time": "2024-11-25T14:18:54.538251300Z",
     "start_time": "2024-11-25T14:18:54.516251500Z"
    }
   },
   "id": "73ca0eff19bf0963",
   "execution_count": 10
  },
  {
   "cell_type": "code",
   "outputs": [
    {
     "data": {
      "text/plain": "Map:   0%|          | 0/140 [00:00<?, ? examples/s]",
      "application/vnd.jupyter.widget-view+json": {
       "version_major": 2,
       "version_minor": 0,
       "model_id": "6298bafa588e4fefb097bafb676bb608"
      }
     },
     "metadata": {},
     "output_type": "display_data"
    }
   ],
   "source": [
    "ds_train = ds_train.map(convert_and_tokenize, batched=True, batch_size=64, remove_columns=ds_train.column_names)"
   ],
   "metadata": {
    "collapsed": false,
    "ExecuteTime": {
     "end_time": "2024-11-25T14:18:55.527264200Z",
     "start_time": "2024-11-25T14:18:55.448251900Z"
    }
   },
   "id": "66390fc934c33010",
   "execution_count": 11
  },
  {
   "cell_type": "code",
   "outputs": [
    {
     "data": {
      "text/plain": "Dataset({\n    features: ['input_ids', 'attention_mask', 'labels'],\n    num_rows: 140\n})"
     },
     "execution_count": 12,
     "metadata": {},
     "output_type": "execute_result"
    }
   ],
   "source": [
    "ds_train"
   ],
   "metadata": {
    "collapsed": false,
    "ExecuteTime": {
     "end_time": "2024-11-25T14:18:56.090253Z",
     "start_time": "2024-11-25T14:18:56.064256800Z"
    }
   },
   "id": "331253587cef9944",
   "execution_count": 12
  },
  {
   "cell_type": "code",
   "outputs": [
    {
     "data": {
      "text/plain": "'[CLS] men want to be needed [SEP] [PAD] [PAD] [PAD] [PAD] [PAD] [PAD] [PAD] [PAD] [PAD] [PAD] [PAD] [PAD] [PAD] [PAD] [PAD] [PAD] [PAD] [PAD] [PAD] [PAD] [PAD] [PAD] [PAD] [PAD] [PAD] [PAD] [PAD] [PAD] [PAD] [PAD] [PAD] [PAD] [PAD] [PAD] [PAD] [PAD] [PAD] [PAD] [PAD] [PAD] [PAD] [PAD] [PAD] [PAD] [PAD] [PAD] [PAD] [PAD] [PAD] [PAD] [PAD] [PAD] [PAD] [PAD] [PAD]'"
     },
     "execution_count": 13,
     "metadata": {},
     "output_type": "execute_result"
    }
   ],
   "source": [
    "tokenizer.decode(ds_train[32]['input_ids'])"
   ],
   "metadata": {
    "collapsed": false,
    "ExecuteTime": {
     "end_time": "2024-11-25T14:18:56.833266900Z",
     "start_time": "2024-11-25T14:18:56.780263400Z"
    }
   },
   "id": "f7648d08f0bccd67",
   "execution_count": 13
  },
  {
   "cell_type": "code",
   "outputs": [],
   "source": [
    "ds_train.set_format(\"torch\")"
   ],
   "metadata": {
    "collapsed": false,
    "ExecuteTime": {
     "end_time": "2024-11-25T14:18:57.896282Z",
     "start_time": "2024-11-25T14:18:57.873253100Z"
    }
   },
   "id": "4a67f6c09df63b3e",
   "execution_count": 14
  },
  {
   "cell_type": "code",
   "outputs": [
    {
     "data": {
      "text/plain": "Map:   0%|          | 0/4000 [00:00<?, ? examples/s]",
      "application/vnd.jupyter.widget-view+json": {
       "version_major": 2,
       "version_minor": 0,
       "model_id": "31f035a46edc4da59601188869ea5fec"
      }
     },
     "metadata": {},
     "output_type": "display_data"
    },
    {
     "data": {
      "text/plain": "Map:   0%|          | 0/2000 [00:00<?, ? examples/s]",
      "application/vnd.jupyter.widget-view+json": {
       "version_major": 2,
       "version_minor": 0,
       "model_id": "cf0371c48184486cae20330128fa8313"
      }
     },
     "metadata": {},
     "output_type": "display_data"
    }
   ],
   "source": [
    "ds_test = Dataset.from_pandas(df_test.loc[:, ['label', 'text']])\n",
    "ds_test = ds_test.map(convert_and_tokenize, batched=True, batch_size=BATCH_SIZE, remove_columns=ds_test.column_names)\n",
    "ds_test.set_format(\"torch\")\n",
    "\n",
    "ds_valid = Dataset.from_pandas(df_valid.loc[:, ['label', 'text']])\n",
    "ds_valid = ds_valid.map(convert_and_tokenize, batched=True, batch_size=BATCH_SIZE, remove_columns=ds_valid.column_names)\n",
    "ds_valid.set_format(\"torch\")"
   ],
   "metadata": {
    "collapsed": false,
    "ExecuteTime": {
     "end_time": "2024-11-25T14:19:01.522261800Z",
     "start_time": "2024-11-25T14:19:00.104250900Z"
    }
   },
   "id": "44fe9800f1c6489d",
   "execution_count": 15
  },
  {
   "cell_type": "markdown",
   "source": [
    "## Model loading and finetuning"
   ],
   "metadata": {
    "collapsed": false
   },
   "id": "c97dbf031defe106"
  },
  {
   "cell_type": "code",
   "outputs": [],
   "source": [
    "model_path = \"martin-ha/toxic-comment-model\"\n",
    "tokenizer = AutoTokenizer.from_pretrained(model_path,\n",
    "                                          problem_type=\"single_label_classification\",\n",
    "                                          num_labels=2,\n",
    "                                          id2label=id2label,\n",
    "                                          label2id=label2id)\n",
    "model = AutoModelForSequenceClassification.from_pretrained(model_path,\n",
    "                                                           num_labels=2,\n",
    "                                                           id2label=id2label,\n",
    "                                                           label2id=label2id)"
   ],
   "metadata": {
    "collapsed": false,
    "ExecuteTime": {
     "end_time": "2024-11-25T14:19:05.484261Z",
     "start_time": "2024-11-25T14:19:04.941257400Z"
    }
   },
   "id": "83be2c98a96dd5",
   "execution_count": 16
  },
  {
   "cell_type": "code",
   "outputs": [],
   "source": [
    "from transformers import EvalPrediction\n",
    "from sklearn.metrics import f1_score, balanced_accuracy_score, accuracy_score\n",
    "\n",
    "def binary_metrics(predictions, labels):\n",
    "    y_pred = np.argmax(predictions, axis=-1)\n",
    "    y_true = labels\n",
    "    f1 = f1_score(y_true=y_true, y_pred=y_pred)\n",
    "    bal_acc = balanced_accuracy_score(y_true=y_true, y_pred=y_pred)\n",
    "    accuracy = accuracy_score(y_true, y_pred)\n",
    "    metrics = {'f1': f1,\n",
    "               'balanced_accuracy': bal_acc,\n",
    "               'accuracy': accuracy}\n",
    "    return metrics\n",
    "\n",
    "def compute_metrics(p: EvalPrediction):\n",
    "    preds = p.predictions[0] if isinstance(p.predictions,\n",
    "                                           tuple) else p.predictions\n",
    "    result = binary_metrics(\n",
    "        predictions=preds,\n",
    "        labels=p.label_ids)\n",
    "    return result"
   ],
   "metadata": {
    "collapsed": false,
    "ExecuteTime": {
     "end_time": "2024-11-25T14:19:17.267280800Z",
     "start_time": "2024-11-25T14:19:17.242264100Z"
    }
   },
   "id": "692a5ee7a160c267",
   "execution_count": 18
  },
  {
   "cell_type": "code",
   "outputs": [],
   "source": [
    "METRIC = \"balanced_accuracy\"\n",
    "from datetime import datetime\n",
    "current_date = datetime.now().strftime(\"%Y%m%d\")\n",
    "\n",
    "from transformers import TrainingArguments, Trainer, EarlyStoppingCallback\n",
    "\n",
    "args = TrainingArguments(\n",
    "    f\"./model-finetuned_sexism-detection\",\n",
    "    overwrite_output_dir=True,\n",
    "    eval_strategy = \"epoch\",\n",
    "    save_strategy = \"epoch\",\n",
    "    save_steps=3,\n",
    "    save_total_limit=1,\n",
    "    logging_dir=f\"./logs_sexism-detection_{current_date}\",\n",
    "    logging_steps=10,\n",
    "    seed=SEED,\n",
    "    per_device_train_batch_size=BATCH_SIZE,\n",
    "    per_device_eval_batch_size=BATCH_SIZE,\n",
    "    num_train_epochs=1,\n",
    "    weight_decay=0.01,\n",
    "    load_best_model_at_end=True,\n",
    "    metric_for_best_model=METRIC,\n",
    "    greater_is_better=True,\n",
    ")"
   ],
   "metadata": {
    "collapsed": false,
    "ExecuteTime": {
     "end_time": "2024-11-25T14:19:32.437268Z",
     "start_time": "2024-11-25T14:19:32.344257400Z"
    }
   },
   "id": "f3edb89dfeda6994",
   "execution_count": 21
  },
  {
   "cell_type": "code",
   "outputs": [],
   "source": [
    "trainer_toxic = Trainer(\n",
    "    model,\n",
    "    args,\n",
    "    train_dataset=ds_train,\n",
    "    eval_dataset=ds_valid,\n",
    "    processing_class=tokenizer,\n",
    "    compute_metrics=compute_metrics,\n",
    "    callbacks=[EarlyStoppingCallback(early_stopping_patience=3)]\n",
    ")"
   ],
   "metadata": {
    "collapsed": false,
    "ExecuteTime": {
     "end_time": "2024-11-25T14:19:35.113257700Z",
     "start_time": "2024-11-25T14:19:33.863256700Z"
    }
   },
   "id": "6afcd38cea0e292a",
   "execution_count": 22
  },
  {
   "cell_type": "code",
   "outputs": [
    {
     "data": {
      "text/plain": "<IPython.core.display.HTML object>",
      "text/html": "\n    <div>\n      \n      <progress value='2' max='5' style='width:300px; height:20px; vertical-align: middle;'></progress>\n      [2/5 : < :, Epoch 0.20/1]\n    </div>\n    <table border=\"1\" class=\"dataframe\">\n  <thead>\n <tr style=\"text-align: left;\">\n      <th>Epoch</th>\n      <th>Training Loss</th>\n      <th>Validation Loss</th>\n    </tr>\n  </thead>\n  <tbody>\n  </tbody>\n</table><p>"
     },
     "metadata": {},
     "output_type": "display_data"
    },
    {
     "data": {
      "text/plain": "TrainOutput(global_step=5, training_loss=0.8562407493591309, metrics={'train_runtime': 72.7036, 'train_samples_per_second': 1.926, 'train_steps_per_second': 0.069, 'total_flos': 2789059682640.0, 'train_loss': 0.8562407493591309, 'epoch': 1.0})"
     },
     "execution_count": 23,
     "metadata": {},
     "output_type": "execute_result"
    }
   ],
   "source": [
    "trainer_toxic.train()"
   ],
   "metadata": {
    "collapsed": false,
    "ExecuteTime": {
     "end_time": "2024-11-25T14:20:51.459921900Z",
     "start_time": "2024-11-25T14:19:38.511263400Z"
    }
   },
   "id": "1a03c3b5e1dee826",
   "execution_count": 23
  },
  {
   "cell_type": "code",
   "outputs": [
    {
     "data": {
      "text/plain": "<IPython.core.display.HTML object>",
      "text/html": "\n    <div>\n      \n      <progress value='1' max='63' style='width:300px; height:20px; vertical-align: middle;'></progress>\n      [ 1/63 : < :]\n    </div>\n    "
     },
     "metadata": {},
     "output_type": "display_data"
    },
    {
     "data": {
      "text/plain": "{'eval_loss': 0.7862019538879395,\n 'eval_f1': 0.37362637362637363,\n 'eval_balanced_accuracy': 0.5771156449271817,\n 'eval_accuracy': 0.658,\n 'eval_runtime': 12.7423,\n 'eval_samples_per_second': 156.957,\n 'eval_steps_per_second': 4.944,\n 'epoch': 1.0}"
     },
     "execution_count": 24,
     "metadata": {},
     "output_type": "execute_result"
    }
   ],
   "source": [
    "trainer_toxic.evaluate()"
   ],
   "metadata": {
    "collapsed": false,
    "ExecuteTime": {
     "end_time": "2024-11-25T14:21:04.233272100Z",
     "start_time": "2024-11-25T14:20:51.463921500Z"
    }
   },
   "id": "ae62c59f43412c4",
   "execution_count": 24
  },
  {
   "cell_type": "code",
   "outputs": [
    {
     "data": {
      "text/plain": "<IPython.core.display.HTML object>",
      "text/html": "\n    <div>\n      \n      <progress value='1' max='125' style='width:300px; height:20px; vertical-align: middle;'></progress>\n      [  1/125 : < :]\n    </div>\n    "
     },
     "metadata": {},
     "output_type": "display_data"
    }
   ],
   "source": [
    "test_pred = trainer_toxic.predict(test_dataset=ds_test)"
   ],
   "metadata": {
    "collapsed": false,
    "ExecuteTime": {
     "end_time": "2024-11-25T14:29:13.712774500Z",
     "start_time": "2024-11-25T14:29:06.180780400Z"
    }
   },
   "id": "4aea4bb9f240fb09",
   "execution_count": 35
  },
  {
   "cell_type": "code",
   "outputs": [],
   "source": [
    "logits = test_pred.predictions"
   ],
   "metadata": {
    "collapsed": false,
    "ExecuteTime": {
     "end_time": "2024-11-25T14:32:03.904373500Z",
     "start_time": "2024-11-25T14:32:03.877957500Z"
    }
   },
   "id": "5b76f7fb2cc887f2",
   "execution_count": 40
  },
  {
   "cell_type": "code",
   "outputs": [
    {
     "data": {
      "text/plain": "array([1, 1, 1, ..., 0, 0, 1], dtype=int64)"
     },
     "execution_count": 41,
     "metadata": {},
     "output_type": "execute_result"
    }
   ],
   "source": [],
   "metadata": {
    "collapsed": false,
    "ExecuteTime": {
     "end_time": "2024-11-25T14:32:04.233144400Z",
     "start_time": "2024-11-25T14:32:04.195154300Z"
    }
   },
   "id": "8fc77f795ca0538f",
   "execution_count": 41
  },
  {
   "cell_type": "code",
   "outputs": [],
   "source": [
    "np.softmax"
   ],
   "metadata": {
    "collapsed": false
   },
   "id": "6ea28514f61f5b5c"
  },
  {
   "cell_type": "code",
   "outputs": [],
   "source": [
    "logits_exp = np.exp(logits)\n",
    "# Divide by the sum of exponents along the specified axis\n",
    "softmax_probs = logits_exp / np.sum(logits_exp, axis=-1, keepdims=True)"
   ],
   "metadata": {
    "collapsed": false,
    "ExecuteTime": {
     "end_time": "2024-11-25T14:32:16.329638300Z",
     "start_time": "2024-11-25T14:32:16.324637Z"
    }
   },
   "id": "b314e2ff6da1091e",
   "execution_count": 42
  },
  {
   "cell_type": "code",
   "outputs": [
    {
     "data": {
      "text/plain": "(4000, 2)"
     },
     "execution_count": 54,
     "metadata": {},
     "output_type": "execute_result"
    }
   ],
   "source": [
    "softmax_probs.shape"
   ],
   "metadata": {
    "collapsed": false,
    "ExecuteTime": {
     "end_time": "2024-11-25T14:34:35.819554100Z",
     "start_time": "2024-11-25T14:34:35.780550Z"
    }
   },
   "id": "d7c02655effd2f8d",
   "execution_count": 54
  },
  {
   "cell_type": "code",
   "outputs": [
    {
     "data": {
      "text/plain": "(4000, 2)"
     },
     "execution_count": 53,
     "metadata": {},
     "output_type": "execute_result"
    }
   ],
   "source": [
    "logits.shape"
   ],
   "metadata": {
    "collapsed": false,
    "ExecuteTime": {
     "end_time": "2024-11-25T14:34:30.776356900Z",
     "start_time": "2024-11-25T14:34:30.732351400Z"
    }
   },
   "id": "af2e0ae6326741d0",
   "execution_count": 53
  },
  {
   "cell_type": "code",
   "outputs": [
    {
     "data": {
      "text/plain": "(4000, 1)"
     },
     "execution_count": 56,
     "metadata": {},
     "output_type": "execute_result"
    }
   ],
   "source": [
    "np.argmax(logits, axis=-1, keepdims=True).shape"
   ],
   "metadata": {
    "collapsed": false,
    "ExecuteTime": {
     "end_time": "2024-11-25T14:35:17.556812Z",
     "start_time": "2024-11-25T14:35:17.532802600Z"
    }
   },
   "id": "e77a54d513106dee",
   "execution_count": 56
  },
  {
   "cell_type": "code",
   "outputs": [],
   "source": [
    "C = np.hstack([np.argmax(logits, axis=-1, keepdims=True), softmax_probs, logits])"
   ],
   "metadata": {
    "collapsed": false,
    "ExecuteTime": {
     "end_time": "2024-11-25T14:43:08.706704100Z",
     "start_time": "2024-11-25T14:43:08.679699500Z"
    }
   },
   "id": "b244274e31959c22",
   "execution_count": 83
  },
  {
   "cell_type": "code",
   "outputs": [],
   "source": [
    "df_output = pd.DataFrame(C, columns=[\"y_pred\", \"prob_0\", \"prob_1\", \"logit_0\", \"logit_1\"])"
   ],
   "metadata": {
    "collapsed": false,
    "ExecuteTime": {
     "end_time": "2024-11-25T14:43:09.124937400Z",
     "start_time": "2024-11-25T14:43:09.112938500Z"
    }
   },
   "id": "e19b05ae0f4e67f5",
   "execution_count": 84
  },
  {
   "cell_type": "code",
   "outputs": [
    {
     "data": {
      "text/plain": "      y_true  y_pred    prob_0    prob_1   logit_0   logit_1\n0          0       1  0.081155  0.918845 -1.457788  0.968966\n1          1       1  0.239404  0.760596 -0.766639  0.389313\n2          0       1  0.186122  0.813878 -0.942610  0.532795\n3          1       0  0.966872  0.033128  1.483588 -1.890090\n4          1       1  0.495746  0.504254 -0.073781 -0.056764\n...      ...     ...       ...       ...       ...       ...\n3995       0       0  0.842376  0.157624  0.643424 -1.032590\n3996       1       0  0.908636  0.091364  0.944283 -1.352811\n3997       0       0  0.747841  0.252159  0.394681 -0.692449\n3998       0       0  0.943093  0.056907  1.200612 -1.607137\n3999       1       1  0.127389  0.872611 -1.196028  0.728218\n\n[4000 rows x 6 columns]",
      "text/html": "<div>\n<style scoped>\n    .dataframe tbody tr th:only-of-type {\n        vertical-align: middle;\n    }\n\n    .dataframe tbody tr th {\n        vertical-align: top;\n    }\n\n    .dataframe thead th {\n        text-align: right;\n    }\n</style>\n<table border=\"1\" class=\"dataframe\">\n  <thead>\n    <tr style=\"text-align: right;\">\n      <th></th>\n      <th>y_true</th>\n      <th>y_pred</th>\n      <th>prob_0</th>\n      <th>prob_1</th>\n      <th>logit_0</th>\n      <th>logit_1</th>\n    </tr>\n  </thead>\n  <tbody>\n    <tr>\n      <th>0</th>\n      <td>0</td>\n      <td>1</td>\n      <td>0.081155</td>\n      <td>0.918845</td>\n      <td>-1.457788</td>\n      <td>0.968966</td>\n    </tr>\n    <tr>\n      <th>1</th>\n      <td>1</td>\n      <td>1</td>\n      <td>0.239404</td>\n      <td>0.760596</td>\n      <td>-0.766639</td>\n      <td>0.389313</td>\n    </tr>\n    <tr>\n      <th>2</th>\n      <td>0</td>\n      <td>1</td>\n      <td>0.186122</td>\n      <td>0.813878</td>\n      <td>-0.942610</td>\n      <td>0.532795</td>\n    </tr>\n    <tr>\n      <th>3</th>\n      <td>1</td>\n      <td>0</td>\n      <td>0.966872</td>\n      <td>0.033128</td>\n      <td>1.483588</td>\n      <td>-1.890090</td>\n    </tr>\n    <tr>\n      <th>4</th>\n      <td>1</td>\n      <td>1</td>\n      <td>0.495746</td>\n      <td>0.504254</td>\n      <td>-0.073781</td>\n      <td>-0.056764</td>\n    </tr>\n    <tr>\n      <th>...</th>\n      <td>...</td>\n      <td>...</td>\n      <td>...</td>\n      <td>...</td>\n      <td>...</td>\n      <td>...</td>\n    </tr>\n    <tr>\n      <th>3995</th>\n      <td>0</td>\n      <td>0</td>\n      <td>0.842376</td>\n      <td>0.157624</td>\n      <td>0.643424</td>\n      <td>-1.032590</td>\n    </tr>\n    <tr>\n      <th>3996</th>\n      <td>1</td>\n      <td>0</td>\n      <td>0.908636</td>\n      <td>0.091364</td>\n      <td>0.944283</td>\n      <td>-1.352811</td>\n    </tr>\n    <tr>\n      <th>3997</th>\n      <td>0</td>\n      <td>0</td>\n      <td>0.747841</td>\n      <td>0.252159</td>\n      <td>0.394681</td>\n      <td>-0.692449</td>\n    </tr>\n    <tr>\n      <th>3998</th>\n      <td>0</td>\n      <td>0</td>\n      <td>0.943093</td>\n      <td>0.056907</td>\n      <td>1.200612</td>\n      <td>-1.607137</td>\n    </tr>\n    <tr>\n      <th>3999</th>\n      <td>1</td>\n      <td>1</td>\n      <td>0.127389</td>\n      <td>0.872611</td>\n      <td>-1.196028</td>\n      <td>0.728218</td>\n    </tr>\n  </tbody>\n</table>\n<p>4000 rows × 6 columns</p>\n</div>"
     },
     "execution_count": 85,
     "metadata": {},
     "output_type": "execute_result"
    }
   ],
   "source": [
    "df_output = pd.concat([df_test['label'], df_output], axis=1)\n",
    "df_output['y_pred'] = df_output['y_pred'].astype(int)\n",
    "df_output.rename(columns={'label' : 'y_true'})"
   ],
   "metadata": {
    "collapsed": false,
    "ExecuteTime": {
     "end_time": "2024-11-25T14:43:09.589252700Z",
     "start_time": "2024-11-25T14:43:09.535256200Z"
    }
   },
   "id": "52e69e16641d177f",
   "execution_count": 85
  },
  {
   "cell_type": "code",
   "outputs": [
    {
     "data": {
      "text/plain": "label        int64\ny_pred       int32\nprob_0     float64\nprob_1     float64\nlogit_0    float64\nlogit_1    float64\ndtype: object"
     },
     "execution_count": 86,
     "metadata": {},
     "output_type": "execute_result"
    }
   ],
   "source": [
    "df_output.dtypes"
   ],
   "metadata": {
    "collapsed": false,
    "ExecuteTime": {
     "end_time": "2024-11-25T14:43:10.640531700Z",
     "start_time": "2024-11-25T14:43:10.590562600Z"
    }
   },
   "id": "7feb74d7b5f6b456",
   "execution_count": 86
  },
  {
   "cell_type": "code",
   "outputs": [],
   "source": [
    "df_output.to_parquet(\"dl_predictions.parquet\", index=True)"
   ],
   "metadata": {
    "collapsed": false,
    "ExecuteTime": {
     "end_time": "2024-11-25T14:43:11.459749400Z",
     "start_time": "2024-11-25T14:43:11.400737400Z"
    }
   },
   "id": "702e9c32cd872104",
   "execution_count": 87
  },
  {
   "cell_type": "code",
   "outputs": [],
   "source": [
    "df_try = pd.read_parquet(\"dl_predictions.parquet\")"
   ],
   "metadata": {
    "collapsed": false,
    "ExecuteTime": {
     "end_time": "2024-11-25T14:43:34.602949500Z",
     "start_time": "2024-11-25T14:43:34.520942800Z"
    }
   },
   "id": "1b8434d433145fa5",
   "execution_count": 88
  },
  {
   "cell_type": "code",
   "outputs": [
    {
     "data": {
      "text/plain": "      label  y_pred    prob_0    prob_1   logit_0   logit_1\n0         0       1  0.081155  0.918845 -1.457788  0.968966\n1         1       1  0.239404  0.760596 -0.766639  0.389313\n2         0       1  0.186122  0.813878 -0.942610  0.532795\n3         1       0  0.966872  0.033128  1.483588 -1.890090\n4         1       1  0.495746  0.504254 -0.073781 -0.056764\n...     ...     ...       ...       ...       ...       ...\n3995      0       0  0.842376  0.157624  0.643424 -1.032590\n3996      1       0  0.908636  0.091364  0.944283 -1.352811\n3997      0       0  0.747841  0.252159  0.394681 -0.692449\n3998      0       0  0.943093  0.056907  1.200612 -1.607137\n3999      1       1  0.127389  0.872611 -1.196028  0.728218\n\n[4000 rows x 6 columns]",
      "text/html": "<div>\n<style scoped>\n    .dataframe tbody tr th:only-of-type {\n        vertical-align: middle;\n    }\n\n    .dataframe tbody tr th {\n        vertical-align: top;\n    }\n\n    .dataframe thead th {\n        text-align: right;\n    }\n</style>\n<table border=\"1\" class=\"dataframe\">\n  <thead>\n    <tr style=\"text-align: right;\">\n      <th></th>\n      <th>label</th>\n      <th>y_pred</th>\n      <th>prob_0</th>\n      <th>prob_1</th>\n      <th>logit_0</th>\n      <th>logit_1</th>\n    </tr>\n  </thead>\n  <tbody>\n    <tr>\n      <th>0</th>\n      <td>0</td>\n      <td>1</td>\n      <td>0.081155</td>\n      <td>0.918845</td>\n      <td>-1.457788</td>\n      <td>0.968966</td>\n    </tr>\n    <tr>\n      <th>1</th>\n      <td>1</td>\n      <td>1</td>\n      <td>0.239404</td>\n      <td>0.760596</td>\n      <td>-0.766639</td>\n      <td>0.389313</td>\n    </tr>\n    <tr>\n      <th>2</th>\n      <td>0</td>\n      <td>1</td>\n      <td>0.186122</td>\n      <td>0.813878</td>\n      <td>-0.942610</td>\n      <td>0.532795</td>\n    </tr>\n    <tr>\n      <th>3</th>\n      <td>1</td>\n      <td>0</td>\n      <td>0.966872</td>\n      <td>0.033128</td>\n      <td>1.483588</td>\n      <td>-1.890090</td>\n    </tr>\n    <tr>\n      <th>4</th>\n      <td>1</td>\n      <td>1</td>\n      <td>0.495746</td>\n      <td>0.504254</td>\n      <td>-0.073781</td>\n      <td>-0.056764</td>\n    </tr>\n    <tr>\n      <th>...</th>\n      <td>...</td>\n      <td>...</td>\n      <td>...</td>\n      <td>...</td>\n      <td>...</td>\n      <td>...</td>\n    </tr>\n    <tr>\n      <th>3995</th>\n      <td>0</td>\n      <td>0</td>\n      <td>0.842376</td>\n      <td>0.157624</td>\n      <td>0.643424</td>\n      <td>-1.032590</td>\n    </tr>\n    <tr>\n      <th>3996</th>\n      <td>1</td>\n      <td>0</td>\n      <td>0.908636</td>\n      <td>0.091364</td>\n      <td>0.944283</td>\n      <td>-1.352811</td>\n    </tr>\n    <tr>\n      <th>3997</th>\n      <td>0</td>\n      <td>0</td>\n      <td>0.747841</td>\n      <td>0.252159</td>\n      <td>0.394681</td>\n      <td>-0.692449</td>\n    </tr>\n    <tr>\n      <th>3998</th>\n      <td>0</td>\n      <td>0</td>\n      <td>0.943093</td>\n      <td>0.056907</td>\n      <td>1.200612</td>\n      <td>-1.607137</td>\n    </tr>\n    <tr>\n      <th>3999</th>\n      <td>1</td>\n      <td>1</td>\n      <td>0.127389</td>\n      <td>0.872611</td>\n      <td>-1.196028</td>\n      <td>0.728218</td>\n    </tr>\n  </tbody>\n</table>\n<p>4000 rows × 6 columns</p>\n</div>"
     },
     "execution_count": 89,
     "metadata": {},
     "output_type": "execute_result"
    }
   ],
   "source": [
    "df_try"
   ],
   "metadata": {
    "collapsed": false,
    "ExecuteTime": {
     "end_time": "2024-11-25T14:43:40.887198200Z",
     "start_time": "2024-11-25T14:43:40.853210800Z"
    }
   },
   "id": "646533cfc95c7328",
   "execution_count": 89
  }
 ],
 "metadata": {
  "kernelspec": {
   "display_name": "Python 3",
   "language": "python",
   "name": "python3"
  },
  "language_info": {
   "codemirror_mode": {
    "name": "ipython",
    "version": 2
   },
   "file_extension": ".py",
   "mimetype": "text/x-python",
   "name": "python",
   "nbconvert_exporter": "python",
   "pygments_lexer": "ipython2",
   "version": "2.7.6"
  }
 },
 "nbformat": 4,
 "nbformat_minor": 5
}
