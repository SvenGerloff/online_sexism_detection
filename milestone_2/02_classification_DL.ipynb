{
 "cells": [
  {
   "cell_type": "markdown",
   "source": [
    "# Milestone 2 - Deep Learning model for sexism detection"
   ],
   "metadata": {
    "collapsed": false
   },
   "id": "c6b5c4b4d812aa92"
  },
  {
   "cell_type": "code",
   "execution_count": 1,
   "id": "ae34bda7a58233b7",
   "metadata": {
    "collapsed": false,
    "ExecuteTime": {
     "end_time": "2024-12-09T13:32:20.267718600Z",
     "start_time": "2024-12-09T13:32:15.726141Z"
    }
   },
   "outputs": [],
   "source": [
    "import sys\n",
    "import wandb\n",
    "import os\n",
    "import pandas as pd\n",
    "import numpy as np"
   ]
  },
  {
   "cell_type": "code",
   "outputs": [],
   "source": [
    "train_parquet = \"../data_submission/train_dataset.parquet\"\n",
    "dev_parquet = \"../data_submission/dev_dataset.parquet\"\n",
    "test_parquet = \"../data_submission/test_dataset.parquet\""
   ],
   "metadata": {
    "collapsed": false,
    "ExecuteTime": {
     "end_time": "2024-12-09T13:32:20.283857Z",
     "start_time": "2024-12-09T13:32:20.270718700Z"
    }
   },
   "id": "c0997425f1f99ce0",
   "execution_count": 2
  },
  {
   "cell_type": "code",
   "outputs": [],
   "source": [
    "def load_processed_data(split=None):\n",
    "    # Load the full dataset if no specific split is requested\n",
    "    if split is None:\n",
    "        split = [\"train\", \"dev\", \"test\"]\n",
    "\n",
    "    # Load specified split datasets\n",
    "    split_dataframes = {}\n",
    "    paths = {\n",
    "        \"train\": train_parquet,\n",
    "        \"dev\": dev_parquet,\n",
    "        \"test\": test_parquet,\n",
    "    }\n",
    "    # Load each specified split from paths dictionary\n",
    "    for split_type in split:\n",
    "        split_dataset_path = paths.get(split_type)\n",
    "        if split_dataset_path and os.path.exists(split_dataset_path):\n",
    "            split_dataframes[split_type] = pd.read_parquet(split_dataset_path)\n",
    "            print(f\"df: {split_type.capitalize()} split loaded.\")\n",
    "        else:\n",
    "            print(f\"Warning: {split_type} split file not found.\")\n",
    "\n",
    "    return split_dataframes"
   ],
   "metadata": {
    "collapsed": true,
    "ExecuteTime": {
     "end_time": "2024-12-09T13:32:20.314745900Z",
     "start_time": "2024-12-09T13:32:20.289025Z"
    }
   },
   "id": "initial_id",
   "execution_count": 3
  },
  {
   "cell_type": "code",
   "outputs": [
    {
     "name": "stdout",
     "output_type": "stream",
     "text": [
      "torch.cuda.is_available() = True\n",
      "torch.version.cuda = '11.8'\n"
     ]
    }
   ],
   "source": [
    "import torch\n",
    "SEED = 8172003\n",
    "\n",
    "torch.manual_seed(SEED)\n",
    "torch.backends.cudnn.deterministic = True\n",
    "\n",
    "print(f\"{torch.cuda.is_available() = }\")\n",
    "print(f\"{torch.version.cuda = }\")"
   ],
   "metadata": {
    "collapsed": false,
    "ExecuteTime": {
     "end_time": "2024-12-09T13:32:31.597204900Z",
     "start_time": "2024-12-09T13:32:25.192124800Z"
    }
   },
   "id": "d4e096e2d258022a",
   "execution_count": 5
  },
  {
   "cell_type": "code",
   "outputs": [
    {
     "name": "stderr",
     "output_type": "stream",
     "text": [
      "wandb: Using wandb-core as the SDK backend.  Please refer to https://wandb.me/wandb-core for more information.\n",
      "wandb: Logging into wandb.ai. (Learn how to deploy a W&B server locally: https://wandb.me/wandb-server)\n",
      "wandb: You can find your API key in your browser here: https://wandb.ai/authorize\n",
      "wandb: Paste an API key from your profile and hit enter, or press ctrl+c to quit:wandb: Appending key for api.wandb.ai to your netrc file: C:\\Users\\thoma\\_netrc\n"
     ]
    },
    {
     "data": {
      "text/plain": "True"
     },
     "execution_count": 7,
     "metadata": {},
     "output_type": "execute_result"
    }
   ],
   "source": [
    "wandb.login()"
   ],
   "metadata": {
    "collapsed": false,
    "ExecuteTime": {
     "end_time": "2024-12-09T13:32:48.057753600Z",
     "start_time": "2024-12-09T13:32:34.263169700Z"
    }
   },
   "id": "b4202a7f733b3c0d",
   "execution_count": 7
  },
  {
   "cell_type": "markdown",
   "source": [
    "## Data loading and formatting"
   ],
   "metadata": {
    "collapsed": false
   },
   "id": "ae47cec5625de555"
  },
  {
   "cell_type": "code",
   "outputs": [
    {
     "name": "stdout",
     "output_type": "stream",
     "text": [
      "df: Train split loaded.\n",
      "df: Test split loaded.\n",
      "df: Dev split loaded.\n"
     ]
    },
    {
     "data": {
      "text/plain": "                                                    text  label  split  \\\n13596  You need to talk to your own lawyer. Debt and ...      0  train   \n12948  \"Brown skin\" male sexually assaulted THREE tee...      0  train   \n4004   Just think of this typical scenario Man: \"When...      0  train   \n8003   I was raped as a sophomore in HS. I was also a...      0  train   \n6949   cant wait til third world takes over the USA a...      1  train   \n\n                                                   lemma  \\\n13596  [\"you\",\"need\",\"talk\",\"your\",\"own\",\"lawyer\",\"de...   \n12948  [\"Brown\",\"skin\",\"male\",\"sexually\",\"assault\",\"t...   \n4004   [\"think\",\"typical\",\"scenario\",\"man\",\"I\",\"be\",\"...   \n8003   [\"I\",\"be\",\"rape\",\"sophomore\",\"HS\",\"I\",\"be\",\"al...   \n6949   [\"cant\",\"wait\",\"till\",\"third\",\"world\",\"take\",\"...   \n\n                                                     pos  user_count  \\\n13596  [\"PRON\",\"VERB\",\"VERB\",\"PRON\",\"ADJ\",\"NOUN\",\"NOU...           0   \n12948  [\"PROPN\",\"NOUN\",\"NOUN\",\"ADV\",\"VERB\",\"NUM\",\"ADJ...           0   \n4004   [\"VERB\",\"ADJ\",\"NOUN\",\"NOUN\",\"PRON\",\"AUX\",\"ADJ\"...           0   \n8003   [\"PRON\",\"AUX\",\"VERB\",\"NOUN\",\"PROPN\",\"PRON\",\"AU...           0   \n6949   [\"AUX\",\"VERB\",\"ADP\",\"ADJ\",\"NOUN\",\"VERB\",\"ADP\",...           0   \n\n       url_count  \n13596          0  \n12948          1  \n4004           0  \n8003           0  \n6949           0  ",
      "text/html": "<div>\n<style scoped>\n    .dataframe tbody tr th:only-of-type {\n        vertical-align: middle;\n    }\n\n    .dataframe tbody tr th {\n        vertical-align: top;\n    }\n\n    .dataframe thead th {\n        text-align: right;\n    }\n</style>\n<table border=\"1\" class=\"dataframe\">\n  <thead>\n    <tr style=\"text-align: right;\">\n      <th></th>\n      <th>text</th>\n      <th>label</th>\n      <th>split</th>\n      <th>lemma</th>\n      <th>pos</th>\n      <th>user_count</th>\n      <th>url_count</th>\n    </tr>\n  </thead>\n  <tbody>\n    <tr>\n      <th>13596</th>\n      <td>You need to talk to your own lawyer. Debt and ...</td>\n      <td>0</td>\n      <td>train</td>\n      <td>[\"you\",\"need\",\"talk\",\"your\",\"own\",\"lawyer\",\"de...</td>\n      <td>[\"PRON\",\"VERB\",\"VERB\",\"PRON\",\"ADJ\",\"NOUN\",\"NOU...</td>\n      <td>0</td>\n      <td>0</td>\n    </tr>\n    <tr>\n      <th>12948</th>\n      <td>\"Brown skin\" male sexually assaulted THREE tee...</td>\n      <td>0</td>\n      <td>train</td>\n      <td>[\"Brown\",\"skin\",\"male\",\"sexually\",\"assault\",\"t...</td>\n      <td>[\"PROPN\",\"NOUN\",\"NOUN\",\"ADV\",\"VERB\",\"NUM\",\"ADJ...</td>\n      <td>0</td>\n      <td>1</td>\n    </tr>\n    <tr>\n      <th>4004</th>\n      <td>Just think of this typical scenario Man: \"When...</td>\n      <td>0</td>\n      <td>train</td>\n      <td>[\"think\",\"typical\",\"scenario\",\"man\",\"I\",\"be\",\"...</td>\n      <td>[\"VERB\",\"ADJ\",\"NOUN\",\"NOUN\",\"PRON\",\"AUX\",\"ADJ\"...</td>\n      <td>0</td>\n      <td>0</td>\n    </tr>\n    <tr>\n      <th>8003</th>\n      <td>I was raped as a sophomore in HS. I was also a...</td>\n      <td>0</td>\n      <td>train</td>\n      <td>[\"I\",\"be\",\"rape\",\"sophomore\",\"HS\",\"I\",\"be\",\"al...</td>\n      <td>[\"PRON\",\"AUX\",\"VERB\",\"NOUN\",\"PROPN\",\"PRON\",\"AU...</td>\n      <td>0</td>\n      <td>0</td>\n    </tr>\n    <tr>\n      <th>6949</th>\n      <td>cant wait til third world takes over the USA a...</td>\n      <td>1</td>\n      <td>train</td>\n      <td>[\"cant\",\"wait\",\"till\",\"third\",\"world\",\"take\",\"...</td>\n      <td>[\"AUX\",\"VERB\",\"ADP\",\"ADJ\",\"NOUN\",\"VERB\",\"ADP\",...</td>\n      <td>0</td>\n      <td>0</td>\n    </tr>\n  </tbody>\n</table>\n</div>"
     },
     "execution_count": 8,
     "metadata": {},
     "output_type": "execute_result"
    }
   ],
   "source": [
    "TRAIN_RATIO = 0.01\n",
    "BATCH_SIZE = 32\n",
    "EPOCHS = 10\n",
    "\n",
    "df_all = load_processed_data(['train', 'test', 'dev'])\n",
    "df_train = df_all['train'].sample(frac=TRAIN_RATIO, random_state=SEED)\n",
    "df_test = df_all['test']\n",
    "df_valid = df_all['dev']\n",
    "\n",
    "df_train.head()"
   ],
   "metadata": {
    "collapsed": false,
    "ExecuteTime": {
     "end_time": "2024-12-09T13:33:05.934426300Z",
     "start_time": "2024-12-09T13:33:05.336917600Z"
    }
   },
   "id": "405c0e5a60287681",
   "execution_count": 8
  },
  {
   "cell_type": "code",
   "outputs": [],
   "source": [
    "label2id = {\"Sexist\" : 1, \"Not Sexist\" : 0}\n",
    "id2label = {0: \"Not Sexist\", 1: \"Sexist\"}"
   ],
   "metadata": {
    "collapsed": false,
    "ExecuteTime": {
     "end_time": "2024-12-09T13:33:08.891452800Z",
     "start_time": "2024-12-09T13:33:08.853487900Z"
    }
   },
   "id": "46708c9f59d532c5",
   "execution_count": 9
  },
  {
   "cell_type": "code",
   "outputs": [],
   "source": [
    "from transformers import AutoModelForSequenceClassification, AutoTokenizer, BertTokenizer, BertForSequenceClassification\n",
    "from datasets import Dataset\n",
    "from transformers import TrainingArguments, Trainer\n",
    "\n",
    "model_path = \"martin-ha/toxic-comment-model\"\n",
    "tokenizer = AutoTokenizer.from_pretrained(model_path)\n",
    "model = AutoModelForSequenceClassification.from_pretrained(model_path)"
   ],
   "metadata": {
    "collapsed": false,
    "ExecuteTime": {
     "end_time": "2024-12-09T13:33:21.638880600Z",
     "start_time": "2024-12-09T13:33:09.684624400Z"
    }
   },
   "id": "913d43293c247c88",
   "execution_count": 10
  },
  {
   "cell_type": "code",
   "outputs": [
    {
     "data": {
      "text/plain": "Dataset({\n    features: ['label', 'text', '__index_level_0__'],\n    num_rows: 140\n})"
     },
     "execution_count": 11,
     "metadata": {},
     "output_type": "execute_result"
    }
   ],
   "source": [
    "ds_train = Dataset.from_pandas(df_train.loc[:, ['label', 'text']], split='train')\n",
    "ds_train"
   ],
   "metadata": {
    "collapsed": false,
    "ExecuteTime": {
     "end_time": "2024-12-09T13:33:21.705922800Z",
     "start_time": "2024-12-09T13:33:21.643898800Z"
    }
   },
   "id": "10b9a84f096fde81",
   "execution_count": 11
  },
  {
   "cell_type": "code",
   "outputs": [
    {
     "data": {
      "text/plain": "{'label': 0,\n 'text': 'You need to talk to your own lawyer. Debt and property from before the marriage should remain with original owner. Any assets or debt acquired after marriage is split 50/50. That includes things she will try to say are hers, like jewelry.',\n '__index_level_0__': 13596}"
     },
     "execution_count": 12,
     "metadata": {},
     "output_type": "execute_result"
    }
   ],
   "source": [
    "ds_train[0]"
   ],
   "metadata": {
    "collapsed": false,
    "ExecuteTime": {
     "end_time": "2024-12-09T13:33:21.708770700Z",
     "start_time": "2024-12-09T13:33:21.687059300Z"
    }
   },
   "id": "1f2bb7660242210a",
   "execution_count": 12
  },
  {
   "cell_type": "code",
   "outputs": [],
   "source": [
    "def convert_and_tokenize(examples):\n",
    "    text = examples[\"text\"]\n",
    "    encoding = tokenizer(text, padding=True, truncation=True, max_length=128)\n",
    "    encoding[\"labels\"] = examples['label']\n",
    "\n",
    "    return encoding"
   ],
   "metadata": {
    "collapsed": false,
    "ExecuteTime": {
     "end_time": "2024-12-09T13:33:21.799116100Z",
     "start_time": "2024-12-09T13:33:21.700606800Z"
    }
   },
   "id": "73ca0eff19bf0963",
   "execution_count": 13
  },
  {
   "cell_type": "code",
   "outputs": [
    {
     "data": {
      "text/plain": "Map:   0%|          | 0/140 [00:00<?, ? examples/s]",
      "application/vnd.jupyter.widget-view+json": {
       "version_major": 2,
       "version_minor": 0,
       "model_id": "3ee2f58ffa824ce4b3ccd030f375bb15"
      }
     },
     "metadata": {},
     "output_type": "display_data"
    }
   ],
   "source": [
    "ds_train = ds_train.map(convert_and_tokenize, batched=True, batch_size=64, remove_columns=ds_train.column_names)"
   ],
   "metadata": {
    "collapsed": false,
    "ExecuteTime": {
     "end_time": "2024-12-09T13:33:21.828993300Z",
     "start_time": "2024-12-09T13:33:21.728488700Z"
    }
   },
   "id": "66390fc934c33010",
   "execution_count": 14
  },
  {
   "cell_type": "code",
   "outputs": [
    {
     "data": {
      "text/plain": "Dataset({\n    features: ['input_ids', 'attention_mask', 'labels'],\n    num_rows: 140\n})"
     },
     "execution_count": 15,
     "metadata": {},
     "output_type": "execute_result"
    }
   ],
   "source": [
    "ds_train"
   ],
   "metadata": {
    "collapsed": false,
    "ExecuteTime": {
     "end_time": "2024-12-09T13:33:22.970575100Z",
     "start_time": "2024-12-09T13:33:22.943658700Z"
    }
   },
   "id": "331253587cef9944",
   "execution_count": 15
  },
  {
   "cell_type": "code",
   "outputs": [
    {
     "data": {
      "text/plain": "'[CLS] men want to be needed [SEP] [PAD] [PAD] [PAD] [PAD] [PAD] [PAD] [PAD] [PAD] [PAD] [PAD] [PAD] [PAD] [PAD] [PAD] [PAD] [PAD] [PAD] [PAD] [PAD] [PAD] [PAD] [PAD] [PAD] [PAD] [PAD] [PAD] [PAD] [PAD] [PAD] [PAD] [PAD] [PAD] [PAD] [PAD] [PAD] [PAD] [PAD] [PAD] [PAD] [PAD] [PAD] [PAD] [PAD] [PAD] [PAD] [PAD] [PAD] [PAD] [PAD] [PAD] [PAD] [PAD] [PAD] [PAD] [PAD]'"
     },
     "execution_count": 16,
     "metadata": {},
     "output_type": "execute_result"
    }
   ],
   "source": [
    "tokenizer.decode(ds_train[32]['input_ids'])"
   ],
   "metadata": {
    "collapsed": false,
    "ExecuteTime": {
     "end_time": "2024-12-09T13:33:26.851586600Z",
     "start_time": "2024-12-09T13:33:26.818631500Z"
    }
   },
   "id": "f7648d08f0bccd67",
   "execution_count": 16
  },
  {
   "cell_type": "code",
   "outputs": [],
   "source": [
    "ds_train.set_format(\"torch\")"
   ],
   "metadata": {
    "collapsed": false,
    "ExecuteTime": {
     "end_time": "2024-12-09T13:34:21.167986900Z",
     "start_time": "2024-12-09T13:34:21.126670400Z"
    }
   },
   "id": "4a67f6c09df63b3e",
   "execution_count": 17
  },
  {
   "cell_type": "code",
   "outputs": [
    {
     "data": {
      "text/plain": "Map:   0%|          | 0/4000 [00:00<?, ? examples/s]",
      "application/vnd.jupyter.widget-view+json": {
       "version_major": 2,
       "version_minor": 0,
       "model_id": "add6312050bd42d680d6cf94b5e97e04"
      }
     },
     "metadata": {},
     "output_type": "display_data"
    },
    {
     "data": {
      "text/plain": "Map:   0%|          | 0/2000 [00:00<?, ? examples/s]",
      "application/vnd.jupyter.widget-view+json": {
       "version_major": 2,
       "version_minor": 0,
       "model_id": "9beb06c1e36d47f89b3d3f825970ea3f"
      }
     },
     "metadata": {},
     "output_type": "display_data"
    }
   ],
   "source": [
    "ds_test = Dataset.from_pandas(df_test.loc[:, ['label', 'text']])\n",
    "ds_test = ds_test.map(convert_and_tokenize, batched=True, batch_size=BATCH_SIZE, remove_columns=ds_test.column_names)\n",
    "ds_test.set_format(\"torch\")\n",
    "\n",
    "ds_valid = Dataset.from_pandas(df_valid.loc[:, ['label', 'text']])\n",
    "ds_valid = ds_valid.map(convert_and_tokenize, batched=True, batch_size=BATCH_SIZE, remove_columns=ds_valid.column_names)\n",
    "ds_valid.set_format(\"torch\")"
   ],
   "metadata": {
    "collapsed": false,
    "ExecuteTime": {
     "end_time": "2024-12-09T13:34:31.105037Z",
     "start_time": "2024-12-09T13:34:29.461996Z"
    }
   },
   "id": "44fe9800f1c6489d",
   "execution_count": 18
  },
  {
   "cell_type": "markdown",
   "source": [
    "## Model loading and finetuning"
   ],
   "metadata": {
    "collapsed": false
   },
   "id": "c97dbf031defe106"
  },
  {
   "cell_type": "code",
   "outputs": [],
   "source": [
    "model_path = \"martin-ha/toxic-comment-model\"\n",
    "tokenizer = AutoTokenizer.from_pretrained(model_path,\n",
    "                                          problem_type=\"single_label_classification\",\n",
    "                                          num_labels=2,\n",
    "                                          id2label=id2label,\n",
    "                                          label2id=label2id)\n",
    "model = AutoModelForSequenceClassification.from_pretrained(model_path,\n",
    "                                                           num_labels=2,\n",
    "                                                           id2label=id2label,\n",
    "                                                           label2id=label2id)"
   ],
   "metadata": {
    "collapsed": false,
    "ExecuteTime": {
     "end_time": "2024-12-09T13:46:20.642911500Z",
     "start_time": "2024-12-09T13:46:19.631609600Z"
    }
   },
   "id": "83be2c98a96dd5",
   "execution_count": 34
  },
  {
   "cell_type": "code",
   "outputs": [],
   "source": [
    "from transformers import EvalPrediction\n",
    "from sklearn.metrics import f1_score, balanced_accuracy_score, accuracy_score\n",
    "\n",
    "def binary_metrics(predictions, labels):\n",
    "    y_pred = np.argmax(predictions, axis=-1)\n",
    "    y_true = labels\n",
    "    f1 = f1_score(y_true=y_true, y_pred=y_pred)\n",
    "    bal_acc = balanced_accuracy_score(y_true=y_true, y_pred=y_pred)\n",
    "    accuracy = accuracy_score(y_true, y_pred)\n",
    "    sven_metric = 1\n",
    "    metrics = {'f1': f1,\n",
    "               'balanced_accuracy': bal_acc,\n",
    "               'accuracy': accuracy,\n",
    "               'Sven': sven_metric}\n",
    "    return metrics\n",
    "\n",
    "def compute_metrics(p: EvalPrediction):\n",
    "    preds = p.predictions[0] if isinstance(p.predictions,\n",
    "                                           tuple) else p.predictions\n",
    "    result = binary_metrics(\n",
    "        predictions=preds,\n",
    "        labels=p.label_ids)\n",
    "    return result"
   ],
   "metadata": {
    "collapsed": false,
    "ExecuteTime": {
     "end_time": "2024-12-09T13:46:20.660509700Z",
     "start_time": "2024-12-09T13:46:20.651815500Z"
    }
   },
   "id": "692a5ee7a160c267",
   "execution_count": 35
  },
  {
   "cell_type": "code",
   "outputs": [],
   "source": [
    "METRIC = \"balanced_accuracy\"\n",
    "from datetime import datetime\n",
    "current_date = datetime.now().strftime(\"%Y%m%d\")\n",
    "\n",
    "from transformers import TrainingArguments, Trainer, EarlyStoppingCallback\n",
    "\n",
    "args = TrainingArguments(\n",
    "    f\"./model-finetuned_sexism-detection\",\n",
    "    overwrite_output_dir=True,\n",
    "    report_to=\"wandb\",\n",
    "    eval_strategy = \"epoch\",\n",
    "    save_strategy = \"epoch\",\n",
    "    save_steps=3,\n",
    "    save_total_limit=1,\n",
    "    logging_dir=f\"./logs_sexism-detection_{current_date}\",\n",
    "    logging_steps=10,\n",
    "    seed=SEED,\n",
    "    per_device_train_batch_size=BATCH_SIZE,\n",
    "    per_device_eval_batch_size=BATCH_SIZE,\n",
    "    num_train_epochs=3,\n",
    "    learning_rate=1E-4,\n",
    "    weight_decay=0.01,\n",
    "    load_best_model_at_end=True,\n",
    "    metric_for_best_model=METRIC,\n",
    "    greater_is_better=True,\n",
    ")"
   ],
   "metadata": {
    "collapsed": false,
    "ExecuteTime": {
     "end_time": "2024-12-09T13:46:20.734232400Z",
     "start_time": "2024-12-09T13:46:20.666466100Z"
    }
   },
   "id": "f3edb89dfeda6994",
   "execution_count": 36
  },
  {
   "cell_type": "code",
   "outputs": [],
   "source": [
    "trainer_toxic = Trainer(\n",
    "    model,\n",
    "    args,\n",
    "    train_dataset=ds_train,\n",
    "    eval_dataset=ds_valid,\n",
    "    processing_class=tokenizer,\n",
    "    compute_metrics=compute_metrics,\n",
    "    callbacks=[EarlyStoppingCallback(early_stopping_patience=7)]\n",
    ")"
   ],
   "metadata": {
    "collapsed": false,
    "ExecuteTime": {
     "end_time": "2024-12-09T13:46:21.916698100Z",
     "start_time": "2024-12-09T13:46:20.971191800Z"
    }
   },
   "id": "6afcd38cea0e292a",
   "execution_count": 37
  },
  {
   "cell_type": "code",
   "outputs": [
    {
     "data": {
      "text/plain": "VBox(children=(Label(value='Waiting for wandb.init()...\\r'), FloatProgress(value=0.011288888886984852, max=1.0…",
      "application/vnd.jupyter.widget-view+json": {
       "version_major": 2,
       "version_minor": 0,
       "model_id": "bd69229fc3464b78ae48ad9a8e2e279f"
      }
     },
     "metadata": {},
     "output_type": "display_data"
    },
    {
     "data": {
      "text/plain": "<IPython.core.display.HTML object>",
      "text/html": "Tracking run with wandb version 0.19.0"
     },
     "metadata": {},
     "output_type": "display_data"
    },
    {
     "data": {
      "text/plain": "<IPython.core.display.HTML object>",
      "text/html": "Run data is saved locally in <code>C:\\Users\\thoma\\Documents\\1-Uni\\NLP\\online_sexism_detection\\milestone_2\\wandb\\run-20241209_144622-5w14xbki</code>"
     },
     "metadata": {},
     "output_type": "display_data"
    },
    {
     "data": {
      "text/plain": "<IPython.core.display.HTML object>",
      "text/html": "Syncing run <strong><a href='https://wandb.ai/online_sexism_detection/huggingface/runs/5w14xbki' target=\"_blank\">./model-finetuned_sexism-detection</a></strong> to <a href='https://wandb.ai/online_sexism_detection/huggingface' target=\"_blank\">Weights & Biases</a> (<a href='https://wandb.me/developer-guide' target=\"_blank\">docs</a>)<br/>"
     },
     "metadata": {},
     "output_type": "display_data"
    },
    {
     "data": {
      "text/plain": "<IPython.core.display.HTML object>",
      "text/html": " View project at <a href='https://wandb.ai/online_sexism_detection/huggingface' target=\"_blank\">https://wandb.ai/online_sexism_detection/huggingface</a>"
     },
     "metadata": {},
     "output_type": "display_data"
    },
    {
     "data": {
      "text/plain": "<IPython.core.display.HTML object>",
      "text/html": " View run at <a href='https://wandb.ai/online_sexism_detection/huggingface/runs/5w14xbki' target=\"_blank\">https://wandb.ai/online_sexism_detection/huggingface/runs/5w14xbki</a>"
     },
     "metadata": {},
     "output_type": "display_data"
    },
    {
     "data": {
      "text/plain": "<IPython.core.display.HTML object>",
      "text/html": "\n    <div>\n      \n      <progress value='2' max='50' style='width:300px; height:20px; vertical-align: middle;'></progress>\n      [ 2/50 : < :, Epoch 0.20/10]\n    </div>\n    <table border=\"1\" class=\"dataframe\">\n  <thead>\n <tr style=\"text-align: left;\">\n      <th>Epoch</th>\n      <th>Training Loss</th>\n      <th>Validation Loss</th>\n    </tr>\n  </thead>\n  <tbody>\n  </tbody>\n</table><p>"
     },
     "metadata": {},
     "output_type": "display_data"
    },
    {
     "data": {
      "text/plain": "TrainOutput(global_step=50, training_loss=0.44166687488555906, metrics={'train_runtime': 284.783, 'train_samples_per_second': 4.916, 'train_steps_per_second': 0.176, 'total_flos': 27890596826400.0, 'train_loss': 0.44166687488555906, 'epoch': 10.0})"
     },
     "execution_count": 38,
     "metadata": {},
     "output_type": "execute_result"
    }
   ],
   "source": [
    "trainer_toxic.train()"
   ],
   "metadata": {
    "collapsed": false,
    "ExecuteTime": {
     "end_time": "2024-12-09T13:51:07.664733700Z",
     "start_time": "2024-12-09T13:46:22.185202400Z"
    }
   },
   "id": "1a03c3b5e1dee826",
   "execution_count": 38
  },
  {
   "cell_type": "code",
   "outputs": [
    {
     "data": {
      "text/plain": "VBox(children=(Label(value='0.004 MB of 0.004 MB uploaded\\r'), FloatProgress(value=1.0, max=1.0)))",
      "application/vnd.jupyter.widget-view+json": {
       "version_major": 2,
       "version_minor": 0,
       "model_id": "ca1f5b86b933412eb4011abd190a2410"
      }
     },
     "metadata": {},
     "output_type": "display_data"
    },
    {
     "data": {
      "text/plain": "<IPython.core.display.HTML object>",
      "text/html": "\n    <style>\n        .wandb-row {\n            display: flex;\n            flex-direction: row;\n            flex-wrap: wrap;\n            justify-content: flex-start;\n            width: 100%;\n        }\n        .wandb-col {\n            display: flex;\n            flex-direction: column;\n            flex-basis: 100%;\n            flex: 1;\n            padding: 10px;\n        }\n    </style>\n<div class=\"wandb-row\"><div class=\"wandb-col\"><h3>Run history:</h3><br/><table class=\"wandb\"><tr><td>eval/accuracy</td><td>▅█▅▁▃▂▂▂▂▁</td></tr><tr><td>eval/balanced_accuracy</td><td>▁▃▅▅▆█▆▆▇█</td></tr><tr><td>eval/f1</td><td>▁▁▄▆▆█▆▆▇█</td></tr><tr><td>eval/loss</td><td>▃▁▁▁▃▄▅▇██</td></tr><tr><td>eval/runtime</td><td>▁▃▄▄▆▆█▇▆▄</td></tr><tr><td>eval/samples_per_second</td><td>█▅▄▄▃▂▁▁▂▄</td></tr><tr><td>eval/steps_per_second</td><td>█▅▄▄▃▂▁▁▂▄</td></tr><tr><td>train/epoch</td><td>▁▂▂▃▃▃▄▅▅▆▆▆▇███</td></tr><tr><td>train/global_step</td><td>▁▂▂▃▃▃▄▅▅▆▆▆▇███</td></tr><tr><td>train/grad_norm</td><td>▅▄▁█▇</td></tr><tr><td>train/learning_rate</td><td>█▆▅▃▁</td></tr><tr><td>train/loss</td><td>█▄▂▁▁</td></tr></table><br/></div><div class=\"wandb-col\"><h3>Run summary:</h3><br/><table class=\"wandb\"><tr><td>eval/accuracy</td><td>0.668</td></tr><tr><td>eval/balanced_accuracy</td><td>0.59071</td></tr><tr><td>eval/f1</td><td>0.39194</td></tr><tr><td>eval/loss</td><td>0.64138</td></tr><tr><td>eval/runtime</td><td>19.5031</td></tr><tr><td>eval/samples_per_second</td><td>102.548</td></tr><tr><td>eval/steps_per_second</td><td>3.23</td></tr><tr><td>total_flos</td><td>27890596826400.0</td></tr><tr><td>train/epoch</td><td>10</td></tr><tr><td>train/global_step</td><td>50</td></tr><tr><td>train/grad_norm</td><td>2.79006</td></tr><tr><td>train/learning_rate</td><td>0</td></tr><tr><td>train/loss</td><td>0.3481</td></tr><tr><td>train_loss</td><td>0.44167</td></tr><tr><td>train_runtime</td><td>284.783</td></tr><tr><td>train_samples_per_second</td><td>4.916</td></tr><tr><td>train_steps_per_second</td><td>0.176</td></tr></table><br/></div></div>"
     },
     "metadata": {},
     "output_type": "display_data"
    },
    {
     "data": {
      "text/plain": "<IPython.core.display.HTML object>",
      "text/html": " View run <strong style=\"color:#cdcd00\">./model-finetuned_sexism-detection</strong> at: <a href='https://wandb.ai/online_sexism_detection/huggingface/runs/5w14xbki' target=\"_blank\">https://wandb.ai/online_sexism_detection/huggingface/runs/5w14xbki</a><br/> View project at: <a href='https://wandb.ai/online_sexism_detection/huggingface' target=\"_blank\">https://wandb.ai/online_sexism_detection/huggingface</a><br/>Synced 5 W&B file(s), 0 media file(s), 0 artifact file(s) and 0 other file(s)"
     },
     "metadata": {},
     "output_type": "display_data"
    },
    {
     "data": {
      "text/plain": "<IPython.core.display.HTML object>",
      "text/html": "Find logs at: <code>.\\wandb\\run-20241209_144622-5w14xbki\\logs</code>"
     },
     "metadata": {},
     "output_type": "display_data"
    }
   ],
   "source": [
    "wandb.finish()"
   ],
   "metadata": {
    "collapsed": false,
    "ExecuteTime": {
     "end_time": "2024-12-09T13:51:17.388998400Z",
     "start_time": "2024-12-09T13:51:07.665874100Z"
    }
   },
   "id": "7ad4b93ac5cc9777",
   "execution_count": 39
  },
  {
   "cell_type": "code",
   "outputs": [
    {
     "data": {
      "text/plain": "<IPython.core.display.HTML object>",
      "text/html": "\n    <div>\n      \n      <progress value='1' max='63' style='width:300px; height:20px; vertical-align: middle;'></progress>\n      [ 1/63 : < :]\n    </div>\n    "
     },
     "metadata": {},
     "output_type": "display_data"
    },
    {
     "ename": "Error",
     "evalue": "You must call wandb.init() before wandb.log()",
     "output_type": "error",
     "traceback": [
      "\u001B[1;31m---------------------------------------------------------------------------\u001B[0m",
      "\u001B[1;31mError\u001B[0m                                     Traceback (most recent call last)",
      "Cell \u001B[1;32mIn[33], line 1\u001B[0m\n\u001B[1;32m----> 1\u001B[0m \u001B[43mtrainer_toxic\u001B[49m\u001B[38;5;241;43m.\u001B[39;49m\u001B[43mevaluate\u001B[49m\u001B[43m(\u001B[49m\u001B[43m)\u001B[49m\n",
      "File \u001B[1;32mC:\\ProgramData\\anaconda3\\envs\\NLP\\lib\\site-packages\\transformers\\trainer.py:3999\u001B[0m, in \u001B[0;36mTrainer.evaluate\u001B[1;34m(self, eval_dataset, ignore_keys, metric_key_prefix)\u001B[0m\n\u001B[0;32m   3989\u001B[0m     start_time \u001B[38;5;241m+\u001B[39m\u001B[38;5;241m=\u001B[39m output\u001B[38;5;241m.\u001B[39mmetrics[\u001B[38;5;124mf\u001B[39m\u001B[38;5;124m\"\u001B[39m\u001B[38;5;132;01m{\u001B[39;00mmetric_key_prefix\u001B[38;5;132;01m}\u001B[39;00m\u001B[38;5;124m_model_preparation_time\u001B[39m\u001B[38;5;124m\"\u001B[39m]\n\u001B[0;32m   3990\u001B[0m output\u001B[38;5;241m.\u001B[39mmetrics\u001B[38;5;241m.\u001B[39mupdate(\n\u001B[0;32m   3991\u001B[0m     speed_metrics(\n\u001B[0;32m   3992\u001B[0m         metric_key_prefix,\n\u001B[1;32m   (...)\u001B[0m\n\u001B[0;32m   3996\u001B[0m     )\n\u001B[0;32m   3997\u001B[0m )\n\u001B[1;32m-> 3999\u001B[0m \u001B[38;5;28;43mself\u001B[39;49m\u001B[38;5;241;43m.\u001B[39;49m\u001B[43mlog\u001B[49m\u001B[43m(\u001B[49m\u001B[43moutput\u001B[49m\u001B[38;5;241;43m.\u001B[39;49m\u001B[43mmetrics\u001B[49m\u001B[43m)\u001B[49m\n\u001B[0;32m   4001\u001B[0m \u001B[38;5;28;01mif\u001B[39;00m DebugOption\u001B[38;5;241m.\u001B[39mTPU_METRICS_DEBUG \u001B[38;5;129;01min\u001B[39;00m \u001B[38;5;28mself\u001B[39m\u001B[38;5;241m.\u001B[39margs\u001B[38;5;241m.\u001B[39mdebug:\n\u001B[0;32m   4002\u001B[0m     \u001B[38;5;66;03m# tpu-comment: Logging debug metrics for PyTorch/XLA (compile, execute times, ops, etc.)\u001B[39;00m\n\u001B[0;32m   4003\u001B[0m     xm\u001B[38;5;241m.\u001B[39mmaster_print(met\u001B[38;5;241m.\u001B[39mmetrics_report())\n",
      "File \u001B[1;32mC:\\ProgramData\\anaconda3\\envs\\NLP\\lib\\site-packages\\transformers\\trainer.py:3495\u001B[0m, in \u001B[0;36mTrainer.log\u001B[1;34m(self, logs)\u001B[0m\n\u001B[0;32m   3493\u001B[0m output \u001B[38;5;241m=\u001B[39m {\u001B[38;5;241m*\u001B[39m\u001B[38;5;241m*\u001B[39mlogs, \u001B[38;5;241m*\u001B[39m\u001B[38;5;241m*\u001B[39m{\u001B[38;5;124m\"\u001B[39m\u001B[38;5;124mstep\u001B[39m\u001B[38;5;124m\"\u001B[39m: \u001B[38;5;28mself\u001B[39m\u001B[38;5;241m.\u001B[39mstate\u001B[38;5;241m.\u001B[39mglobal_step}}\n\u001B[0;32m   3494\u001B[0m \u001B[38;5;28mself\u001B[39m\u001B[38;5;241m.\u001B[39mstate\u001B[38;5;241m.\u001B[39mlog_history\u001B[38;5;241m.\u001B[39mappend(output)\n\u001B[1;32m-> 3495\u001B[0m \u001B[38;5;28mself\u001B[39m\u001B[38;5;241m.\u001B[39mcontrol \u001B[38;5;241m=\u001B[39m \u001B[38;5;28;43mself\u001B[39;49m\u001B[38;5;241;43m.\u001B[39;49m\u001B[43mcallback_handler\u001B[49m\u001B[38;5;241;43m.\u001B[39;49m\u001B[43mon_log\u001B[49m\u001B[43m(\u001B[49m\u001B[38;5;28;43mself\u001B[39;49m\u001B[38;5;241;43m.\u001B[39;49m\u001B[43margs\u001B[49m\u001B[43m,\u001B[49m\u001B[43m \u001B[49m\u001B[38;5;28;43mself\u001B[39;49m\u001B[38;5;241;43m.\u001B[39;49m\u001B[43mstate\u001B[49m\u001B[43m,\u001B[49m\u001B[43m \u001B[49m\u001B[38;5;28;43mself\u001B[39;49m\u001B[38;5;241;43m.\u001B[39;49m\u001B[43mcontrol\u001B[49m\u001B[43m,\u001B[49m\u001B[43m \u001B[49m\u001B[43mlogs\u001B[49m\u001B[43m)\u001B[49m\n",
      "File \u001B[1;32mC:\\ProgramData\\anaconda3\\envs\\NLP\\lib\\site-packages\\transformers\\trainer_callback.py:511\u001B[0m, in \u001B[0;36mCallbackHandler.on_log\u001B[1;34m(self, args, state, control, logs)\u001B[0m\n\u001B[0;32m    509\u001B[0m \u001B[38;5;28;01mdef\u001B[39;00m \u001B[38;5;21mon_log\u001B[39m(\u001B[38;5;28mself\u001B[39m, args: TrainingArguments, state: TrainerState, control: TrainerControl, logs):\n\u001B[0;32m    510\u001B[0m     control\u001B[38;5;241m.\u001B[39mshould_log \u001B[38;5;241m=\u001B[39m \u001B[38;5;28;01mFalse\u001B[39;00m\n\u001B[1;32m--> 511\u001B[0m     \u001B[38;5;28;01mreturn\u001B[39;00m \u001B[38;5;28;43mself\u001B[39;49m\u001B[38;5;241;43m.\u001B[39;49m\u001B[43mcall_event\u001B[49m\u001B[43m(\u001B[49m\u001B[38;5;124;43m\"\u001B[39;49m\u001B[38;5;124;43mon_log\u001B[39;49m\u001B[38;5;124;43m\"\u001B[39;49m\u001B[43m,\u001B[49m\u001B[43m \u001B[49m\u001B[43margs\u001B[49m\u001B[43m,\u001B[49m\u001B[43m \u001B[49m\u001B[43mstate\u001B[49m\u001B[43m,\u001B[49m\u001B[43m \u001B[49m\u001B[43mcontrol\u001B[49m\u001B[43m,\u001B[49m\u001B[43m \u001B[49m\u001B[43mlogs\u001B[49m\u001B[38;5;241;43m=\u001B[39;49m\u001B[43mlogs\u001B[49m\u001B[43m)\u001B[49m\n",
      "File \u001B[1;32mC:\\ProgramData\\anaconda3\\envs\\NLP\\lib\\site-packages\\transformers\\trainer_callback.py:518\u001B[0m, in \u001B[0;36mCallbackHandler.call_event\u001B[1;34m(self, event, args, state, control, **kwargs)\u001B[0m\n\u001B[0;32m    516\u001B[0m \u001B[38;5;28;01mdef\u001B[39;00m \u001B[38;5;21mcall_event\u001B[39m(\u001B[38;5;28mself\u001B[39m, event, args, state, control, \u001B[38;5;241m*\u001B[39m\u001B[38;5;241m*\u001B[39mkwargs):\n\u001B[0;32m    517\u001B[0m     \u001B[38;5;28;01mfor\u001B[39;00m callback \u001B[38;5;129;01min\u001B[39;00m \u001B[38;5;28mself\u001B[39m\u001B[38;5;241m.\u001B[39mcallbacks:\n\u001B[1;32m--> 518\u001B[0m         result \u001B[38;5;241m=\u001B[39m \u001B[38;5;28mgetattr\u001B[39m(callback, event)(\n\u001B[0;32m    519\u001B[0m             args,\n\u001B[0;32m    520\u001B[0m             state,\n\u001B[0;32m    521\u001B[0m             control,\n\u001B[0;32m    522\u001B[0m             model\u001B[38;5;241m=\u001B[39m\u001B[38;5;28mself\u001B[39m\u001B[38;5;241m.\u001B[39mmodel,\n\u001B[0;32m    523\u001B[0m             processing_class\u001B[38;5;241m=\u001B[39m\u001B[38;5;28mself\u001B[39m\u001B[38;5;241m.\u001B[39mprocessing_class,\n\u001B[0;32m    524\u001B[0m             optimizer\u001B[38;5;241m=\u001B[39m\u001B[38;5;28mself\u001B[39m\u001B[38;5;241m.\u001B[39moptimizer,\n\u001B[0;32m    525\u001B[0m             lr_scheduler\u001B[38;5;241m=\u001B[39m\u001B[38;5;28mself\u001B[39m\u001B[38;5;241m.\u001B[39mlr_scheduler,\n\u001B[0;32m    526\u001B[0m             train_dataloader\u001B[38;5;241m=\u001B[39m\u001B[38;5;28mself\u001B[39m\u001B[38;5;241m.\u001B[39mtrain_dataloader,\n\u001B[0;32m    527\u001B[0m             eval_dataloader\u001B[38;5;241m=\u001B[39m\u001B[38;5;28mself\u001B[39m\u001B[38;5;241m.\u001B[39meval_dataloader,\n\u001B[0;32m    528\u001B[0m             \u001B[38;5;241m*\u001B[39m\u001B[38;5;241m*\u001B[39mkwargs,\n\u001B[0;32m    529\u001B[0m         )\n\u001B[0;32m    530\u001B[0m         \u001B[38;5;66;03m# A Callback can skip the return of `control` if it doesn't change it.\u001B[39;00m\n\u001B[0;32m    531\u001B[0m         \u001B[38;5;28;01mif\u001B[39;00m result \u001B[38;5;129;01mis\u001B[39;00m \u001B[38;5;129;01mnot\u001B[39;00m \u001B[38;5;28;01mNone\u001B[39;00m:\n",
      "File \u001B[1;32mC:\\ProgramData\\anaconda3\\envs\\NLP\\lib\\site-packages\\transformers\\integrations\\integration_utils.py:971\u001B[0m, in \u001B[0;36mWandbCallback.on_log\u001B[1;34m(self, args, state, control, model, logs, **kwargs)\u001B[0m\n\u001B[0;32m    969\u001B[0m non_scalar_logs \u001B[38;5;241m=\u001B[39m {k: v \u001B[38;5;28;01mfor\u001B[39;00m k, v \u001B[38;5;129;01min\u001B[39;00m logs\u001B[38;5;241m.\u001B[39mitems() \u001B[38;5;28;01mif\u001B[39;00m k \u001B[38;5;129;01mnot\u001B[39;00m \u001B[38;5;129;01min\u001B[39;00m single_value_scalars}\n\u001B[0;32m    970\u001B[0m non_scalar_logs \u001B[38;5;241m=\u001B[39m rewrite_logs(non_scalar_logs)\n\u001B[1;32m--> 971\u001B[0m \u001B[38;5;28;43mself\u001B[39;49m\u001B[38;5;241;43m.\u001B[39;49m\u001B[43m_wandb\u001B[49m\u001B[38;5;241;43m.\u001B[39;49m\u001B[43mlog\u001B[49m\u001B[43m(\u001B[49m\u001B[43m{\u001B[49m\u001B[38;5;241;43m*\u001B[39;49m\u001B[38;5;241;43m*\u001B[39;49m\u001B[43mnon_scalar_logs\u001B[49m\u001B[43m,\u001B[49m\u001B[43m \u001B[49m\u001B[38;5;124;43m\"\u001B[39;49m\u001B[38;5;124;43mtrain/global_step\u001B[39;49m\u001B[38;5;124;43m\"\u001B[39;49m\u001B[43m:\u001B[49m\u001B[43m \u001B[49m\u001B[43mstate\u001B[49m\u001B[38;5;241;43m.\u001B[39;49m\u001B[43mglobal_step\u001B[49m\u001B[43m}\u001B[49m\u001B[43m)\u001B[49m\n",
      "File \u001B[1;32mC:\\ProgramData\\anaconda3\\envs\\NLP\\lib\\site-packages\\wandb\\sdk\\lib\\preinit.py:36\u001B[0m, in \u001B[0;36mPreInitCallable.<locals>.preinit_wrapper\u001B[1;34m(*args, **kwargs)\u001B[0m\n\u001B[0;32m     35\u001B[0m \u001B[38;5;28;01mdef\u001B[39;00m \u001B[38;5;21mpreinit_wrapper\u001B[39m(\u001B[38;5;241m*\u001B[39margs: Any, \u001B[38;5;241m*\u001B[39m\u001B[38;5;241m*\u001B[39mkwargs: Any) \u001B[38;5;241m-\u001B[39m\u001B[38;5;241m>\u001B[39m Any:\n\u001B[1;32m---> 36\u001B[0m     \u001B[38;5;28;01mraise\u001B[39;00m wandb\u001B[38;5;241m.\u001B[39mError(\u001B[38;5;124mf\u001B[39m\u001B[38;5;124m\"\u001B[39m\u001B[38;5;124mYou must call wandb.init() before \u001B[39m\u001B[38;5;132;01m{\u001B[39;00mname\u001B[38;5;132;01m}\u001B[39;00m\u001B[38;5;124m()\u001B[39m\u001B[38;5;124m\"\u001B[39m)\n",
      "\u001B[1;31mError\u001B[0m: You must call wandb.init() before wandb.log()"
     ]
    }
   ],
   "source": [
    "trainer_toxic.evaluate()"
   ],
   "metadata": {
    "collapsed": false,
    "ExecuteTime": {
     "end_time": "2024-12-09T13:40:56.376217400Z",
     "start_time": "2024-12-09T13:40:41.837622400Z"
    }
   },
   "id": "ae62c59f43412c4",
   "execution_count": 33
  },
  {
   "cell_type": "code",
   "outputs": [
    {
     "data": {
      "text/plain": "<IPython.core.display.HTML object>",
      "text/html": "\n    <div>\n      \n      <progress value='1' max='125' style='width:300px; height:20px; vertical-align: middle;'></progress>\n      [  1/125 : < :]\n    </div>\n    "
     },
     "metadata": {},
     "output_type": "display_data"
    }
   ],
   "source": [
    "test_pred = trainer_toxic.predict(test_dataset=ds_test)"
   ],
   "metadata": {
    "collapsed": false,
    "ExecuteTime": {
     "end_time": "2024-11-25T14:29:13.712774500Z",
     "start_time": "2024-11-25T14:29:06.180780400Z"
    }
   },
   "id": "4aea4bb9f240fb09",
   "execution_count": 35
  },
  {
   "cell_type": "code",
   "outputs": [],
   "source": [
    "logits = test_pred.predictions"
   ],
   "metadata": {
    "collapsed": false,
    "ExecuteTime": {
     "end_time": "2024-11-25T14:32:03.904373500Z",
     "start_time": "2024-11-25T14:32:03.877957500Z"
    }
   },
   "id": "5b76f7fb2cc887f2",
   "execution_count": 40
  },
  {
   "cell_type": "code",
   "outputs": [
    {
     "data": {
      "text/plain": "array([1, 1, 1, ..., 0, 0, 1], dtype=int64)"
     },
     "execution_count": 41,
     "metadata": {},
     "output_type": "execute_result"
    }
   ],
   "source": [],
   "metadata": {
    "collapsed": false,
    "ExecuteTime": {
     "end_time": "2024-11-25T14:32:04.233144400Z",
     "start_time": "2024-11-25T14:32:04.195154300Z"
    }
   },
   "id": "8fc77f795ca0538f",
   "execution_count": 41
  },
  {
   "cell_type": "code",
   "outputs": [],
   "source": [
    "np.softmax"
   ],
   "metadata": {
    "collapsed": false
   },
   "id": "6ea28514f61f5b5c"
  },
  {
   "cell_type": "code",
   "outputs": [],
   "source": [
    "logits_exp = np.exp(logits)\n",
    "# Divide by the sum of exponents along the specified axis\n",
    "softmax_probs = logits_exp / np.sum(logits_exp, axis=-1, keepdims=True)"
   ],
   "metadata": {
    "collapsed": false,
    "ExecuteTime": {
     "end_time": "2024-11-25T14:32:16.329638300Z",
     "start_time": "2024-11-25T14:32:16.324637Z"
    }
   },
   "id": "b314e2ff6da1091e",
   "execution_count": 42
  },
  {
   "cell_type": "code",
   "outputs": [
    {
     "data": {
      "text/plain": "(4000, 2)"
     },
     "execution_count": 54,
     "metadata": {},
     "output_type": "execute_result"
    }
   ],
   "source": [
    "softmax_probs.shape"
   ],
   "metadata": {
    "collapsed": false,
    "ExecuteTime": {
     "end_time": "2024-11-25T14:34:35.819554100Z",
     "start_time": "2024-11-25T14:34:35.780550Z"
    }
   },
   "id": "d7c02655effd2f8d",
   "execution_count": 54
  },
  {
   "cell_type": "code",
   "outputs": [
    {
     "data": {
      "text/plain": "(4000, 2)"
     },
     "execution_count": 53,
     "metadata": {},
     "output_type": "execute_result"
    }
   ],
   "source": [
    "logits.shape"
   ],
   "metadata": {
    "collapsed": false,
    "ExecuteTime": {
     "end_time": "2024-11-25T14:34:30.776356900Z",
     "start_time": "2024-11-25T14:34:30.732351400Z"
    }
   },
   "id": "af2e0ae6326741d0",
   "execution_count": 53
  },
  {
   "cell_type": "code",
   "outputs": [
    {
     "data": {
      "text/plain": "(4000, 1)"
     },
     "execution_count": 56,
     "metadata": {},
     "output_type": "execute_result"
    }
   ],
   "source": [
    "np.argmax(softmax_probs, axis=-1, keepdims=True).shape"
   ],
   "metadata": {
    "collapsed": false,
    "ExecuteTime": {
     "end_time": "2024-11-25T14:35:17.556812Z",
     "start_time": "2024-11-25T14:35:17.532802600Z"
    }
   },
   "id": "e77a54d513106dee",
   "execution_count": 56
  },
  {
   "cell_type": "code",
   "outputs": [
    {
     "ename": "NameError",
     "evalue": "name 'softmax_probs' is not defined",
     "output_type": "error",
     "traceback": [
      "\u001B[1;31m---------------------------------------------------------------------------\u001B[0m",
      "\u001B[1;31mNameError\u001B[0m                                 Traceback (most recent call last)",
      "Cell \u001B[1;32mIn[51], line 2\u001B[0m\n\u001B[0;32m      1\u001B[0m cutoff \u001B[38;5;241m=\u001B[39m \u001B[38;5;241m0.25\u001B[39m\n\u001B[1;32m----> 2\u001B[0m \u001B[43msoftmax_probs\u001B[49m \u001B[38;5;241m>\u001B[39m cutoff\n",
      "\u001B[1;31mNameError\u001B[0m: name 'softmax_probs' is not defined"
     ]
    }
   ],
   "source": [
    "cutoff = 0.25\n",
    "softmax_probs > cutoff"
   ],
   "metadata": {
    "collapsed": false,
    "ExecuteTime": {
     "end_time": "2024-12-09T14:17:17.127990300Z",
     "start_time": "2024-12-09T14:17:17.084675300Z"
    }
   },
   "id": "94dd1ec21b5df9c7",
   "execution_count": 51
  },
  {
   "cell_type": "code",
   "outputs": [],
   "source": [
    "C = np.hstack([np.argmax(logits, axis=-1, keepdims=True), softmax_probs, logits])"
   ],
   "metadata": {
    "collapsed": false,
    "ExecuteTime": {
     "end_time": "2024-11-25T14:43:08.706704100Z",
     "start_time": "2024-11-25T14:43:08.679699500Z"
    }
   },
   "id": "b244274e31959c22",
   "execution_count": 83
  },
  {
   "cell_type": "code",
   "outputs": [],
   "source": [
    "df_output = pd.DataFrame(C, columns=[\"y_pred\", \"prob_0\", \"prob_1\", \"logit_0\", \"logit_1\"])"
   ],
   "metadata": {
    "collapsed": false,
    "ExecuteTime": {
     "end_time": "2024-11-25T14:43:09.124937400Z",
     "start_time": "2024-11-25T14:43:09.112938500Z"
    }
   },
   "id": "e19b05ae0f4e67f5",
   "execution_count": 84
  },
  {
   "cell_type": "code",
   "outputs": [
    {
     "data": {
      "text/plain": "      y_true  y_pred    prob_0    prob_1   logit_0   logit_1\n0          0       1  0.081155  0.918845 -1.457788  0.968966\n1          1       1  0.239404  0.760596 -0.766639  0.389313\n2          0       1  0.186122  0.813878 -0.942610  0.532795\n3          1       0  0.966872  0.033128  1.483588 -1.890090\n4          1       1  0.495746  0.504254 -0.073781 -0.056764\n...      ...     ...       ...       ...       ...       ...\n3995       0       0  0.842376  0.157624  0.643424 -1.032590\n3996       1       0  0.908636  0.091364  0.944283 -1.352811\n3997       0       0  0.747841  0.252159  0.394681 -0.692449\n3998       0       0  0.943093  0.056907  1.200612 -1.607137\n3999       1       1  0.127389  0.872611 -1.196028  0.728218\n\n[4000 rows x 6 columns]",
      "text/html": "<div>\n<style scoped>\n    .dataframe tbody tr th:only-of-type {\n        vertical-align: middle;\n    }\n\n    .dataframe tbody tr th {\n        vertical-align: top;\n    }\n\n    .dataframe thead th {\n        text-align: right;\n    }\n</style>\n<table border=\"1\" class=\"dataframe\">\n  <thead>\n    <tr style=\"text-align: right;\">\n      <th></th>\n      <th>y_true</th>\n      <th>y_pred</th>\n      <th>prob_0</th>\n      <th>prob_1</th>\n      <th>logit_0</th>\n      <th>logit_1</th>\n    </tr>\n  </thead>\n  <tbody>\n    <tr>\n      <th>0</th>\n      <td>0</td>\n      <td>1</td>\n      <td>0.081155</td>\n      <td>0.918845</td>\n      <td>-1.457788</td>\n      <td>0.968966</td>\n    </tr>\n    <tr>\n      <th>1</th>\n      <td>1</td>\n      <td>1</td>\n      <td>0.239404</td>\n      <td>0.760596</td>\n      <td>-0.766639</td>\n      <td>0.389313</td>\n    </tr>\n    <tr>\n      <th>2</th>\n      <td>0</td>\n      <td>1</td>\n      <td>0.186122</td>\n      <td>0.813878</td>\n      <td>-0.942610</td>\n      <td>0.532795</td>\n    </tr>\n    <tr>\n      <th>3</th>\n      <td>1</td>\n      <td>0</td>\n      <td>0.966872</td>\n      <td>0.033128</td>\n      <td>1.483588</td>\n      <td>-1.890090</td>\n    </tr>\n    <tr>\n      <th>4</th>\n      <td>1</td>\n      <td>1</td>\n      <td>0.495746</td>\n      <td>0.504254</td>\n      <td>-0.073781</td>\n      <td>-0.056764</td>\n    </tr>\n    <tr>\n      <th>...</th>\n      <td>...</td>\n      <td>...</td>\n      <td>...</td>\n      <td>...</td>\n      <td>...</td>\n      <td>...</td>\n    </tr>\n    <tr>\n      <th>3995</th>\n      <td>0</td>\n      <td>0</td>\n      <td>0.842376</td>\n      <td>0.157624</td>\n      <td>0.643424</td>\n      <td>-1.032590</td>\n    </tr>\n    <tr>\n      <th>3996</th>\n      <td>1</td>\n      <td>0</td>\n      <td>0.908636</td>\n      <td>0.091364</td>\n      <td>0.944283</td>\n      <td>-1.352811</td>\n    </tr>\n    <tr>\n      <th>3997</th>\n      <td>0</td>\n      <td>0</td>\n      <td>0.747841</td>\n      <td>0.252159</td>\n      <td>0.394681</td>\n      <td>-0.692449</td>\n    </tr>\n    <tr>\n      <th>3998</th>\n      <td>0</td>\n      <td>0</td>\n      <td>0.943093</td>\n      <td>0.056907</td>\n      <td>1.200612</td>\n      <td>-1.607137</td>\n    </tr>\n    <tr>\n      <th>3999</th>\n      <td>1</td>\n      <td>1</td>\n      <td>0.127389</td>\n      <td>0.872611</td>\n      <td>-1.196028</td>\n      <td>0.728218</td>\n    </tr>\n  </tbody>\n</table>\n<p>4000 rows × 6 columns</p>\n</div>"
     },
     "execution_count": 85,
     "metadata": {},
     "output_type": "execute_result"
    }
   ],
   "source": [
    "df_output = pd.concat([df_test['label'], df_output], axis=1)\n",
    "df_output['y_pred'] = df_output['y_pred'].astype(int)\n",
    "df_output.rename(columns={'label' : 'y_true'})"
   ],
   "metadata": {
    "collapsed": false,
    "ExecuteTime": {
     "end_time": "2024-11-25T14:43:09.589252700Z",
     "start_time": "2024-11-25T14:43:09.535256200Z"
    }
   },
   "id": "52e69e16641d177f",
   "execution_count": 85
  },
  {
   "cell_type": "code",
   "outputs": [
    {
     "data": {
      "text/plain": "label        int64\ny_pred       int32\nprob_0     float64\nprob_1     float64\nlogit_0    float64\nlogit_1    float64\ndtype: object"
     },
     "execution_count": 86,
     "metadata": {},
     "output_type": "execute_result"
    }
   ],
   "source": [
    "df_output.dtypes"
   ],
   "metadata": {
    "collapsed": false,
    "ExecuteTime": {
     "end_time": "2024-11-25T14:43:10.640531700Z",
     "start_time": "2024-11-25T14:43:10.590562600Z"
    }
   },
   "id": "7feb74d7b5f6b456",
   "execution_count": 86
  },
  {
   "cell_type": "code",
   "outputs": [],
   "source": [
    "df_output.to_parquet(\"dl_predictions.parquet\", index=True)"
   ],
   "metadata": {
    "collapsed": false,
    "ExecuteTime": {
     "end_time": "2024-11-25T14:43:11.459749400Z",
     "start_time": "2024-11-25T14:43:11.400737400Z"
    }
   },
   "id": "702e9c32cd872104",
   "execution_count": 87
  },
  {
   "cell_type": "code",
   "outputs": [],
   "source": [
    "df_try = pd.read_parquet(\"dl_predictions.parquet\")"
   ],
   "metadata": {
    "collapsed": false,
    "ExecuteTime": {
     "end_time": "2024-11-25T14:43:34.602949500Z",
     "start_time": "2024-11-25T14:43:34.520942800Z"
    }
   },
   "id": "1b8434d433145fa5",
   "execution_count": 88
  },
  {
   "cell_type": "code",
   "outputs": [
    {
     "data": {
      "text/plain": "      label  y_pred    prob_0    prob_1   logit_0   logit_1\n0         0       1  0.081155  0.918845 -1.457788  0.968966\n1         1       1  0.239404  0.760596 -0.766639  0.389313\n2         0       1  0.186122  0.813878 -0.942610  0.532795\n3         1       0  0.966872  0.033128  1.483588 -1.890090\n4         1       1  0.495746  0.504254 -0.073781 -0.056764\n...     ...     ...       ...       ...       ...       ...\n3995      0       0  0.842376  0.157624  0.643424 -1.032590\n3996      1       0  0.908636  0.091364  0.944283 -1.352811\n3997      0       0  0.747841  0.252159  0.394681 -0.692449\n3998      0       0  0.943093  0.056907  1.200612 -1.607137\n3999      1       1  0.127389  0.872611 -1.196028  0.728218\n\n[4000 rows x 6 columns]",
      "text/html": "<div>\n<style scoped>\n    .dataframe tbody tr th:only-of-type {\n        vertical-align: middle;\n    }\n\n    .dataframe tbody tr th {\n        vertical-align: top;\n    }\n\n    .dataframe thead th {\n        text-align: right;\n    }\n</style>\n<table border=\"1\" class=\"dataframe\">\n  <thead>\n    <tr style=\"text-align: right;\">\n      <th></th>\n      <th>label</th>\n      <th>y_pred</th>\n      <th>prob_0</th>\n      <th>prob_1</th>\n      <th>logit_0</th>\n      <th>logit_1</th>\n    </tr>\n  </thead>\n  <tbody>\n    <tr>\n      <th>0</th>\n      <td>0</td>\n      <td>1</td>\n      <td>0.081155</td>\n      <td>0.918845</td>\n      <td>-1.457788</td>\n      <td>0.968966</td>\n    </tr>\n    <tr>\n      <th>1</th>\n      <td>1</td>\n      <td>1</td>\n      <td>0.239404</td>\n      <td>0.760596</td>\n      <td>-0.766639</td>\n      <td>0.389313</td>\n    </tr>\n    <tr>\n      <th>2</th>\n      <td>0</td>\n      <td>1</td>\n      <td>0.186122</td>\n      <td>0.813878</td>\n      <td>-0.942610</td>\n      <td>0.532795</td>\n    </tr>\n    <tr>\n      <th>3</th>\n      <td>1</td>\n      <td>0</td>\n      <td>0.966872</td>\n      <td>0.033128</td>\n      <td>1.483588</td>\n      <td>-1.890090</td>\n    </tr>\n    <tr>\n      <th>4</th>\n      <td>1</td>\n      <td>1</td>\n      <td>0.495746</td>\n      <td>0.504254</td>\n      <td>-0.073781</td>\n      <td>-0.056764</td>\n    </tr>\n    <tr>\n      <th>...</th>\n      <td>...</td>\n      <td>...</td>\n      <td>...</td>\n      <td>...</td>\n      <td>...</td>\n      <td>...</td>\n    </tr>\n    <tr>\n      <th>3995</th>\n      <td>0</td>\n      <td>0</td>\n      <td>0.842376</td>\n      <td>0.157624</td>\n      <td>0.643424</td>\n      <td>-1.032590</td>\n    </tr>\n    <tr>\n      <th>3996</th>\n      <td>1</td>\n      <td>0</td>\n      <td>0.908636</td>\n      <td>0.091364</td>\n      <td>0.944283</td>\n      <td>-1.352811</td>\n    </tr>\n    <tr>\n      <th>3997</th>\n      <td>0</td>\n      <td>0</td>\n      <td>0.747841</td>\n      <td>0.252159</td>\n      <td>0.394681</td>\n      <td>-0.692449</td>\n    </tr>\n    <tr>\n      <th>3998</th>\n      <td>0</td>\n      <td>0</td>\n      <td>0.943093</td>\n      <td>0.056907</td>\n      <td>1.200612</td>\n      <td>-1.607137</td>\n    </tr>\n    <tr>\n      <th>3999</th>\n      <td>1</td>\n      <td>1</td>\n      <td>0.127389</td>\n      <td>0.872611</td>\n      <td>-1.196028</td>\n      <td>0.728218</td>\n    </tr>\n  </tbody>\n</table>\n<p>4000 rows × 6 columns</p>\n</div>"
     },
     "execution_count": 89,
     "metadata": {},
     "output_type": "execute_result"
    }
   ],
   "source": [
    "df_try"
   ],
   "metadata": {
    "collapsed": false,
    "ExecuteTime": {
     "end_time": "2024-11-25T14:43:40.887198200Z",
     "start_time": "2024-11-25T14:43:40.853210800Z"
    }
   },
   "id": "646533cfc95c7328",
   "execution_count": 89
  },
  {
   "cell_type": "markdown",
   "source": [
    "# Metrics"
   ],
   "metadata": {
    "collapsed": false
   },
   "id": "ace9a5d6282c8083"
  },
  {
   "cell_type": "code",
   "outputs": [],
   "source": [
    "from utils.metrics import plot_confusion_matrix, plot_calibration_curve, plot_probability_distribution, plot_boxplot_predicted_probabilities, plot_balanced_accuracy_vs_cutoff, plot_roc_curve_with_optimal_point, print_classification_report"
   ],
   "metadata": {
    "collapsed": false,
    "ExecuteTime": {
     "end_time": "2024-12-09T14:24:41.207737900Z",
     "start_time": "2024-12-09T14:24:41.164716200Z"
    }
   },
   "id": "2b87ff85e499ba6e",
   "execution_count": 71
  },
  {
   "cell_type": "code",
   "outputs": [
    {
     "data": {
      "text/plain": "   label  y_pred    prob_0    prob_1   logit_0   logit_1\n0      0       0  0.986504  0.013496  1.950703 -2.341058\n1      1       1  0.213531  0.786469 -0.851402  0.452371",
      "text/html": "<div>\n<style scoped>\n    .dataframe tbody tr th:only-of-type {\n        vertical-align: middle;\n    }\n\n    .dataframe tbody tr th {\n        vertical-align: top;\n    }\n\n    .dataframe thead th {\n        text-align: right;\n    }\n</style>\n<table border=\"1\" class=\"dataframe\">\n  <thead>\n    <tr style=\"text-align: right;\">\n      <th></th>\n      <th>label</th>\n      <th>y_pred</th>\n      <th>prob_0</th>\n      <th>prob_1</th>\n      <th>logit_0</th>\n      <th>logit_1</th>\n    </tr>\n  </thead>\n  <tbody>\n    <tr>\n      <th>0</th>\n      <td>0</td>\n      <td>0</td>\n      <td>0.986504</td>\n      <td>0.013496</td>\n      <td>1.950703</td>\n      <td>-2.341058</td>\n    </tr>\n    <tr>\n      <th>1</th>\n      <td>1</td>\n      <td>1</td>\n      <td>0.213531</td>\n      <td>0.786469</td>\n      <td>-0.851402</td>\n      <td>0.452371</td>\n    </tr>\n  </tbody>\n</table>\n</div>"
     },
     "execution_count": 72,
     "metadata": {},
     "output_type": "execute_result"
    }
   ],
   "source": [
    "df_output = pd.read_csv(\"../data_submission/dl_predictions.csv\", index_col=0)\n",
    "df_output.head(2)"
   ],
   "metadata": {
    "collapsed": false,
    "ExecuteTime": {
     "end_time": "2024-12-09T14:24:41.643464600Z",
     "start_time": "2024-12-09T14:24:41.575358900Z"
    }
   },
   "id": "50d899745cd5f551",
   "execution_count": 72
  },
  {
   "cell_type": "code",
   "outputs": [
    {
     "data": {
      "text/plain": "<Figure size 800x600 with 1 Axes>",
      "image/png": "[encoded data removed]"
     },
     "metadata": {},
     "output_type": "display_data"
    }
   ],
   "source": [
    "plot_confusion_matrix(df_output)"
   ],
   "metadata": {
    "collapsed": false,
    "ExecuteTime": {
     "end_time": "2024-12-09T14:24:44.337442700Z",
     "start_time": "2024-12-09T14:24:44.221268600Z"
    }
   },
   "id": "3fa090a60caced36",
   "execution_count": 73
  },
  {
   "cell_type": "code",
   "outputs": [
    {
     "name": "stdout",
     "output_type": "stream",
     "text": [
      "Classification Report:\n",
      "              precision    recall  f1-score   support\n",
      "\n",
      "           0       0.90      0.85      0.88      3030\n",
      "           1       0.61      0.72      0.66       970\n",
      "\n",
      "    accuracy                           0.82      4000\n",
      "   macro avg       0.75      0.78      0.77      4000\n",
      "weighted avg       0.83      0.82      0.82      4000\n"
     ]
    }
   ],
   "source": [
    "print_classification_report(df_output)"
   ],
   "metadata": {
    "collapsed": false,
    "ExecuteTime": {
     "end_time": "2024-12-09T14:24:45.218378600Z",
     "start_time": "2024-12-09T14:24:45.175210800Z"
    }
   },
   "id": "306bbd5bed306a89",
   "execution_count": 74
  },
  {
   "cell_type": "code",
   "outputs": [],
   "source": [
    "df_output['y_pred'] = (df_output['prob_1'] > 0.25)"
   ],
   "metadata": {
    "collapsed": false,
    "ExecuteTime": {
     "end_time": "2024-12-09T14:24:45.885825700Z",
     "start_time": "2024-12-09T14:24:45.861662200Z"
    }
   },
   "id": "fb2418e6ae259ff",
   "execution_count": 75
  },
  {
   "cell_type": "code",
   "outputs": [
    {
     "name": "stdout",
     "output_type": "stream",
     "text": [
      "Classification Report:\n",
      "              precision    recall  f1-score   support\n",
      "\n",
      "           0       0.93      0.77      0.84      3030\n",
      "           1       0.53      0.82      0.65       970\n",
      "\n",
      "    accuracy                           0.78      4000\n",
      "   macro avg       0.73      0.79      0.74      4000\n",
      "weighted avg       0.83      0.78      0.79      4000\n"
     ]
    }
   ],
   "source": [
    "print_classification_report(df_output)"
   ],
   "metadata": {
    "collapsed": false,
    "ExecuteTime": {
     "end_time": "2024-12-09T14:24:46.413917900Z",
     "start_time": "2024-12-09T14:24:46.367897200Z"
    }
   },
   "id": "2e4b07db103f4eb0",
   "execution_count": 76
  },
  {
   "cell_type": "code",
   "outputs": [
    {
     "data": {
      "text/plain": "<Figure size 800x600 with 1 Axes>",
      "image/png": "[encoded data removed]"
     },
     "metadata": {},
     "output_type": "display_data"
    }
   ],
   "source": [
    "plot_confusion_matrix(df_output)"
   ],
   "metadata": {
    "collapsed": false,
    "ExecuteTime": {
     "end_time": "2024-12-09T14:25:37.243162100Z",
     "start_time": "2024-12-09T14:25:37.121487400Z"
    }
   },
   "id": "b56954e1609fb777",
   "execution_count": 78
  },
  {
   "cell_type": "code",
   "outputs": [
    {
     "data": {
      "text/plain": "<Figure size 800x600 with 1 Axes>",
      "image/png": "[encoded data removed]"
     },
     "metadata": {},
     "output_type": "display_data"
    }
   ],
   "source": [
    "plot_probability_distribution(df_output)"
   ],
   "metadata": {
    "collapsed": false,
    "ExecuteTime": {
     "end_time": "2024-12-09T14:26:32.023760500Z",
     "start_time": "2024-12-09T14:26:31.835129300Z"
    }
   },
   "id": "73faa1a61bbd4ae5",
   "execution_count": 83
  },
  {
   "cell_type": "code",
   "outputs": [
    {
     "data": {
      "text/plain": "<Figure size 800x600 with 1 Axes>",
      "image/png": "[encoded data removed]"
     },
     "metadata": {},
     "output_type": "display_data"
    }
   ],
   "source": [
    "plot_boxplot_predicted_probabilities(df_output)"
   ],
   "metadata": {
    "collapsed": false,
    "ExecuteTime": {
     "end_time": "2024-12-09T14:26:41.759156600Z",
     "start_time": "2024-12-09T14:26:41.610804700Z"
    }
   },
   "id": "520f63dd058af867",
   "execution_count": 84
  }
 ],
 "metadata": {
  "kernelspec": {
   "display_name": "Python 3",
   "language": "python",
   "name": "python3"
  },
  "language_info": {
   "codemirror_mode": {
    "name": "ipython",
    "version": 2
   },
   "file_extension": ".py",
   "mimetype": "text/x-python",
   "name": "python",
   "nbconvert_exporter": "python",
   "pygments_lexer": "ipython2",
   "version": "2.7.6"
  }
 },
 "nbformat": 4,
 "nbformat_minor": 5
}
