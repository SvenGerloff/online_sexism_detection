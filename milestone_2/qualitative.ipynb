{
 "cells": [
  {
   "cell_type": "code",
   "id": "initial_id",
   "metadata": {
    "collapsed": true,
    "ExecuteTime": {
     "end_time": "2024-12-14T14:28:15.489359Z",
     "start_time": "2024-12-14T14:28:15.480878Z"
    }
   },
   "source": [
    "import pandas as pd\n",
    "import matplotlib.pyplot as plt\n",
    "import seaborn as sns\n",
    "\n"
   ],
   "outputs": [],
   "execution_count": 126
  },
  {
   "metadata": {
    "ExecuteTime": {
     "end_time": "2024-12-14T14:28:15.589289Z",
     "start_time": "2024-12-14T14:28:15.512909Z"
    }
   },
   "cell_type": "code",
   "source": [
    "dl_predictions = pd.read_csv('../data_submission/dl_predictions.csv')\n",
    "logistic_TFIDF_predictions = pd.read_csv('../data_submission/logistic_TFIDF_predictions.csv')\n",
    "logistic_w2v_predictions = pd.read_csv('../data_submission/logistic_w2v_predictions.csv')\n",
    "svm_TFIDF_predictions = pd.read_csv('../data_submission/svm_TFIDF_predictions.csv')"
   ],
   "id": "893461682af922a2",
   "outputs": [],
   "execution_count": 127
  },
  {
   "metadata": {
    "ExecuteTime": {
     "end_time": "2024-12-14T14:28:15.677113Z",
     "start_time": "2024-12-14T14:28:15.654860Z"
    }
   },
   "cell_type": "code",
   "source": "print(dl_predictions.head())",
   "id": "8a881be53ebc3a4c",
   "outputs": [
    {
     "name": "stdout",
     "output_type": "stream",
     "text": [
      "   Unnamed: 0  label  y_pred    prob_0    prob_1   logit_0   logit_1\n",
      "0           0      0       0  0.996087  0.003913  2.540978 -2.998505\n",
      "1           1      1       1  0.030102  0.969898 -1.877300  1.595283\n",
      "2           2      0       0  0.996104  0.003896  2.543153 -3.000632\n",
      "3           3      1       1  0.017916  0.982084 -2.182345  1.821633\n",
      "4           4      1       1  0.017843  0.982157 -2.184655  1.823493\n"
     ]
    }
   ],
   "execution_count": 128
  },
  {
   "metadata": {
    "ExecuteTime": {
     "end_time": "2024-12-14T14:28:15.788883Z",
     "start_time": "2024-12-14T14:28:15.761243Z"
    }
   },
   "cell_type": "code",
   "source": "print(logistic_TFIDF_predictions.head())",
   "id": "4ca4fe4e3dff36d2",
   "outputs": [
    {
     "name": "stdout",
     "output_type": "stream",
     "text": [
      "   y_true  y_pred    prob_0    prob_1  logit_0  logit_1  label\n",
      "0       0       0  0.866904  0.133096      NaN      NaN      0\n",
      "1       1       0  0.586243  0.413757      NaN      NaN      0\n",
      "2       0       0  0.981946  0.018054      NaN      NaN      0\n",
      "3       1       1  0.110923  0.889077      NaN      NaN      1\n",
      "4       1       1  0.087772  0.912228      NaN      NaN      1\n"
     ]
    }
   ],
   "execution_count": 129
  },
  {
   "metadata": {
    "ExecuteTime": {
     "end_time": "2024-12-14T14:28:15.887526Z",
     "start_time": "2024-12-14T14:28:15.869409Z"
    }
   },
   "cell_type": "code",
   "source": "print(logistic_w2v_predictions.head())",
   "id": "39b837325e2fb0be",
   "outputs": [
    {
     "name": "stdout",
     "output_type": "stream",
     "text": [
      "   y_true  y_pred    prob_0    prob_1  logit_0  logit_1  label\n",
      "0       0       1  0.362843  0.637157      NaN      NaN      0\n",
      "1       1       1  0.393677  0.606323      NaN      NaN      0\n",
      "2       0       0  0.699683  0.300317      NaN      NaN      0\n",
      "3       1       1  0.344796  0.655204      NaN      NaN      1\n",
      "4       1       1  0.452562  0.547438      NaN      NaN      1\n"
     ]
    }
   ],
   "execution_count": 130
  },
  {
   "metadata": {
    "ExecuteTime": {
     "end_time": "2024-12-14T14:28:15.986327Z",
     "start_time": "2024-12-14T14:28:15.964961Z"
    }
   },
   "cell_type": "code",
   "source": "print(svm_TFIDF_predictions.head())",
   "id": "be7e1162b7310f02",
   "outputs": [
    {
     "name": "stdout",
     "output_type": "stream",
     "text": [
      "   y_true  y_pred    prob_0    prob_1  logit_0  logit_1  label\n",
      "0       0       0  0.974648  0.025352      NaN      NaN      0\n",
      "1       1       0  0.876454  0.123546      NaN      NaN      0\n",
      "2       0       0  0.996901  0.003099      NaN      NaN      0\n",
      "3       1       1  0.051777  0.948223      NaN      NaN      1\n",
      "4       1       1  0.032190  0.967810      NaN      NaN      1\n"
     ]
    }
   ],
   "execution_count": 131
  },
  {
   "metadata": {
    "ExecuteTime": {
     "end_time": "2024-12-14T14:28:16.089747Z",
     "start_time": "2024-12-14T14:28:16.071855Z"
    }
   },
   "cell_type": "code",
   "source": "dl_predictions = dl_predictions.drop(dl_predictions.columns[0], axis=1)",
   "id": "ea6b5177b768125e",
   "outputs": [],
   "execution_count": 132
  },
  {
   "metadata": {
    "ExecuteTime": {
     "end_time": "2024-12-14T14:28:16.195254Z",
     "start_time": "2024-12-14T14:28:16.170676Z"
    }
   },
   "cell_type": "code",
   "source": "print(dl_predictions.head())",
   "id": "e4711b315ed47e7a",
   "outputs": [
    {
     "name": "stdout",
     "output_type": "stream",
     "text": [
      "   label  y_pred    prob_0    prob_1   logit_0   logit_1\n",
      "0      0       0  0.996087  0.003913  2.540978 -2.998505\n",
      "1      1       1  0.030102  0.969898 -1.877300  1.595283\n",
      "2      0       0  0.996104  0.003896  2.543153 -3.000632\n",
      "3      1       1  0.017916  0.982084 -2.182345  1.821633\n",
      "4      1       1  0.017843  0.982157 -2.184655  1.823493\n"
     ]
    }
   ],
   "execution_count": 133
  },
  {
   "metadata": {
    "ExecuteTime": {
     "end_time": "2024-12-14T14:28:16.310521Z",
     "start_time": "2024-12-14T14:28:16.277851Z"
    }
   },
   "cell_type": "code",
   "source": [
    "dl_predictions = dl_predictions[['label', 'y_pred', 'prob_1']].rename(columns={'y_pred': 'y_pred_dl', 'prob_1': 'prob_1_dl'})\n",
    "logistic_TFIDF_predictions = logistic_TFIDF_predictions[['y_pred', 'prob_1']].rename(columns={'y_pred': 'y_pred_logistic_TFIDF', 'prob_1': 'prob_1_logistic_TFIDF'})\n",
    "logistic_w2v_predictions = logistic_w2v_predictions[['y_pred', 'prob_1']].rename(columns={'y_pred': 'y_pred_logistic_w2v', 'prob_1': 'prob_1_logistic_w2v'})\n",
    "svm_TFIDF_predictions = svm_TFIDF_predictions[['y_pred', 'prob_1']].rename(columns={'y_pred': 'y_pred_nb', 'prob_1': 'prob_1_nb'})"
   ],
   "id": "6cbbb9ddcd1fb4",
   "outputs": [],
   "execution_count": 134
  },
  {
   "metadata": {
    "ExecuteTime": {
     "end_time": "2024-12-14T14:28:16.384036Z",
     "start_time": "2024-12-14T14:28:16.371844Z"
    }
   },
   "cell_type": "code",
   "source": "print(dl_predictions.head())",
   "id": "18099e4c8a60fe98",
   "outputs": [
    {
     "name": "stdout",
     "output_type": "stream",
     "text": [
      "   label  y_pred_dl  prob_1_dl\n",
      "0      0          0   0.003913\n",
      "1      1          1   0.969898\n",
      "2      0          0   0.003896\n",
      "3      1          1   0.982084\n",
      "4      1          1   0.982157\n"
     ]
    }
   ],
   "execution_count": 135
  },
  {
   "metadata": {
    "ExecuteTime": {
     "end_time": "2024-12-14T14:28:16.471869Z",
     "start_time": "2024-12-14T14:28:16.451661Z"
    }
   },
   "cell_type": "code",
   "source": [
    "merged_df = dl_predictions.merge(logistic_TFIDF_predictions, left_index=True, right_index=True) \\\n",
    "                           .merge(logistic_w2v_predictions, left_index=True, right_index=True) \\\n",
    "                           .merge(svm_TFIDF_predictions, left_index=True, right_index=True)"
   ],
   "id": "e453db4ab4b819a6",
   "outputs": [],
   "execution_count": 136
  },
  {
   "metadata": {
    "ExecuteTime": {
     "end_time": "2024-12-14T14:28:16.570199Z",
     "start_time": "2024-12-14T14:28:16.553173Z"
    }
   },
   "cell_type": "code",
   "source": "print(merged_df.head())",
   "id": "36a6198fd8de742",
   "outputs": [
    {
     "name": "stdout",
     "output_type": "stream",
     "text": [
      "   label  y_pred_dl  prob_1_dl  y_pred_logistic_TFIDF  prob_1_logistic_TFIDF  \\\n",
      "0      0          0   0.003913                      0               0.133096   \n",
      "1      1          1   0.969898                      0               0.413757   \n",
      "2      0          0   0.003896                      0               0.018054   \n",
      "3      1          1   0.982084                      1               0.889077   \n",
      "4      1          1   0.982157                      1               0.912228   \n",
      "\n",
      "   y_pred_logistic_w2v  prob_1_logistic_w2v  y_pred_nb  prob_1_nb  \n",
      "0                    1             0.637157          0   0.025352  \n",
      "1                    1             0.606323          0   0.123546  \n",
      "2                    0             0.300317          0   0.003099  \n",
      "3                    1             0.655204          1   0.948223  \n",
      "4                    1             0.547438          1   0.967810  \n"
     ]
    }
   ],
   "execution_count": 137
  },
  {
   "metadata": {
    "ExecuteTime": {
     "end_time": "2024-12-14T14:28:16.670946Z",
     "start_time": "2024-12-14T14:28:16.649567Z"
    }
   },
   "cell_type": "code",
   "source": [
    "merged_df['wrong_predictions_count'] = (\n",
    "    (merged_df['y_pred_dl'] != merged_df['label']).astype(int) +\n",
    "    (merged_df['y_pred_logistic_TFIDF'] != merged_df['label']).astype(int) +\n",
    "    (merged_df['y_pred_logistic_w2v'] != merged_df['label']).astype(int) +\n",
    "    (merged_df['y_pred_nb'] != merged_df['label']).astype(int)\n",
    ")\n"
   ],
   "id": "6aba26a78cdf3683",
   "outputs": [],
   "execution_count": 138
  },
  {
   "metadata": {
    "ExecuteTime": {
     "end_time": "2024-12-14T14:28:16.769566Z",
     "start_time": "2024-12-14T14:28:16.752384Z"
    }
   },
   "cell_type": "code",
   "source": "print(merged_df.head())",
   "id": "5f66c9a3d93b4215",
   "outputs": [
    {
     "name": "stdout",
     "output_type": "stream",
     "text": [
      "   label  y_pred_dl  prob_1_dl  y_pred_logistic_TFIDF  prob_1_logistic_TFIDF  \\\n",
      "0      0          0   0.003913                      0               0.133096   \n",
      "1      1          1   0.969898                      0               0.413757   \n",
      "2      0          0   0.003896                      0               0.018054   \n",
      "3      1          1   0.982084                      1               0.889077   \n",
      "4      1          1   0.982157                      1               0.912228   \n",
      "\n",
      "   y_pred_logistic_w2v  prob_1_logistic_w2v  y_pred_nb  prob_1_nb  \\\n",
      "0                    1             0.637157          0   0.025352   \n",
      "1                    1             0.606323          0   0.123546   \n",
      "2                    0             0.300317          0   0.003099   \n",
      "3                    1             0.655204          1   0.948223   \n",
      "4                    1             0.547438          1   0.967810   \n",
      "\n",
      "   wrong_predictions_count  \n",
      "0                        1  \n",
      "1                        2  \n",
      "2                        0  \n",
      "3                        0  \n",
      "4                        0  \n"
     ]
    }
   ],
   "execution_count": 139
  },
  {
   "metadata": {
    "ExecuteTime": {
     "end_time": "2024-12-14T14:28:17.233052Z",
     "start_time": "2024-12-14T14:28:16.834956Z"
    }
   },
   "cell_type": "code",
   "source": [
    "plt.figure(figsize=(8, 6))\n",
    "merged_df['wrong_predictions_count'].value_counts().sort_index().plot(kind='bar', color='purple', edgecolor='black')\n",
    "\n",
    "plt.title('Distribution of the number of incorrect predictions', fontsize=14)\n",
    "plt.xlabel('Number of wrong predictions', fontsize=12)\n",
    "plt.ylabel('amount of lines', fontsize=12)\n",
    "plt.xticks(rotation=0)"
   ],
   "id": "bb6acdb2b2c81d92",
   "outputs": [
    {
     "data": {
      "text/plain": [
       "(array([0, 1, 2, 3, 4]),\n",
       " [Text(0, 0, '0'),\n",
       "  Text(1, 0, '1'),\n",
       "  Text(2, 0, '2'),\n",
       "  Text(3, 0, '3'),\n",
       "  Text(4, 0, '4')])"
      ]
     },
     "execution_count": 140,
     "metadata": {},
     "output_type": "execute_result"
    },
    {
     "data": {
      "text/plain": [
       "<Figure size 800x600 with 1 Axes>"
      ],
      "image/png": "[encoded data removed]"
     },
     "metadata": {},
     "output_type": "display_data"
    }
   ],
   "execution_count": 140
  },
  {
   "metadata": {
    "ExecuteTime": {
     "end_time": "2024-12-14T14:28:17.656753Z",
     "start_time": "2024-12-14T14:28:17.307107Z"
    }
   },
   "cell_type": "code",
   "source": [
    "correlation_matrix = merged_df[['y_pred_dl', 'y_pred_logistic_TFIDF', 'y_pred_logistic_w2v', 'y_pred_nb']].corr()\n",
    "\n",
    "plt.figure(figsize=(8, 6))\n",
    "sns.heatmap(correlation_matrix, annot=True, cmap='coolwarm', fmt='.2f', linewidths=0.5)\n",
    "plt.title('correlations between the predictions of the models', fontsize=14)\n",
    "plt.tight_layout()\n",
    "plt.show()"
   ],
   "id": "149ed03c04f53b99",
   "outputs": [
    {
     "data": {
      "text/plain": [
       "<Figure size 800x600 with 2 Axes>"
      ],
      "image/png": "[encoded data removed]"
     },
     "metadata": {},
     "output_type": "display_data"
    }
   ],
   "execution_count": 141
  },
  {
   "metadata": {
    "ExecuteTime": {
     "end_time": "2024-12-14T14:28:17.751634Z",
     "start_time": "2024-12-14T14:28:17.706073Z"
    }
   },
   "cell_type": "code",
   "source": [
    "\n",
    "file_path = 'C:/Users/mayer/PycharmProjects/sexism_detection/data_submission/test_dataset.parquet'\n",
    "\n",
    "test_dataset = pd.read_parquet(file_path)\n",
    "\n",
    "print(test_dataset.head())\n"
   ],
   "id": "3cec27ea89e35d1b",
   "outputs": [
    {
     "name": "stdout",
     "output_type": "stream",
     "text": [
      "                                                text  label split  \\\n",
      "0  Fuck the niggers and the jews. Both have a his...      0  test   \n",
      "1  Well then good because someone has to knock he...      1  test   \n",
      "2  #USA #Texas #Islam #Muslims #Islamization #Sha...      0  test   \n",
      "3  Yes, normal women want to be dominated. Social...      1  test   \n",
      "4  She didn't have to be a bitch about it. She li...      1  test   \n",
      "\n",
      "                                               lemma  \\\n",
      "0  b'[\"fuck\",\"nigger\",\"jews\",\"both\",\"have\",\"histo...   \n",
      "1  b'[\"well\",\"good\",\"someone\",\"have\",\"knock\",\"her...   \n",
      "2  b'[\"USA\",\"Texas\",\"Islam\",\"Muslim\",\"islamizatio...   \n",
      "3  b'[\"yes\",\"normal\",\"woman\",\"want\",\"be\",\"dominat...   \n",
      "4  b'[\"she\",\"do\",\"not\",\"have\",\"be\",\"bitch\",\"it\",\"...   \n",
      "\n",
      "                                                 pos  user_count  url_count  \n",
      "0  b'[\"VERB\",\"NOUN\",\"NOUN\",\"DET\",\"VERB\",\"NOUN\",\"V...           0          0  \n",
      "1  b'[\"INTJ\",\"ADJ\",\"PRON\",\"VERB\",\"VERB\",\"PRON\",\"N...           0          0  \n",
      "2  b'[\"PROPN\",\"PROPN\",\"PROPN\",\"PROPN\",\"NOUN\",\"PRO...           0          1  \n",
      "3  b'[\"INTJ\",\"ADJ\",\"NOUN\",\"VERB\",\"AUX\",\"VERB\",\"AD...           0          0  \n",
      "4  b'[\"PRON\",\"AUX\",\"PART\",\"VERB\",\"AUX\",\"NOUN\",\"PR...           0          0  \n"
     ]
    }
   ],
   "execution_count": 142
  },
  {
   "metadata": {
    "ExecuteTime": {
     "end_time": "2024-12-14T14:28:17.804523Z",
     "start_time": "2024-12-14T14:28:17.792365Z"
    }
   },
   "cell_type": "code",
   "source": "test_dataset.shape",
   "id": "cf440118f48c638c",
   "outputs": [
    {
     "data": {
      "text/plain": [
       "(4000, 7)"
      ]
     },
     "execution_count": 143,
     "metadata": {},
     "output_type": "execute_result"
    }
   ],
   "execution_count": 143
  },
  {
   "metadata": {},
   "cell_type": "markdown",
   "source": "",
   "id": "76d134af7f3026c7"
  },
  {
   "metadata": {
    "ExecuteTime": {
     "end_time": "2024-12-14T14:28:17.874609Z",
     "start_time": "2024-12-14T14:28:17.854519Z"
    }
   },
   "cell_type": "code",
   "source": "merged_df.shape",
   "id": "9a64a699ad1d29a6",
   "outputs": [
    {
     "data": {
      "text/plain": [
       "(4000, 10)"
      ]
     },
     "execution_count": 144,
     "metadata": {},
     "output_type": "execute_result"
    }
   ],
   "execution_count": 144
  },
  {
   "metadata": {
    "ExecuteTime": {
     "end_time": "2024-12-14T14:28:17.949530Z",
     "start_time": "2024-12-14T14:28:17.922425Z"
    }
   },
   "cell_type": "code",
   "source": [
    "test_dataset_cleaned = test_dataset.drop(['label', 'split'], axis=1)\n",
    "\n",
    "final_merged_df = test_dataset_cleaned.merge(merged_df, left_index=True, right_index=True)\n"
   ],
   "id": "77d845f5b849d0c7",
   "outputs": [],
   "execution_count": 145
  },
  {
   "metadata": {
    "ExecuteTime": {
     "end_time": "2024-12-14T14:28:18.012601Z",
     "start_time": "2024-12-14T14:28:17.997429Z"
    }
   },
   "cell_type": "code",
   "source": "print(final_merged_df.head())",
   "id": "7ef5d882e65ce539",
   "outputs": [
    {
     "name": "stdout",
     "output_type": "stream",
     "text": [
      "                                                text  \\\n",
      "0  Fuck the niggers and the jews. Both have a his...   \n",
      "1  Well then good because someone has to knock he...   \n",
      "2  #USA #Texas #Islam #Muslims #Islamization #Sha...   \n",
      "3  Yes, normal women want to be dominated. Social...   \n",
      "4  She didn't have to be a bitch about it. She li...   \n",
      "\n",
      "                                               lemma  \\\n",
      "0  b'[\"fuck\",\"nigger\",\"jews\",\"both\",\"have\",\"histo...   \n",
      "1  b'[\"well\",\"good\",\"someone\",\"have\",\"knock\",\"her...   \n",
      "2  b'[\"USA\",\"Texas\",\"Islam\",\"Muslim\",\"islamizatio...   \n",
      "3  b'[\"yes\",\"normal\",\"woman\",\"want\",\"be\",\"dominat...   \n",
      "4  b'[\"she\",\"do\",\"not\",\"have\",\"be\",\"bitch\",\"it\",\"...   \n",
      "\n",
      "                                                 pos  user_count  url_count  \\\n",
      "0  b'[\"VERB\",\"NOUN\",\"NOUN\",\"DET\",\"VERB\",\"NOUN\",\"V...           0          0   \n",
      "1  b'[\"INTJ\",\"ADJ\",\"PRON\",\"VERB\",\"VERB\",\"PRON\",\"N...           0          0   \n",
      "2  b'[\"PROPN\",\"PROPN\",\"PROPN\",\"PROPN\",\"NOUN\",\"PRO...           0          1   \n",
      "3  b'[\"INTJ\",\"ADJ\",\"NOUN\",\"VERB\",\"AUX\",\"VERB\",\"AD...           0          0   \n",
      "4  b'[\"PRON\",\"AUX\",\"PART\",\"VERB\",\"AUX\",\"NOUN\",\"PR...           0          0   \n",
      "\n",
      "   label  y_pred_dl  prob_1_dl  y_pred_logistic_TFIDF  prob_1_logistic_TFIDF  \\\n",
      "0      0          0   0.003913                      0               0.133096   \n",
      "1      1          1   0.969898                      0               0.413757   \n",
      "2      0          0   0.003896                      0               0.018054   \n",
      "3      1          1   0.982084                      1               0.889077   \n",
      "4      1          1   0.982157                      1               0.912228   \n",
      "\n",
      "   y_pred_logistic_w2v  prob_1_logistic_w2v  y_pred_nb  prob_1_nb  \\\n",
      "0                    1             0.637157          0   0.025352   \n",
      "1                    1             0.606323          0   0.123546   \n",
      "2                    0             0.300317          0   0.003099   \n",
      "3                    1             0.655204          1   0.948223   \n",
      "4                    1             0.547438          1   0.967810   \n",
      "\n",
      "   wrong_predictions_count  \n",
      "0                        1  \n",
      "1                        2  \n",
      "2                        0  \n",
      "3                        0  \n",
      "4                        0  \n"
     ]
    }
   ],
   "execution_count": 146
  },
  {
   "metadata": {
    "ExecuteTime": {
     "end_time": "2024-12-14T14:28:18.155328Z",
     "start_time": "2024-12-14T14:28:18.130660Z"
    }
   },
   "cell_type": "code",
   "source": "wrong_predictions_4 = final_merged_df[final_merged_df['wrong_predictions_count'] == 4]",
   "id": "96d9440e8e969131",
   "outputs": [],
   "execution_count": 147
  },
  {
   "metadata": {
    "ExecuteTime": {
     "end_time": "2024-12-14T14:28:18.254075Z",
     "start_time": "2024-12-14T14:28:18.239725Z"
    }
   },
   "cell_type": "code",
   "source": "print(wrong_predictions_4.head())",
   "id": "90f3334ea35e99df",
   "outputs": [
    {
     "name": "stdout",
     "output_type": "stream",
     "text": [
      "                                                 text  \\\n",
      "11          I would pay to see her Ass Cracker. #nsfw   \n",
      "18  Yes he can only top men fuck non ugly women no...   \n",
      "49  I bet her future husband won't have anywhere n...   \n",
      "53  I'm sure that kinder gentler baboon troop was ...   \n",
      "71  What's the going timeframe onto getting on GAB...   \n",
      "\n",
      "                                                lemma  \\\n",
      "11  b'[\"I\",\"would\",\"pay\",\"see\",\"her\",\"Ass\",\"Cracke...   \n",
      "18  b'[\"yes\",\"he\",\"can\",\"only\",\"top\",\"man\",\"fuck\",...   \n",
      "49  b'[\"I\",\"bet\",\"her\",\"future\",\"husband\",\"not\",\"h...   \n",
      "53  b'[\"I\",\"be\",\"sure\",\"kind\",\"gentler\",\"baboon\",\"...   \n",
      "71  b'[\"be\",\"go\",\"timeframe\",\"onto\",\"get\",\"GAB\",\"n...   \n",
      "\n",
      "                                                  pos  user_count  url_count  \\\n",
      "11  b'[\"PRON\",\"AUX\",\"VERB\",\"VERB\",\"PRON\",\"PROPN\",\"...           0          0   \n",
      "18  b'[\"INTJ\",\"PRON\",\"AUX\",\"ADV\",\"VERB\",\"NOUN\",\"VE...           0          0   \n",
      "49  b'[\"PRON\",\"VERB\",\"PRON\",\"ADJ\",\"NOUN\",\"PART\",\"V...           0          0   \n",
      "53  b'[\"PRON\",\"AUX\",\"ADJ\",\"ADJ\",\"ADJ\",\"NOUN\",\"NOUN...           0          0   \n",
      "71  b'[\"AUX\",\"VERB\",\"NOUN\",\"SCONJ\",\"VERB\",\"PROPN\",...           0          0   \n",
      "\n",
      "    label  y_pred_dl  prob_1_dl  y_pred_logistic_TFIDF  prob_1_logistic_TFIDF  \\\n",
      "11      1          0   0.003963                      0               0.374943   \n",
      "18      0          1   0.790144                      1               0.721352   \n",
      "49      1          0   0.004120                      0               0.187406   \n",
      "53      1          0   0.003988                      0               0.331761   \n",
      "71      1          0   0.090300                      0               0.342277   \n",
      "\n",
      "    y_pred_logistic_w2v  prob_1_logistic_w2v  y_pred_nb  prob_1_nb  \\\n",
      "11                    0             0.320435          0   0.092229   \n",
      "18                    1             0.767281          1   0.685938   \n",
      "49                    0             0.463529          0   0.046496   \n",
      "53                    0             0.492498          0   0.088876   \n",
      "71                    0             0.473246          0   0.148436   \n",
      "\n",
      "    wrong_predictions_count  \n",
      "11                        4  \n",
      "18                        4  \n",
      "49                        4  \n",
      "53                        4  \n",
      "71                        4  \n"
     ]
    }
   ],
   "execution_count": 148
  },
  {
   "metadata": {
    "ExecuteTime": {
     "end_time": "2024-12-14T14:28:18.389582Z",
     "start_time": "2024-12-14T14:28:18.370820Z"
    }
   },
   "cell_type": "code",
   "source": "#wrong_predictions_4.to_csv('../data_submission/wrong_predictions_count_4.csv', index=False)",
   "id": "170dea56f5453a8",
   "outputs": [],
   "execution_count": 149
  },
  {
   "metadata": {
    "ExecuteTime": {
     "end_time": "2024-12-14T14:28:39.713740Z",
     "start_time": "2024-12-14T14:28:39.704101Z"
    }
   },
   "cell_type": "code",
   "source": [
    "#wrong_predictions_4_filtered = wrong_predictions_4[['text', 'label']]\n",
    "#wrong_predictions_4_filtered.to_csv('../data_submission/wrong_predictions_count_4.csv', index=False)\n"
   ],
   "id": "85415b3499ccf1f5",
   "outputs": [],
   "execution_count": 151
  }
 ],
 "metadata": {
  "kernelspec": {
   "display_name": "Python 3",
   "language": "python",
   "name": "python3"
  },
  "language_info": {
   "codemirror_mode": {
    "name": "ipython",
    "version": 2
   },
   "file_extension": ".py",
   "mimetype": "text/x-python",
   "name": "python",
   "nbconvert_exporter": "python",
   "pygments_lexer": "ipython2",
   "version": "2.7.6"
  }
 },
 "nbformat": 4,
 "nbformat_minor": 5
}
