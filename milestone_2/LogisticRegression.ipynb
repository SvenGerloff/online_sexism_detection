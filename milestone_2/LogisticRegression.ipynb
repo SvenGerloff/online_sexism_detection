{
 "cells": [
  {
   "cell_type": "code",
   "execution_count": 6,
   "metadata": {},
   "outputs": [
    {
     "name": "stderr",
     "output_type": "stream",
     "text": [
      "/Users/mac/Downloads/online_sexism_detection/.venv/lib/python3.9/site-packages/urllib3/__init__.py:35: NotOpenSSLWarning: urllib3 v2 only supports OpenSSL 1.1.1+, currently the 'ssl' module is compiled with 'LibreSSL 2.8.3'. See: https://github.com/urllib3/urllib3/issues/3020\n",
      "  warnings.warn(\n"
     ]
    },
    {
     "ename": "NameError",
     "evalue": "name 'sys' is not defined",
     "output_type": "error",
     "traceback": [
      "\u001b[0;31m---------------------------------------------------------------------------\u001b[0m",
      "\u001b[0;31mNameError\u001b[0m                                 Traceback (most recent call last)",
      "Cell \u001b[0;32mIn[6], line 15\u001b[0m\n\u001b[1;32m     12\u001b[0m \u001b[38;5;28;01mfrom\u001b[39;00m \u001b[38;5;21;01mgensim\u001b[39;00m\u001b[38;5;21;01m.\u001b[39;00m\u001b[38;5;21;01mmodels\u001b[39;00m \u001b[38;5;28;01mimport\u001b[39;00m Word2Vec\n\u001b[1;32m     14\u001b[0m \u001b[38;5;66;03m# Import functions from preprocessing module\u001b[39;00m\n\u001b[0;32m---> 15\u001b[0m \u001b[43msys\u001b[49m\u001b[38;5;241m.\u001b[39mpath\u001b[38;5;241m.\u001b[39mappend(\u001b[38;5;124m'\u001b[39m\u001b[38;5;124m..\u001b[39m\u001b[38;5;124m'\u001b[39m)\n\u001b[1;32m     16\u001b[0m \u001b[38;5;28;01mfrom\u001b[39;00m \u001b[38;5;21;01mutils\u001b[39;00m\u001b[38;5;21;01m.\u001b[39;00m\u001b[38;5;21;01mload_data\u001b[39;00m \u001b[38;5;28;01mimport\u001b[39;00m load_processed_data\n",
      "\u001b[0;31mNameError\u001b[0m: name 'sys' is not defined"
     ]
    }
   ],
   "source": [
    "\n",
    "import json\n",
    "import pandas as pd\n",
    "import yaml\n",
    "import pickle\n",
    "import numpy as np\n",
    "import wandb\n",
    "import os\n",
    "from sklearn.feature_extraction.text import TfidfVectorizer\n",
    "from sklearn.linear_model import LogisticRegression\n",
    "from sklearn.metrics import f1_score, balanced_accuracy_score, accuracy_score, classification_report, confusion_matrix\n",
    "from imblearn.over_sampling import SMOTE\n",
    "from gensim.models import Word2Vec\n",
    "\n",
    "# Import functions from preprocessing module\n",
    "sys.path.append('..')\n",
    "from utils.load_data import load_processed_data"
   ]
  },
  {
   "cell_type": "markdown",
   "metadata": {},
   "source": [
    "## Load data"
   ]
  },
  {
   "cell_type": "code",
   "execution_count": null,
   "metadata": {},
   "outputs": [],
   "source": [
    "df = load_processed_data()\n",
    "train_data = df[\"train\"]\n",
    "test_data = df[\"test\"]\n",
    "dev_data = df[\"dev\"]\n",
    "\n",
    "X_train, y_train = train_data[\"lemma\"], train_data[\"label\"]\n",
    "X_test, y_test = test_data[\"lemma\"], test_data[\"label\"]\n",
    "X_dev, y_dev = dev_data[\"lemma\"], dev_data[\"label\"]"
   ]
  },
  {
   "cell_type": "markdown",
   "metadata": {},
   "source": [
    "## TF-IDF"
   ]
  },
  {
   "cell_type": "code",
   "execution_count": null,
   "metadata": {},
   "outputs": [],
   "source": [
    "# Initialize the TF-IDF Vectorizer\n",
    "tfidf_params_list = [\n",
    "    {'max_features': 3000, 'ngram_range': (1, 1), 'min_df': 5},\n",
    "    {'max_features': 3000, 'ngram_range': (1, 2), 'min_df': 5},\n",
    "    {'max_features': 5000, 'ngram_range': (1, 1), 'min_df': 5},\n",
    "    {'max_features': 5000, 'ngram_range': (1, 2), 'min_df': 5},\n",
    "    {'max_features': 10000, 'ngram_range': (1, 1), 'min_df': 5},\n",
    "    {'max_features': 10000, 'ngram_range': (1, 2), 'min_df': 5}\n",
    "]"
   ]
  },
  {
   "cell_type": "code",
   "execution_count": null,
   "metadata": {},
   "outputs": [],
   "source": [
    "wandb.init(project=\"online_sexism_detection\", name=\"tfidf_logistic_regression\") \n",
    "\n",
    "for tfidf_params in tfidf_params_list:\n",
    "    vectorizer = TfidfVectorizer(**tfidf_params)\n",
    "    X_train_tfidf = vectorizer.fit_transform(X_train)\n",
    "    X_test_tfidf = vectorizer.transform(X_test)\n",
    "\n",
    "    smote = SMOTE(random_state=42)\n",
    "    X_resampled, y_resampled = smote.fit_resample(X_train_tfidf, y_train)\n",
    "\n",
    "    logistic_model = LogisticRegression(max_iter=500, class_weight='balanced')\n",
    "    logistic_model.fit(X_resampled, y_resampled)\n",
    "\n",
    "    y_pred_logistic = logistic_model.predict(X_test_tfidf)\n",
    "\n",
    "\n",
    "\n",
    "    # Evaluate\n",
    "    print(f\"TF-IDF Params: {tfidf_params}\")\n",
    "    print(\"Accuracy:\", accuracy_score(y_test, y_pred_logistic))\n",
    "    print(classification_report(y_test, y_pred_logistic))\n",
    "\n",
    "    wandb.log({\n",
    "        'tfidf_params': tfidf_params,\n",
    "        \"f1\": f1_score(y_test, y_pred_logistic),\n",
    "        \"balanced_accuracy\": balanced_accuracy_score(y_test, y_pred_logistic),\n",
    "        \"accuracy\": accuracy_score(y_test, y_pred_logistic),\n",
    "    })\n",
    "\n",
    "    df_output_logistic.to_csv('logistic_predictions.csv', index=False)\n",
    "\n",
    "# Finish Weights & Biases session\n",
    "wandb.finish()\n"
   ]
  },
  {
   "cell_type": "markdown",
   "metadata": {},
   "source": [
    "## Word2Vec"
   ]
  },
  {
   "cell_type": "code",
   "execution_count": null,
   "metadata": {},
   "outputs": [],
   "source": [
    "word2vec_params_list = [\n",
    "    {'vector_size': 50, 'window': 5, 'min_count': 1},\n",
    "    {'vector_size': 100, 'window': 5, 'min_count': 1},\n",
    "    {'vector_size': 200, 'window': 5, 'min_count': 1},\n",
    "    {'vector_size': 300, 'window': 5, 'min_count': 1},\n",
    "    {'vector_size': 300, 'window':10 , 'min_count': 1},\n",
    "    {'vector_size': 300, 'window':20 , 'min_count': 1}\n",
    "]"
   ]
  },
  {
   "cell_type": "code",
   "execution_count": null,
   "metadata": {},
   "outputs": [],
   "source": [
    "\n",
    "wandb.init(project=\"online_sexism_detection\", name=\"word2vec_logistic_regression\")\n",
    "\n",
    "for word2vec_params in word2vec_params_list:\n",
    "    X_processed_train = X_train.apply(lambda x: x.split()).tolist()\n",
    "    X_processed_test = X_test.apply(lambda x: x.split()).tolist()\n",
    "\n",
    "    word2vec_model = Word2Vec(sentences=X_processed_train, **word2vec_params)\n",
    "\n",
    "    def vectorize_sentences(sentences, model):\n",
    "        vectors = []\n",
    "        for sentence in sentences:\n",
    "            word_vectors = [model.wv[word] for word in sentence if word in model.wv]\n",
    "            if word_vectors:\n",
    "                vectors.append(np.mean(word_vectors, axis=0))\n",
    "            else:\n",
    "                vectors.append(np.zeros(model.vector_size))\n",
    "        return np.array(vectors)\n",
    "\n",
    "    X_train_vectors = vectorize_sentences(X_processed_train, word2vec_model)\n",
    "    X_test_vectors = vectorize_sentences(X_processed_test, word2vec_model)\n",
    "\n",
    "    smote = SMOTE(random_state=42)\n",
    "    X_resampled_w2v, y_resampled_w2v = smote.fit_resample(X_train_vectors, y_train)\n",
    "\n",
    "    logistic_model_w2v = LogisticRegression(max_iter=500, class_weight='balanced')\n",
    "    logistic_model_w2v.fit(X_resampled_w2v, y_resampled_w2v)\n",
    "\n",
    "\n",
    "    y_pred_logistic_w2v = logistic_model_w2v.predict(X_test_vectors)\n",
    "    \n",
    "    # Evaluate\n",
    "    print(f\"Word2Vec Params: {word2vec_params}\")\n",
    "    print(\"Accuracy:\", accuracy_score(y_test, y_pred_logistic_w2v))\n",
    "    print(classification_report(y_test , y_pred_logistic_w2v))\n",
    "\n",
    "    # Log results to Weights & Biases\n",
    "    wandb.log({\n",
    "        'word2vec_params': word2vec_params,\n",
    "        \"f1\": f1_score(y_test, y_pred_logistic_w2v),\n",
    "        \"balanced_accuracy\": balanced_accuracy_score(y_test, y_pred_logistic_w2v),\n",
    "        \"accuracy\": accuracy_score(y_test, y_pred_logistic_w2v),\n",
    "    })\n",
    "\n",
    "wandb.finish()"
   ]
  }
 ],
 "metadata": {
  "kernelspec": {
   "display_name": ".venv",
   "language": "python",
   "name": "python3"
  },
  "language_info": {
   "codemirror_mode": {
    "name": "ipython",
    "version": 3
   },
   "file_extension": ".py",
   "mimetype": "text/x-python",
   "name": "python",
   "nbconvert_exporter": "python",
   "pygments_lexer": "ipython3",
   "version": "3.9.6"
  }
 },
 "nbformat": 4,
 "nbformat_minor": 2
}
