{
 "cells": [
  {
   "cell_type": "code",
   "execution_count": 4,
   "metadata": {},
   "outputs": [],
   "source": [
    "import pandas as pd\n",
    "from sklearn.model_selection import train_test_split\n",
    "from sklearn.linear_model import LogisticRegression\n",
    "from sklearn.svm import SVC\n",
    "from sklearn.metrics import classification_report, confusion_matrix\n",
    "from imblearn.over_sampling import SMOTE\n",
    "from gensim.models import Word2Vec\n",
    "import numpy as np\n",
    "import seaborn as sns\n",
    "from sklearn.feature_extraction.text import TfidfVectorizer"
   ]
  },
  {
   "cell_type": "code",
   "execution_count": 2,
   "metadata": {},
   "outputs": [],
   "source": [
    "# Load the training dataset\n",
    "train_data = pd.read_parquet('/workspaces/online_sexism_detection/data_submission/train_dataset.parquet')\n",
    "\n",
    "# Load the testing dataset\n",
    "test_data = pd.read_parquet('/workspaces/online_sexism_detection/data_submission/test_dataset.parquet')\n",
    "\n",
    "# Define features and labels\n",
    "X_train = train_data['text']  # Text data for training\n",
    "y_train = train_data['label']  # Labels for training\n",
    "X_test = test_data['text']     # Text data for testing\n",
    "y_test = test_data['label']    # Labels for testing"
   ]
  },
  {
   "cell_type": "markdown",
   "metadata": {},
   "source": [
    "### TF-IDF with Logistic Regression"
   ]
  },
  {
   "cell_type": "code",
   "execution_count": 5,
   "metadata": {},
   "outputs": [
    {
     "name": "stdout",
     "output_type": "stream",
     "text": [
      "Logistic Regression Results:\n",
      "[[2588  442]\n",
      " [ 331  639]]\n",
      "              precision    recall  f1-score   support\n",
      "\n",
      "           0       0.89      0.85      0.87      3030\n",
      "           1       0.59      0.66      0.62       970\n",
      "\n",
      "    accuracy                           0.81      4000\n",
      "   macro avg       0.74      0.76      0.75      4000\n",
      "weighted avg       0.81      0.81      0.81      4000\n",
      "\n"
     ]
    }
   ],
   "source": [
    "# Initialize the TF-IDF Vectorizer\n",
    "vectorizer = TfidfVectorizer(max_features=5000, ngram_range=(1, 2), min_df=5)\n",
    "\n",
    "# Fit and transform the training data\n",
    "X_train_tfidf = vectorizer.fit_transform(X_train)\n",
    "\n",
    "# Transform the test data\n",
    "X_test_tfidf = vectorizer.transform(X_test)\n",
    "\n",
    "# Apply SMOTE to the training data\n",
    "smote = SMOTE(random_state=42)\n",
    "X_resampled, y_resampled = smote.fit_resample(X_train_tfidf, y_train)\n",
    "\n",
    "# Train the Logistic Regression model\n",
    "logistic_model = LogisticRegression(max_iter=500, class_weight='balanced')\n",
    "logistic_model.fit(X_resampled, y_resampled)\n",
    "\n",
    "# Make predictions with Logistic Regression\n",
    "y_pred_logistic = logistic_model.predict(X_test_tfidf)\n",
    "\n",
    "# Evaluate the Logistic Regression model\n",
    "print(\"Logistic Regression Results:\")\n",
    "print(confusion_matrix(y_test, y_pred_logistic))\n",
    "print(classification_report(y_test, y_pred_logistic))"
   ]
  },
  {
   "cell_type": "markdown",
   "metadata": {},
   "source": [
    "### TF-IDF with SVM"
   ]
  },
  {
   "cell_type": "code",
   "execution_count": 6,
   "metadata": {},
   "outputs": [
    {
     "name": "stdout",
     "output_type": "stream",
     "text": [
      "SVM Results:\n",
      "[[2953   77]\n",
      " [ 624  346]]\n",
      "              precision    recall  f1-score   support\n",
      "\n",
      "           0       0.83      0.97      0.89      3030\n",
      "           1       0.82      0.36      0.50       970\n",
      "\n",
      "    accuracy                           0.82      4000\n",
      "   macro avg       0.82      0.67      0.70      4000\n",
      "weighted avg       0.82      0.82      0.80      4000\n",
      "\n"
     ]
    }
   ],
   "source": [
    "# Train the SVM model\n",
    "svm_model = SVC(random_state=42, class_weight='balanced')\n",
    "svm_model.fit(X_resampled, y_resampled)\n",
    "\n",
    "# Make predictions with SVM\n",
    "y_pred_svm = svm_model.predict(X_test_tfidf)\n",
    "\n",
    "# Evaluate the SVM model\n",
    "print(\"SVM Results:\")\n",
    "print(confusion_matrix(y_test, y_pred_svm))\n",
    "print(classification_report(y_test, y_pred_svm))"
   ]
  },
  {
   "cell_type": "markdown",
   "metadata": {},
   "source": [
    "### Word2vec"
   ]
  },
  {
   "cell_type": "code",
   "execution_count": 7,
   "metadata": {},
   "outputs": [
    {
     "name": "stdout",
     "output_type": "stream",
     "text": [
      "Logistic Regression Results (Word2Vec):\n",
      "[[1612 1418]\n",
      " [ 361  609]]\n",
      "              precision    recall  f1-score   support\n",
      "\n",
      "           0       0.82      0.53      0.64      3030\n",
      "           1       0.30      0.63      0.41       970\n",
      "\n",
      "    accuracy                           0.56      4000\n",
      "   macro avg       0.56      0.58      0.53      4000\n",
      "weighted avg       0.69      0.56      0.59      4000\n",
      "\n",
      "SVM Results (Word2Vec):\n",
      "[[1349 1681]\n",
      " [ 266  704]]\n",
      "              precision    recall  f1-score   support\n",
      "\n",
      "           0       0.84      0.45      0.58      3030\n",
      "           1       0.30      0.73      0.42       970\n",
      "\n",
      "    accuracy                           0.51      4000\n",
      "   macro avg       0.57      0.59      0.50      4000\n",
      "weighted avg       0.70      0.51      0.54      4000\n",
      "\n"
     ]
    }
   ],
   "source": [
    "# --- Word2Vec Feature Extraction ---\n",
    "# Tokenize sentences for Word2Vec\n",
    "X_processed_train = X_train.apply(lambda x: x.split()).tolist()  # Tokenize sentences for training\n",
    "X_processed_test = X_test.apply(lambda x: x.split()).tolist()     # Tokenize sentences for testing\n",
    "\n",
    "# Train Word2Vec model\n",
    "word2vec_model = Word2Vec(sentences=X_processed_train, vector_size=100, window=5, min_count=1, workers=4)\n",
    "\n",
    "# Function to vectorize sentences using Word2Vec\n",
    "def vectorize_sentences(sentences, model):\n",
    "    vectors = []\n",
    "    for sentence in sentences:\n",
    "        word_vectors = [model.wv[word] for word in sentence if word in model.wv]  # Get word vectors\n",
    "        if word_vectors:  # If there are any word vectors\n",
    "            vectors.append(np.mean(word_vectors, axis=0))  # Average the word vectors\n",
    "        else:\n",
    "            vectors.append(np.zeros(model.vector_size))  # If no words found, use a zero vector\n",
    "    return np.array(vectors)\n",
    "\n",
    "# Vectorize training and testing data using Word2Vec\n",
    "X_train_vectors = vectorize_sentences(X_processed_train, word2vec_model)\n",
    "X_test_vectors = vectorize_sentences(X_processed_test, word2vec_model)\n",
    "\n",
    "# Apply SMOTE to the training data (Word2Vec)\n",
    "smote = SMOTE(random_state=42)\n",
    "X_resampled_w2v, y_resampled_w2v = smote.fit_resample(X_train_vectors, y_train)\n",
    "\n",
    "# Train the Logistic Regression model with Word2Vec\n",
    "logistic_model_w2v = LogisticRegression(max_iter=500, class_weight='balanced')\n",
    "logistic_model_w2v.fit(X_resampled_w2v, y_resampled_w2v)\n",
    "\n",
    "# Make predictions with Logistic Regression (Word2Vec)\n",
    "y_pred_logistic_w2v = logistic_model_w2v.predict(X_test_vectors)\n",
    "\n",
    "# Evaluate the Logistic Regression model (Word2Vec)\n",
    "print(\"Logistic Regression Results (Word2Vec):\")\n",
    "print(confusion_matrix(y_test, y_pred_logistic_w2v))\n",
    "print(classification_report(y_test, y_pred_logistic_w2v))\n",
    "\n",
    "# Train the SVM model with Word2Vec\n",
    "svm_model_w2v = SVC(random_state=42, class_weight='balanced')\n",
    "svm_model_w2v.fit(X_resampled_w2v, y_resampled_w2v)\n",
    "\n",
    "# Make predictions with SVM (Word2Vec)\n",
    "y_pred_svm_w2v = svm_model_w2v.predict(X_test_vectors)\n",
    "\n",
    "# Evaluate the SVM model (Word2Vec)\n",
    "print(\"SVM Results (Word2Vec):\")\n",
    "print(confusion_matrix(y_test, y_pred_svm_w2v))\n",
    "print(classification_report(y_test, y_pred_svm_w2v))"
   ]
  }
 ],
 "metadata": {
  "kernelspec": {
   "display_name": "Python 3",
   "language": "python",
   "name": "python3"
  },
  "language_info": {
   "codemirror_mode": {
    "name": "ipython",
    "version": 3
   },
   "file_extension": ".py",
   "mimetype": "text/x-python",
   "name": "python",
   "nbconvert_exporter": "python",
   "pygments_lexer": "ipython3",
   "version": "3.12.1"
  }
 },
 "nbformat": 4,
 "nbformat_minor": 2
}
