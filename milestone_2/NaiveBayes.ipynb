{
 "cells": [
  {
   "metadata": {},
   "cell_type": "markdown",
   "source": "# Naive Bayes",
   "id": "c3594d3b23d00c56"
  },
  {
   "metadata": {
    "ExecuteTime": {
     "end_time": "2024-12-08T12:16:54.690585Z",
     "start_time": "2024-12-08T12:16:54.676414Z"
    }
   },
   "cell_type": "code",
   "source": [
    "import pandas as pd\n",
    "from sklearn.feature_extraction.text import TfidfVectorizer\n",
    "from sklearn.naive_bayes import MultinomialNB\n",
    "from gensim.models import Word2Vec\n",
    "from sklearn.metrics import confusion_matrix, classification_report, accuracy_score\n",
    "import wandb\n",
    "import numpy as np\n",
    "import sys\n",
    "\n",
    "# Import functions from preprocessing module\n",
    "sys.path.append('..')\n",
    "from utils.load_data import load_processed_data"
   ],
   "id": "fececd362ff02409",
   "outputs": [],
   "execution_count": 13
  },
  {
   "metadata": {},
   "cell_type": "markdown",
   "source": "## Load data",
   "id": "2b05c776e7ccdb0e"
  },
  {
   "metadata": {
    "ExecuteTime": {
     "end_time": "2024-12-08T11:43:46.850403Z",
     "start_time": "2024-12-08T11:43:46.793437Z"
    }
   },
   "cell_type": "code",
   "source": [
    "df = load_processed_data()\n",
    "train_data = df[\"train\"]\n",
    "dev_data = df[\"dev\"]\n",
    "\n",
    "X_train = train_data['text']\n",
    "y_train = train_data['label']\n",
    "X_dev = dev_data['text']\n",
    "y_dev = dev_data['label']"
   ],
   "id": "3ef51174fe040c27",
   "outputs": [
    {
     "name": "stdout",
     "output_type": "stream",
     "text": [
      "df: Train split loaded.\n",
      "df: Dev split loaded.\n",
      "df: Test split loaded.\n"
     ]
    }
   ],
   "execution_count": 7
  },
  {
   "metadata": {
    "ExecuteTime": {
     "end_time": "2024-12-08T11:43:46.911661Z",
     "start_time": "2024-12-08T11:43:46.902114Z"
    }
   },
   "cell_type": "code",
   "source": "train_data['label'].value_counts()",
   "id": "1057cdf518a8f82b",
   "outputs": [
    {
     "data": {
      "text/plain": [
       "label\n",
       "0    10602\n",
       "1     3398\n",
       "Name: count, dtype: int64"
      ]
     },
     "execution_count": 8,
     "metadata": {},
     "output_type": "execute_result"
    }
   ],
   "execution_count": 8
  },
  {
   "metadata": {},
   "cell_type": "markdown",
   "source": "## TF-IDF",
   "id": "6e1c2e1981b02ee6"
  },
  {
   "metadata": {
    "ExecuteTime": {
     "end_time": "2024-12-08T11:43:46.986658Z",
     "start_time": "2024-12-08T11:43:46.980698Z"
    }
   },
   "cell_type": "code",
   "source": [
    "tfidf_params_list = [\n",
    "    {'max_features': 3000, 'ngram_range': (1, 1), 'min_df': 5},\n",
    "    {'max_features': 5000, 'ngram_range': (1, 2), 'min_df': 5},\n",
    "    {'max_features': 10000, 'ngram_range': (1, 3), 'min_df': 3}\n",
    "]"
   ],
   "id": "8080b9d2d6dbcb05",
   "outputs": [],
   "execution_count": 9
  },
  {
   "metadata": {
    "ExecuteTime": {
     "end_time": "2024-12-08T11:43:59.030683Z",
     "start_time": "2024-12-08T11:43:47.059482Z"
    }
   },
   "cell_type": "code",
   "source": [
    "wandb.init(project=\"tfidf_naive_bayes\", name=\"TF-IDF_Experiments\")\n",
    "\n",
    "for tfidf_params in tfidf_params_list:\n",
    "    vectorizer = TfidfVectorizer(**tfidf_params)\n",
    "    X_train_tfidf = vectorizer.fit_transform(X_train)\n",
    "    X_test_tfidf = vectorizer.transform(X_dev)\n",
    "\n",
    "    # Train Naive Bayes classifier\n",
    "    model = MultinomialNB()\n",
    "    model.fit(X_train_tfidf, y_train)\n",
    "    y_pred = model.predict(X_test_tfidf)\n",
    "\n",
    "    # Evaluate\n",
    "    accuracy = accuracy_score(y_dev, y_pred)\n",
    "    print(f\"TF-IDF Params: {tfidf_params}\")\n",
    "    print(\"Accuracy:\", accuracy)\n",
    "    print(classification_report(y_dev, y_pred))\n",
    "\n",
    "    # Log results\n",
    "    wandb.log({\n",
    "        'tfidf_params': tfidf_params,\n",
    "        'accuracy': accuracy,\n",
    "        'confusion_matrix': confusion_matrix(y_dev, y_pred).tolist(),\n",
    "        'classification_report': classification_report(y_dev, y_pred, output_dict=True)\n",
    "    })\n",
    "\n",
    "wandb.finish()"
   ],
   "id": "34b5e8fdaaf10303",
   "outputs": [
    {
     "data": {
      "text/plain": [
       "<IPython.core.display.HTML object>"
      ],
      "text/html": [
       "Finishing last run (ID:9dklt7x0) before initializing another..."
      ]
     },
     "metadata": {},
     "output_type": "display_data"
    },
    {
     "data": {
      "text/plain": [
       "<IPython.core.display.HTML object>"
      ],
      "text/html": [
       " View run <strong style=\"color:#cdcd00\">TF-IDF_Experiments</strong> at: <a href='https://wandb.ai/e52303639-tu-wien/tfidf_naive_bayes/runs/9dklt7x0' target=\"_blank\">https://wandb.ai/e52303639-tu-wien/tfidf_naive_bayes/runs/9dklt7x0</a><br/> View project at: <a href='https://wandb.ai/e52303639-tu-wien/tfidf_naive_bayes' target=\"_blank\">https://wandb.ai/e52303639-tu-wien/tfidf_naive_bayes</a><br/>Synced 4 W&B file(s), 0 media file(s), 3 artifact file(s) and 0 other file(s)"
      ]
     },
     "metadata": {},
     "output_type": "display_data"
    },
    {
     "data": {
      "text/plain": [
       "<IPython.core.display.HTML object>"
      ],
      "text/html": [
       "Find logs at: <code>./wandb/run-20241208_124302-9dklt7x0/logs</code>"
      ]
     },
     "metadata": {},
     "output_type": "display_data"
    },
    {
     "data": {
      "text/plain": [
       "<IPython.core.display.HTML object>"
      ],
      "text/html": [
       "Successfully finished last run (ID:9dklt7x0). Initializing new run:<br/>"
      ]
     },
     "metadata": {},
     "output_type": "display_data"
    },
    {
     "data": {
      "text/plain": [
       "<IPython.core.display.HTML object>"
      ],
      "text/html": [
       "Tracking run with wandb version 0.18.7"
      ]
     },
     "metadata": {},
     "output_type": "display_data"
    },
    {
     "data": {
      "text/plain": [
       "<IPython.core.display.HTML object>"
      ],
      "text/html": [
       "Run data is saved locally in <code>/Users/svengerloff/Library/Mobile Documents/com~apple~CloudDocs/Documents/Uni/TU_WIEN/WS2024_25/NLP/online_sexism_detection/milestone_2/wandb/run-20241208_124347-ju2t44hk</code>"
      ]
     },
     "metadata": {},
     "output_type": "display_data"
    },
    {
     "data": {
      "text/plain": [
       "<IPython.core.display.HTML object>"
      ],
      "text/html": [
       "Syncing run <strong><a href='https://wandb.ai/e52303639-tu-wien/tfidf_naive_bayes/runs/ju2t44hk' target=\"_blank\">TF-IDF_Experiments</a></strong> to <a href='https://wandb.ai/e52303639-tu-wien/tfidf_naive_bayes' target=\"_blank\">Weights & Biases</a> (<a href='https://wandb.me/developer-guide' target=\"_blank\">docs</a>)<br/>"
      ]
     },
     "metadata": {},
     "output_type": "display_data"
    },
    {
     "data": {
      "text/plain": [
       "<IPython.core.display.HTML object>"
      ],
      "text/html": [
       " View project at <a href='https://wandb.ai/e52303639-tu-wien/tfidf_naive_bayes' target=\"_blank\">https://wandb.ai/e52303639-tu-wien/tfidf_naive_bayes</a>"
      ]
     },
     "metadata": {},
     "output_type": "display_data"
    },
    {
     "data": {
      "text/plain": [
       "<IPython.core.display.HTML object>"
      ],
      "text/html": [
       " View run at <a href='https://wandb.ai/e52303639-tu-wien/tfidf_naive_bayes/runs/ju2t44hk' target=\"_blank\">https://wandb.ai/e52303639-tu-wien/tfidf_naive_bayes/runs/ju2t44hk</a>"
      ]
     },
     "metadata": {},
     "output_type": "display_data"
    },
    {
     "name": "stdout",
     "output_type": "stream",
     "text": [
      "TF-IDF Params: {'max_features': 3000, 'ngram_range': (1, 1), 'min_df': 5}\n",
      "Accuracy: 0.78975\n",
      "              precision    recall  f1-score   support\n",
      "\n",
      "           0       0.78      1.00      0.88      3030\n",
      "           1       0.94      0.14      0.25       970\n",
      "\n",
      "    accuracy                           0.79      4000\n",
      "   macro avg       0.86      0.57      0.56      4000\n",
      "weighted avg       0.82      0.79      0.72      4000\n",
      "\n",
      "TF-IDF Params: {'max_features': 5000, 'ngram_range': (1, 2), 'min_df': 5}\n",
      "Accuracy: 0.789\n",
      "              precision    recall  f1-score   support\n",
      "\n",
      "           0       0.78      1.00      0.88      3030\n",
      "           1       0.91      0.14      0.25       970\n",
      "\n",
      "    accuracy                           0.79      4000\n",
      "   macro avg       0.85      0.57      0.56      4000\n",
      "weighted avg       0.82      0.79      0.72      4000\n",
      "\n",
      "TF-IDF Params: {'max_features': 10000, 'ngram_range': (1, 3), 'min_df': 3}\n",
      "Accuracy: 0.7815\n",
      "              precision    recall  f1-score   support\n",
      "\n",
      "           0       0.78      1.00      0.87      3030\n",
      "           1       0.91      0.11      0.20       970\n",
      "\n",
      "    accuracy                           0.78      4000\n",
      "   macro avg       0.84      0.55      0.54      4000\n",
      "weighted avg       0.81      0.78      0.71      4000\n",
      "\n"
     ]
    },
    {
     "data": {
      "text/plain": [
       "<IPython.core.display.HTML object>"
      ],
      "text/html": [
       "\n",
       "    <style>\n",
       "        .wandb-row {\n",
       "            display: flex;\n",
       "            flex-direction: row;\n",
       "            flex-wrap: wrap;\n",
       "            justify-content: flex-start;\n",
       "            width: 100%;\n",
       "        }\n",
       "        .wandb-col {\n",
       "            display: flex;\n",
       "            flex-direction: column;\n",
       "            flex-basis: 100%;\n",
       "            flex: 1;\n",
       "            padding: 10px;\n",
       "        }\n",
       "    </style>\n",
       "<div class=\"wandb-row\"><div class=\"wandb-col\"><h3>Run history:</h3><br/><table class=\"wandb\"><tr><td>accuracy</td><td>█▇▁</td></tr></table><br/></div><div class=\"wandb-col\"><h3>Run summary:</h3><br/><table class=\"wandb\"><tr><td>accuracy</td><td>0.7815</td></tr></table><br/></div></div>"
      ]
     },
     "metadata": {},
     "output_type": "display_data"
    },
    {
     "data": {
      "text/plain": [
       "<IPython.core.display.HTML object>"
      ],
      "text/html": [
       " View run <strong style=\"color:#cdcd00\">TF-IDF_Experiments</strong> at: <a href='https://wandb.ai/e52303639-tu-wien/tfidf_naive_bayes/runs/ju2t44hk' target=\"_blank\">https://wandb.ai/e52303639-tu-wien/tfidf_naive_bayes/runs/ju2t44hk</a><br/> View project at: <a href='https://wandb.ai/e52303639-tu-wien/tfidf_naive_bayes' target=\"_blank\">https://wandb.ai/e52303639-tu-wien/tfidf_naive_bayes</a><br/>Synced 5 W&B file(s), 0 media file(s), 2 artifact file(s) and 0 other file(s)"
      ]
     },
     "metadata": {},
     "output_type": "display_data"
    },
    {
     "data": {
      "text/plain": [
       "<IPython.core.display.HTML object>"
      ],
      "text/html": [
       "Find logs at: <code>./wandb/run-20241208_124347-ju2t44hk/logs</code>"
      ]
     },
     "metadata": {},
     "output_type": "display_data"
    }
   ],
   "execution_count": 10
  },
  {
   "metadata": {},
   "cell_type": "markdown",
   "source": "## Word2Vec",
   "id": "cacb1650f855e570"
  },
  {
   "metadata": {
    "ExecuteTime": {
     "end_time": "2024-12-08T11:43:59.055802Z",
     "start_time": "2024-12-08T11:43:59.049603Z"
    }
   },
   "cell_type": "code",
   "source": [
    "word2vec_params_list = [\n",
    "    {'vector_size': 50, 'window': 3, 'min_count': 1, 'workers': 4},\n",
    "    {'vector_size': 100, 'window': 5, 'min_count': 2, 'workers': 4},\n",
    "    {'vector_size': 200, 'window': 7, 'min_count': 3, 'workers': 4},\n",
    "]"
   ],
   "id": "6b0094915426a33f",
   "outputs": [],
   "execution_count": 11
  },
  {
   "metadata": {
    "ExecuteTime": {
     "end_time": "2024-12-08T11:44:19.651536Z",
     "start_time": "2024-12-08T11:43:59.089204Z"
    }
   },
   "cell_type": "code",
   "source": [
    "# Initialize W&B\n",
    "wandb.init(project=\"word2vec_naive_bayes\", name=\"Word2Vec_Settings_Experiments\")\n",
    "\n",
    "def compute_word2vec_features(text_data, model, vector_size):\n",
    "    features = []\n",
    "    for sentence in text_data:\n",
    "        words = sentence.split()\n",
    "        word_vecs = [model.wv[word] for word in words if word in model.wv]\n",
    "        if word_vecs:\n",
    "            features.append(np.mean(word_vecs, axis=0))\n",
    "        else:\n",
    "            features.append(np.zeros(vector_size))\n",
    "    return np.array(features)\n",
    "\n",
    "for params in word2vec_params_list:\n",
    "    print(f\"Training Word2Vec with params: {params}\")\n",
    "    \n",
    "    # Train Word2Vec model\n",
    "    sentences = [text.split() for text in X_train]\n",
    "    word2vec_model = Word2Vec(sentences=sentences, **params)\n",
    "    \n",
    "    # Compute Word2Vec features\n",
    "    X_train_word2vec = compute_word2vec_features(X_train, word2vec_model, params['vector_size'])\n",
    "    X_test_word2vec = compute_word2vec_features(X_dev, word2vec_model, params['vector_size'])\n",
    "    \n",
    "    # Scale Word2Vec features\n",
    "    X_train_word2vec_scaled = (X_train_word2vec - X_train_word2vec.min()) * 1000\n",
    "    X_test_word2vec_scaled = (X_test_word2vec - X_test_word2vec.min()) * 1000\n",
    "\n",
    "    # Train Naive Bayes classifier\n",
    "    model = MultinomialNB()\n",
    "    model.fit(X_train_word2vec_scaled, y_train)\n",
    "    y_pred = model.predict(X_test_word2vec_scaled)\n",
    "\n",
    "    # Evaluate\n",
    "    accuracy = accuracy_score(y_dev, y_pred)\n",
    "    print(f\"Word2Vec Params: {params}\")\n",
    "    print(\"Accuracy:\", accuracy)\n",
    "    print(classification_report(y_dev, y_pred))\n",
    "\n",
    "    # Log results\n",
    "    wandb.log({\n",
    "        'word2vec_params': params,\n",
    "        'accuracy': accuracy,\n",
    "        'confusion_matrix': confusion_matrix(y_dev, y_pred).tolist(),\n",
    "        'classification_report': classification_report(y_dev, y_pred, output_dict=True)\n",
    "    })\n",
    "\n",
    "wandb.finish()"
   ],
   "id": "a8406e764207c0d0",
   "outputs": [
    {
     "data": {
      "text/plain": [
       "<IPython.core.display.HTML object>"
      ],
      "text/html": [
       "Tracking run with wandb version 0.18.7"
      ]
     },
     "metadata": {},
     "output_type": "display_data"
    },
    {
     "data": {
      "text/plain": [
       "<IPython.core.display.HTML object>"
      ],
      "text/html": [
       "Run data is saved locally in <code>/Users/svengerloff/Library/Mobile Documents/com~apple~CloudDocs/Documents/Uni/TU_WIEN/WS2024_25/NLP/online_sexism_detection/milestone_2/wandb/run-20241208_124359-8dfq5aol</code>"
      ]
     },
     "metadata": {},
     "output_type": "display_data"
    },
    {
     "data": {
      "text/plain": [
       "<IPython.core.display.HTML object>"
      ],
      "text/html": [
       "Syncing run <strong><a href='https://wandb.ai/e52303639-tu-wien/word2vec_naive_bayes/runs/8dfq5aol' target=\"_blank\">Word2Vec_Settings_Experiments</a></strong> to <a href='https://wandb.ai/e52303639-tu-wien/word2vec_naive_bayes' target=\"_blank\">Weights & Biases</a> (<a href='https://wandb.me/developer-guide' target=\"_blank\">docs</a>)<br/>"
      ]
     },
     "metadata": {},
     "output_type": "display_data"
    },
    {
     "data": {
      "text/plain": [
       "<IPython.core.display.HTML object>"
      ],
      "text/html": [
       " View project at <a href='https://wandb.ai/e52303639-tu-wien/word2vec_naive_bayes' target=\"_blank\">https://wandb.ai/e52303639-tu-wien/word2vec_naive_bayes</a>"
      ]
     },
     "metadata": {},
     "output_type": "display_data"
    },
    {
     "data": {
      "text/plain": [
       "<IPython.core.display.HTML object>"
      ],
      "text/html": [
       " View run at <a href='https://wandb.ai/e52303639-tu-wien/word2vec_naive_bayes/runs/8dfq5aol' target=\"_blank\">https://wandb.ai/e52303639-tu-wien/word2vec_naive_bayes/runs/8dfq5aol</a>"
      ]
     },
     "metadata": {},
     "output_type": "display_data"
    },
    {
     "name": "stdout",
     "output_type": "stream",
     "text": [
      "Training Word2Vec with params: {'vector_size': 50, 'window': 3, 'min_count': 1, 'workers': 4}\n",
      "Word2Vec Params: {'vector_size': 50, 'window': 3, 'min_count': 1, 'workers': 4}\n",
      "Accuracy: 0.662\n",
      "              precision    recall  f1-score   support\n",
      "\n",
      "           0       0.76      0.82      0.79      3030\n",
      "           1       0.24      0.18      0.20       970\n",
      "\n",
      "    accuracy                           0.66      4000\n",
      "   macro avg       0.50      0.50      0.49      4000\n",
      "weighted avg       0.63      0.66      0.64      4000\n",
      "\n",
      "Training Word2Vec with params: {'vector_size': 100, 'window': 5, 'min_count': 2, 'workers': 4}\n",
      "Word2Vec Params: {'vector_size': 100, 'window': 5, 'min_count': 2, 'workers': 4}\n",
      "Accuracy: 0.5085\n",
      "              precision    recall  f1-score   support\n",
      "\n",
      "           0       0.80      0.47      0.59      3030\n",
      "           1       0.27      0.63      0.38       970\n",
      "\n",
      "    accuracy                           0.51      4000\n",
      "   macro avg       0.54      0.55      0.49      4000\n",
      "weighted avg       0.67      0.51      0.54      4000\n",
      "\n",
      "Training Word2Vec with params: {'vector_size': 200, 'window': 7, 'min_count': 3, 'workers': 4}\n",
      "Word2Vec Params: {'vector_size': 200, 'window': 7, 'min_count': 3, 'workers': 4}\n",
      "Accuracy: 0.51675\n",
      "              precision    recall  f1-score   support\n",
      "\n",
      "           0       0.80      0.48      0.60      3030\n",
      "           1       0.28      0.62      0.38       970\n",
      "\n",
      "    accuracy                           0.52      4000\n",
      "   macro avg       0.54      0.55      0.49      4000\n",
      "weighted avg       0.67      0.52      0.55      4000\n",
      "\n"
     ]
    },
    {
     "data": {
      "text/plain": [
       "<IPython.core.display.HTML object>"
      ],
      "text/html": [
       "\n",
       "    <style>\n",
       "        .wandb-row {\n",
       "            display: flex;\n",
       "            flex-direction: row;\n",
       "            flex-wrap: wrap;\n",
       "            justify-content: flex-start;\n",
       "            width: 100%;\n",
       "        }\n",
       "        .wandb-col {\n",
       "            display: flex;\n",
       "            flex-direction: column;\n",
       "            flex-basis: 100%;\n",
       "            flex: 1;\n",
       "            padding: 10px;\n",
       "        }\n",
       "    </style>\n",
       "<div class=\"wandb-row\"><div class=\"wandb-col\"><h3>Run history:</h3><br/><table class=\"wandb\"><tr><td>accuracy</td><td>█▁▁</td></tr></table><br/></div><div class=\"wandb-col\"><h3>Run summary:</h3><br/><table class=\"wandb\"><tr><td>accuracy</td><td>0.51675</td></tr></table><br/></div></div>"
      ]
     },
     "metadata": {},
     "output_type": "display_data"
    },
    {
     "data": {
      "text/plain": [
       "<IPython.core.display.HTML object>"
      ],
      "text/html": [
       " View run <strong style=\"color:#cdcd00\">Word2Vec_Settings_Experiments</strong> at: <a href='https://wandb.ai/e52303639-tu-wien/word2vec_naive_bayes/runs/8dfq5aol' target=\"_blank\">https://wandb.ai/e52303639-tu-wien/word2vec_naive_bayes/runs/8dfq5aol</a><br/> View project at: <a href='https://wandb.ai/e52303639-tu-wien/word2vec_naive_bayes' target=\"_blank\">https://wandb.ai/e52303639-tu-wien/word2vec_naive_bayes</a><br/>Synced 4 W&B file(s), 0 media file(s), 3 artifact file(s) and 0 other file(s)"
      ]
     },
     "metadata": {},
     "output_type": "display_data"
    },
    {
     "data": {
      "text/plain": [
       "<IPython.core.display.HTML object>"
      ],
      "text/html": [
       "Find logs at: <code>./wandb/run-20241208_124359-8dfq5aol/logs</code>"
      ]
     },
     "metadata": {},
     "output_type": "display_data"
    }
   ],
   "execution_count": 12
  }
 ],
 "metadata": {
  "kernelspec": {
   "display_name": "Python 3",
   "language": "python",
   "name": "python3"
  },
  "language_info": {
   "codemirror_mode": {
    "name": "ipython",
    "version": 2
   },
   "file_extension": ".py",
   "mimetype": "text/x-python",
   "name": "python",
   "nbconvert_exporter": "python",
   "pygments_lexer": "ipython2",
   "version": "2.7.6"
  }
 },
 "nbformat": 4,
 "nbformat_minor": 5
}
