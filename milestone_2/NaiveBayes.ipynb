{
 "cells": [
  {
   "metadata": {},
   "cell_type": "markdown",
   "source": "# Naive Bayes",
   "id": "c3594d3b23d00c56"
  },
  {
   "metadata": {
    "ExecuteTime": {
     "end_time": "2024-12-09T14:36:48.662439Z",
     "start_time": "2024-12-09T14:36:48.653486Z"
    }
   },
   "cell_type": "code",
   "source": [
    "from sklearn.feature_extraction.text import TfidfVectorizer\n",
    "from sklearn.naive_bayes import MultinomialNB\n",
    "from gensim.models import Word2Vec\n",
    "from sklearn.metrics import f1_score, balanced_accuracy_score, accuracy_score, classification_report, confusion_matrix\n",
    "import wandb\n",
    "import numpy as np\n",
    "import sys\n",
    "\n",
    "# Import functions from preprocessing module\n",
    "sys.path.append('..')\n",
    "from utils.load_data import load_processed_data"
   ],
   "id": "fececd362ff02409",
   "outputs": [],
   "execution_count": 15
  },
  {
   "metadata": {},
   "cell_type": "markdown",
   "source": "## Load data",
   "id": "2b05c776e7ccdb0e"
  },
  {
   "metadata": {
    "ExecuteTime": {
     "end_time": "2024-12-08T11:43:46.850403Z",
     "start_time": "2024-12-08T11:43:46.793437Z"
    }
   },
   "cell_type": "code",
   "source": [
    "df = load_processed_data()\n",
    "train_data = df[\"train\"]\n",
    "test_data = df[\"test\"]\n",
    "dev_data = df[\"dev\"]\n",
    "\n",
    "X_train, y_train = train_data[\"lemma\"], train_data[\"label\"]\n",
    "X_test, y_test = test_data[\"lemma\"], test_data[\"label\"]\n",
    "X_dev, y_dev = dev_data[\"lemma\"], dev_data[\"label\"]"
   ],
   "id": "3ef51174fe040c27",
   "outputs": [
    {
     "name": "stdout",
     "output_type": "stream",
     "text": [
      "df: Train split loaded.\n",
      "df: Dev split loaded.\n",
      "df: Test split loaded.\n"
     ]
    }
   ],
   "execution_count": 7
  },
  {
   "metadata": {},
   "cell_type": "markdown",
   "source": "## TF-IDF",
   "id": "6e1c2e1981b02ee6"
  },
  {
   "metadata": {
    "ExecuteTime": {
     "end_time": "2024-12-09T14:37:26.893122Z",
     "start_time": "2024-12-09T14:37:26.887965Z"
    }
   },
   "cell_type": "code",
   "source": [
    "tfidf_params_list = [\n",
    "    {'max_features': 3000, 'ngram_range': (1, 1), 'min_df': 5},\n",
    "    {'max_features': 3000, 'ngram_range': (1, 2), 'min_df': 5},\n",
    "    {'max_features': 5000, 'ngram_range': (1, 1), 'min_df': 5},\n",
    "    {'max_features': 5000, 'ngram_range': (1, 2), 'min_df': 5},\n",
    "    {'max_features': 10000, 'ngram_range': (1, 1), 'min_df': 5},\n",
    "    {'max_features': 10000, 'ngram_range': (1, 2), 'min_df': 5}\n",
    "]"
   ],
   "id": "8080b9d2d6dbcb05",
   "outputs": [],
   "execution_count": 17
  },
  {
   "metadata": {
    "ExecuteTime": {
     "end_time": "2024-12-09T14:39:23.195193Z",
     "start_time": "2024-12-09T14:39:13.767909Z"
    }
   },
   "cell_type": "code",
   "source": [
    "wandb.init(project=\"online_sexism_detection\", name=\"tfidf_naive_bayes\")\n",
    "\n",
    "for tfidf_params in tfidf_params_list:\n",
    "    vectorizer = TfidfVectorizer(**tfidf_params)\n",
    "    X_train_tfidf = vectorizer.fit_transform(X_train)\n",
    "    X_dev_tfidf = vectorizer.transform(X_dev)\n",
    "\n",
    "    # Train Naive Bayes classifier\n",
    "    model = MultinomialNB()\n",
    "    model.fit(X_train_tfidf, y_train)\n",
    "    y_pred = model.predict(X_dev_tfidf)\n",
    "\n",
    "    # Evaluate\n",
    "    accuracy = accuracy_score(y_dev, y_pred)\n",
    "    print(f\"TF-IDF Params: {tfidf_params}\")\n",
    "    print(\"Accuracy:\", accuracy)\n",
    "    print(classification_report(y_dev, y_pred))\n",
    "\n",
    "    # Log results\n",
    "    wandb.log({\n",
    "        'tfidf_params': tfidf_params,\n",
    "        \"f1\": f1_score(y_dev, y_pred),\n",
    "        \"balanced_accuracy\": balanced_accuracy_score(y_dev, y_pred),\n",
    "        \"accuracy\": accuracy_score(y_dev, y_pred),\n",
    "    })\n",
    "\n",
    "wandb.finish()"
   ],
   "id": "34b5e8fdaaf10303",
   "outputs": [
    {
     "data": {
      "text/plain": [
       "<IPython.core.display.HTML object>"
      ],
      "text/html": [
       "Tracking run with wandb version 0.18.7"
      ]
     },
     "metadata": {},
     "output_type": "display_data"
    },
    {
     "data": {
      "text/plain": [
       "<IPython.core.display.HTML object>"
      ],
      "text/html": [
       "Run data is saved locally in <code>/Users/svengerloff/Library/Mobile Documents/com~apple~CloudDocs/Documents/Uni/TU_WIEN/WS2024_25/NLP/online_sexism_detection/milestone_2/wandb/run-20241209_153913-jze1e9qf</code>"
      ]
     },
     "metadata": {},
     "output_type": "display_data"
    },
    {
     "data": {
      "text/plain": [
       "<IPython.core.display.HTML object>"
      ],
      "text/html": [
       "Syncing run <strong><a href='https://wandb.ai/online_sexism_detection/online_sexism_detection/runs/jze1e9qf' target=\"_blank\">tfidf_naive_bayes</a></strong> to <a href='https://wandb.ai/online_sexism_detection/online_sexism_detection' target=\"_blank\">Weights & Biases</a> (<a href='https://wandb.me/developer-guide' target=\"_blank\">docs</a>)<br/>"
      ]
     },
     "metadata": {},
     "output_type": "display_data"
    },
    {
     "data": {
      "text/plain": [
       "<IPython.core.display.HTML object>"
      ],
      "text/html": [
       " View project at <a href='https://wandb.ai/online_sexism_detection/online_sexism_detection' target=\"_blank\">https://wandb.ai/online_sexism_detection/online_sexism_detection</a>"
      ]
     },
     "metadata": {},
     "output_type": "display_data"
    },
    {
     "data": {
      "text/plain": [
       "<IPython.core.display.HTML object>"
      ],
      "text/html": [
       " View run at <a href='https://wandb.ai/online_sexism_detection/online_sexism_detection/runs/jze1e9qf' target=\"_blank\">https://wandb.ai/online_sexism_detection/online_sexism_detection/runs/jze1e9qf</a>"
      ]
     },
     "metadata": {},
     "output_type": "display_data"
    },
    {
     "name": "stdout",
     "output_type": "stream",
     "text": [
      "TF-IDF Params: {'max_features': 3000, 'ngram_range': (1, 1), 'min_df': 5}\n",
      "Accuracy: 0.7905\n",
      "              precision    recall  f1-score   support\n",
      "\n",
      "           0       0.79      1.00      0.88      1514\n",
      "           1       0.92      0.15      0.26       486\n",
      "\n",
      "    accuracy                           0.79      2000\n",
      "   macro avg       0.85      0.57      0.57      2000\n",
      "weighted avg       0.82      0.79      0.73      2000\n",
      "\n",
      "TF-IDF Params: {'max_features': 3000, 'ngram_range': (1, 2), 'min_df': 5}\n",
      "Accuracy: 0.7965\n",
      "              precision    recall  f1-score   support\n",
      "\n",
      "           0       0.79      0.99      0.88      1514\n",
      "           1       0.90      0.18      0.30       486\n",
      "\n",
      "    accuracy                           0.80      2000\n",
      "   macro avg       0.85      0.59      0.59      2000\n",
      "weighted avg       0.82      0.80      0.74      2000\n",
      "\n",
      "TF-IDF Params: {'max_features': 5000, 'ngram_range': (1, 1), 'min_df': 5}\n",
      "Accuracy: 0.7855\n",
      "              precision    recall  f1-score   support\n",
      "\n",
      "           0       0.78      0.99      0.88      1514\n",
      "           1       0.89      0.13      0.23       486\n",
      "\n",
      "    accuracy                           0.79      2000\n",
      "   macro avg       0.84      0.56      0.55      2000\n",
      "weighted avg       0.81      0.79      0.72      2000\n",
      "\n",
      "TF-IDF Params: {'max_features': 5000, 'ngram_range': (1, 2), 'min_df': 5}\n",
      "Accuracy: 0.7895\n",
      "              precision    recall  f1-score   support\n",
      "\n",
      "           0       0.78      1.00      0.88      1514\n",
      "           1       0.91      0.15      0.25       486\n",
      "\n",
      "    accuracy                           0.79      2000\n",
      "   macro avg       0.85      0.57      0.57      2000\n",
      "weighted avg       0.82      0.79      0.73      2000\n",
      "\n",
      "TF-IDF Params: {'max_features': 10000, 'ngram_range': (1, 1), 'min_df': 5}\n",
      "Accuracy: 0.7855\n",
      "              precision    recall  f1-score   support\n",
      "\n",
      "           0       0.78      0.99      0.88      1514\n",
      "           1       0.89      0.13      0.23       486\n",
      "\n",
      "    accuracy                           0.79      2000\n",
      "   macro avg       0.84      0.56      0.55      2000\n",
      "weighted avg       0.81      0.79      0.72      2000\n",
      "\n",
      "TF-IDF Params: {'max_features': 10000, 'ngram_range': (1, 2), 'min_df': 5}\n",
      "Accuracy: 0.7825\n",
      "              precision    recall  f1-score   support\n",
      "\n",
      "           0       0.78      0.99      0.87      1514\n",
      "           1       0.87      0.12      0.22       486\n",
      "\n",
      "    accuracy                           0.78      2000\n",
      "   macro avg       0.82      0.56      0.54      2000\n",
      "weighted avg       0.80      0.78      0.71      2000\n",
      "\n"
     ]
    },
    {
     "data": {
      "text/plain": [
       "<IPython.core.display.HTML object>"
      ],
      "text/html": [
       "\n",
       "    <style>\n",
       "        .wandb-row {\n",
       "            display: flex;\n",
       "            flex-direction: row;\n",
       "            flex-wrap: wrap;\n",
       "            justify-content: flex-start;\n",
       "            width: 100%;\n",
       "        }\n",
       "        .wandb-col {\n",
       "            display: flex;\n",
       "            flex-direction: column;\n",
       "            flex-basis: 100%;\n",
       "            flex: 1;\n",
       "            padding: 10px;\n",
       "        }\n",
       "    </style>\n",
       "<div class=\"wandb-row\"><div class=\"wandb-col\"><h3>Run history:</h3><br/><table class=\"wandb\"><tr><td>accuracy</td><td>▅█▂▄▂▁</td></tr><tr><td>balanced_accuracy</td><td>▄█▂▄▂▁</td></tr><tr><td>f1</td><td>▄█▂▄▂▁</td></tr></table><br/></div><div class=\"wandb-col\"><h3>Run summary:</h3><br/><table class=\"wandb\"><tr><td>accuracy</td><td>0.7825</td></tr><tr><td>balanced_accuracy</td><td>0.55876</td></tr><tr><td>f1</td><td>0.21622</td></tr></table><br/></div></div>"
      ]
     },
     "metadata": {},
     "output_type": "display_data"
    },
    {
     "data": {
      "text/plain": [
       "<IPython.core.display.HTML object>"
      ],
      "text/html": [
       " View run <strong style=\"color:#cdcd00\">tfidf_naive_bayes</strong> at: <a href='https://wandb.ai/online_sexism_detection/online_sexism_detection/runs/jze1e9qf' target=\"_blank\">https://wandb.ai/online_sexism_detection/online_sexism_detection/runs/jze1e9qf</a><br/> View project at: <a href='https://wandb.ai/online_sexism_detection/online_sexism_detection' target=\"_blank\">https://wandb.ai/online_sexism_detection/online_sexism_detection</a><br/>Synced 5 W&B file(s), 0 media file(s), 2 artifact file(s) and 0 other file(s)"
      ]
     },
     "metadata": {},
     "output_type": "display_data"
    },
    {
     "data": {
      "text/plain": [
       "<IPython.core.display.HTML object>"
      ],
      "text/html": [
       "Find logs at: <code>./wandb/run-20241209_153913-jze1e9qf/logs</code>"
      ]
     },
     "metadata": {},
     "output_type": "display_data"
    }
   ],
   "execution_count": 18
  },
  {
   "metadata": {},
   "cell_type": "code",
   "outputs": [],
   "execution_count": null,
   "source": "",
   "id": "4828aacb8b7322fb"
  }
 ],
 "metadata": {
  "kernelspec": {
   "display_name": "Python 3",
   "language": "python",
   "name": "python3"
  },
  "language_info": {
   "codemirror_mode": {
    "name": "ipython",
    "version": 2
   },
   "file_extension": ".py",
   "mimetype": "text/x-python",
   "name": "python",
   "nbconvert_exporter": "python",
   "pygments_lexer": "ipython2",
   "version": "2.7.6"
  }
 },
 "nbformat": 4,
 "nbformat_minor": 5
}
